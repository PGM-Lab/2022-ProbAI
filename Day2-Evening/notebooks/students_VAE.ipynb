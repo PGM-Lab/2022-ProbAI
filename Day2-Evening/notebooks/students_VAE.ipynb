{
  "nbformat": 4,
  "nbformat_minor": 0,
  "metadata": {
    "colab": {
      "name": "VAE.ipynb",
      "provenance": [],
      "toc_visible": true,
      "include_colab_link": true
    },
    "language_info": {
      "name": "python"
    },
    "kernelspec": {
      "name": "python3",
      "display_name": "Python 3"
    },
    "accelerator": "GPU"
  },
  "cells": [
    {
      "cell_type": "markdown",
      "metadata": {
        "id": "view-in-github",
        "colab_type": "text"
      },
      "source": [
        "<a href=\"https://colab.research.google.com/github/PGM-Lab/2022-ProbAI/blob/main/Day2-Evening/notebooks/students_VAE.ipynb\" target=\"_parent\"><img src=\"https://colab.research.google.com/assets/colab-badge.svg\" alt=\"Open In Colab\"/></a>"
      ]
    },
    {
      "cell_type": "markdown",
      "metadata": {
        "id": "wtZLhDvtfCrP"
      },
      "source": [
        "# Adapt the variational auto encoder\n",
        "\n",
        "Below you will find an implementation of a VAE for the MNIST data. To allow for faster learning time, we only consider the digits 0,1, and 2 and only the first 100 samples of those digits.\n",
        "\n",
        "In this exercise, you should familiarize yourself with the implementation below and experiment with the structure of the VAE specification in order to emphasize digit separation in the latent space and the generation of images when sampling from the latent space.\n",
        "\n",
        "Part of the implementation is based on code from the official Pyro examples."
      ]
    },
    {
      "cell_type": "code",
      "metadata": {
        "id": "JsT1zW1sfCrT"
      },
      "source": [
        "!pip install -q --upgrade pyro-ppl torch\n",
        "\n",
        "import numpy as np\n",
        "import torch\n",
        "import torchvision.datasets as datasets\n",
        "import torch.nn as nn\n",
        "import torchvision.transforms as transforms\n",
        "import pyro\n",
        "import pyro.distributions as dist\n",
        "from pyro.infer import SVI, Trace_ELBO\n",
        "from pyro.optim import Adam\n",
        "import datetime\n",
        "import os\n",
        "import matplotlib.gridspec as gridspec\n",
        "from matplotlib import pyplot\n",
        "import matplotlib.pyplot as plt\n",
        "from scipy.stats import norm\n",
        "\n",
        "import ssl\n",
        "ssl._create_default_https_context = ssl._create_unverified_context"
      ],
      "execution_count": 89,
      "outputs": []
    },
    {
      "cell_type": "markdown",
      "metadata": {
        "id": "4cHlQ9xEfCrU"
      },
      "source": [
        "### Get the MNIST data\n"
      ]
    },
    {
      "cell_type": "code",
      "metadata": {
        "scrolled": true,
        "id": "y2Y0vokLfCrU"
      },
      "source": [
        "data = datasets.MNIST('./data', train=True, download=True)\n",
        "\n",
        "# We only select the digits 0, 1, and 2 and only the first 100 of each of these\n",
        "# digits\n",
        "\n",
        "selector = np.array([], dtype=int)\n",
        "for i in [5, 6, 7]:\n",
        "    selector = np.concatenate((selector, np.where(data.targets == i)[0][:100]))\n",
        "data.data = data.data[selector, :, :]\n",
        "data.targets = data.targets[selector]\n",
        "\n",
        "# Binarize the data\n",
        "data.data[data.data<128] = 0\n",
        "data.data[data.data>=128] = 1\n",
        "\n",
        "data.data = data.data.type(torch.float)\n",
        "data.data = data.data.reshape(300,-1)"
      ],
      "execution_count": 90,
      "outputs": []
    },
    {
      "cell_type": "code",
      "metadata": {
        "id": "FXyb663MfCrU",
        "colab": {
          "base_uri": "https://localhost:8080/",
          "height": 248
        },
        "outputId": "48e268cd-a125-485b-a409-e5431989bf22"
      },
      "source": [
        "def display_image(x):\n",
        "    plt.axis('off')\n",
        "    plt.imshow(x.reshape((28, 28)), cmap=\"gray\")\n",
        "\n",
        "toy_image = data.data[0,:]\n",
        "display_image(toy_image)"
      ],
      "execution_count": 91,
      "outputs": [
        {
          "output_type": "display_data",
          "data": {
            "text/plain": [
              "<Figure size 432x288 with 1 Axes>"
            ],
            "image/png": "[encoded data removed]"
          },
          "metadata": {
            "needs_background": "light"
          }
        }
      ]
    },
    {
      "cell_type": "markdown",
      "metadata": {
        "id": "3iPRoMFgfCrZ"
      },
      "source": [
        "# Defining a VAE in Pyro\n",
        "\n",
        "In the following implementation, the econder and decoder networks are provided as a paramter to the VAE."
      ]
    },
    {
      "cell_type": "code",
      "metadata": {
        "id": "6_jKIv68fCrZ"
      },
      "source": [
        "class VAE(nn.Module):\n",
        "    def __init__(self, z_dim, encoder, decoder, use_cuda=True):\n",
        "        super(VAE, self).__init__()\n",
        "        # set the encoder and decoder networks\n",
        "        self.encoder = encoder\n",
        "        self.decoder = decoder\n",
        "        \n",
        "        self.z_dim = z_dim\n",
        "\n",
        "    # define the model p(x|z)p(z)\n",
        "    def model(self, x):\n",
        "        # register PyTorch module `decoder` with Pyro\n",
        "        pyro.module(\"decoder\", self.decoder)\n",
        "        with pyro.plate(\"data\", x.shape[0]):\n",
        "            # setup hyperparameters for prior p(z)\n",
        "            z_loc = x.new_zeros(torch.Size((x.shape[0], self.z_dim)))\n",
        "            z_scale = x.new_ones(torch.Size((x.shape[0], self.z_dim)))\n",
        "            # sample from prior (value will be sampled by guide when computing the ELBO)\n",
        "            z = pyro.sample(\"latent\", dist.Normal(z_loc, z_scale).to_event(1))\n",
        "            # decode the latent code z\n",
        "            loc_img = self.decoder.forward(z)\n",
        "            # score against actual images\n",
        "            pyro.sample(\"obs\", dist.Bernoulli(logits=loc_img).to_event(1), obs=x.reshape(-1, 784))\n",
        "            #pyro.sample(\"obs\", dist.Bernoulli(loc_img).to_event(1), obs=x.reshape(-1, 784))\n",
        "\n",
        "    # define the guide (i.e. variational distribution) q(z|x)\n",
        "    def guide(self, x):\n",
        "        # register PyTorch module `encoder` with Pyro\n",
        "        pyro.module(\"encoder\", self.encoder)\n",
        "        with pyro.plate(\"data\", x.shape[0]):\n",
        "            # use the encoder to get the parameters used to define q(z|x)\n",
        "            z_loc, z_scale = self.encoder.forward(x)\n",
        "            # sample the latent code z\n",
        "            pyro.sample(\"latent\", dist.Normal(z_loc, z_scale).to_event(1))\n",
        "\n",
        "    # define a helper function for reconstructing images\n",
        "    def reconstruct_img(self, x):\n",
        "        # encode image x\n",
        "        z_loc, z_scale = self.encoder(x)\n",
        "        # sample in latent space\n",
        "        z = dist.Normal(z_loc, z_scale).sample()\n",
        "        # decode the image (note we don't sample in image space)\n",
        "        loc_img = self.decoder(z)\n",
        "        return loc_img\n",
        "\n",
        "    def sample_image(self, z):\n",
        "        loc_img = self.decoder.forward(z)\n",
        "        return dist.Bernoulli(logits=loc_img).sample()\n",
        "\n",
        "\n",
        "    def sample_images(self, dim=10):\n",
        "\n",
        "        plt.figure(figsize=(dim, dim))\n",
        "        gs1 = gridspec.GridSpec(dim, dim)\n",
        "        gs1.update(wspace=0.025, hspace=0.05)  # set the spacing between axes.\n",
        "\n",
        "        z_1 = norm.ppf(np.linspace(0.00001, 0.99999, dim), loc=0, scale=1)\n",
        "        z_2 = norm.ppf(np.linspace(0.00001, 0.99999, dim), loc=0, scale=1)\n",
        "        for j in range(dim):\n",
        "            for i in range(dim):\n",
        "                x_val = self.decoder.forward(torch.tensor([z_1[i], z_2[j]], dtype=torch.float32))\n",
        "                plt.subplot(gs1[i*dim+j])\n",
        "                plt.axis('off')\n",
        "                plt.imshow(x_val.detach().numpy().reshape((28, 28)), cmap=\"gray_r\")\n",
        "        plt.show()"
      ],
      "execution_count": 92,
      "outputs": []
    },
    {
      "cell_type": "markdown",
      "source": [
        "# Defining the Encoder\n",
        "\n"
      ],
      "metadata": {
        "id": "p6QS-heeBE2-"
      }
    },
    {
      "cell_type": "code",
      "metadata": {
        "id": "qnNSDbvofCrY"
      },
      "source": [
        "class Encoder(nn.Module):\n",
        "    def __init__(self, z_dim, hidden_dim):\n",
        "        super(Encoder, self).__init__()\n",
        "        # setup the three linear transformations used\n",
        "        self.fc1 = nn.Linear(784, hidden_dim)\n",
        "        self.fc21 = nn.Linear(hidden_dim, z_dim)\n",
        "        self.fc22 = nn.Linear(hidden_dim, z_dim)\n",
        "        # setup the non-linearities\n",
        "        self.non_linearity = nn.ReLU()\n",
        "\n",
        "    def forward(self, x):\n",
        "        # define the forward computation on the image x\n",
        "        # first shape the mini-batch to have pixels in the rightmost dimension\n",
        "        x = x.reshape(-1, 784)\n",
        "        # then compute the hidden units\n",
        "        hidden = self.non_linearity(self.fc1(x))\n",
        "        # then return a mean vector and a (positive) square root covariance\n",
        "        # each of size batch_size x z_dim\n",
        "        z_loc = self.fc21(hidden)\n",
        "        z_scale = torch.exp(self.fc22(hidden))\n",
        "        return z_loc, z_scale"
      ],
      "execution_count": 93,
      "outputs": []
    },
    {
      "cell_type": "markdown",
      "metadata": {
        "id": "tNxWgQVtfCrW"
      },
      "source": [
        "# Defining the Decoder"
      ]
    },
    {
      "cell_type": "markdown",
      "source": [
        "## A Linear Decoder\n",
        "\n",
        "The following code define a linear decoder (i.e. a linear mapping) between the latent representation $z$ and the output space $x$"
      ],
      "metadata": {
        "id": "ZXaj5hQJ_-Zg"
      }
    },
    {
      "cell_type": "code",
      "metadata": {
        "id": "tFe4aDdgfCrW"
      },
      "source": [
        "class LinearDecoder(nn.Module):\n",
        "    def __init__(self, z_dim):\n",
        "        super(LinearDecoder, self).__init__()\n",
        "        # setup the two linear transformations used\n",
        "        self.fc1 = nn.Linear(z_dim, 784)\n",
        "\n",
        "    def forward(self, z):\n",
        "        # define the forward computation on the latent z\n",
        "\n",
        "        # return the parameter for the output Bernoulli\n",
        "        logits_img = self.fc1(z)\n",
        "\n",
        "        return logits_img"
      ],
      "execution_count": 94,
      "outputs": []
    },
    {
      "cell_type": "markdown",
      "source": [
        "## **Exercise 1: Define a Non-Linear Decoder**\n",
        "\n",
        "1. Define as decoder network a MLP with a hidden layer and a non-linear function (e.g. Relu). \n",
        "\n",
        "2. The number of the number of hidden units should be parametrized."
      ],
      "metadata": {
        "id": "cTDnjNrFBuhu"
      }
    },
    {
      "cell_type": "code",
      "source": [
        "class NonLinearDecoder(nn.Module):\n",
        "    def __init__(self, z_dim, hidden_dim):\n",
        "        super(NonLinearDecoder, self).__init__()\n",
        "        \n",
        "        # Define the first layer\n",
        "        self.fc1 = nn.Linear(z_dim, hidden_dim)\n",
        "        \n",
        "        # Define the second layer\n",
        "        \n",
        "        # Define the non-linearities\n",
        "        self.non_linearity = nn.ReLU()\n",
        "\n",
        "    def forward(self, z):\n",
        "        # define the forward computation on the latent z\n",
        "\n",
        "        # first compute the hidden units\n",
        "        hidden = self.fc1(z)\n",
        "        \n",
        "        # return the parameter for the output Bernoulli\n",
        "        logits_img = 0 #??? \n",
        "\n",
        "        return logits_img"
      ],
      "metadata": {
        "id": "7XiAZytt1x41"
      },
      "execution_count": 102,
      "outputs": []
    },
    {
      "cell_type": "markdown",
      "source": [
        "# Training a VAE in Pyro"
      ],
      "metadata": {
        "id": "GBQ-eM3YAz4H"
      }
    },
    {
      "cell_type": "markdown",
      "metadata": {
        "id": "JUcFqtTcfCra"
      },
      "source": [
        "### Setup training (single epoch)"
      ]
    },
    {
      "cell_type": "code",
      "metadata": {
        "id": "rVlgOvKlfCra"
      },
      "source": [
        "def train(svi, data):\n",
        "\n",
        "    epoch_loss = svi.step(data)\n",
        "\n",
        "    # return epoch loss\n",
        "    normalizer_train = len(data)\n",
        "    total_epoch_loss_train = epoch_loss / normalizer_train\n",
        "    return total_epoch_loss_train"
      ],
      "execution_count": 96,
      "outputs": []
    },
    {
      "cell_type": "markdown",
      "metadata": {
        "id": "TJ2TYH7jfCrb"
      },
      "source": [
        "### Perform learning"
      ]
    },
    {
      "cell_type": "code",
      "metadata": {
        "id": "4hDagpv8fCrb",
        "colab": {
          "base_uri": "https://localhost:8080/",
          "height": 626
        },
        "outputId": "2ca7ac38-d740-49dd-a6b4-e5e8bcbe37e2"
      },
      "source": [
        "# For reproducibility\n",
        "np.random.seed(123)\n",
        "torch.manual_seed(123)\n",
        "\n",
        "z_dim=2\n",
        "\n",
        "vae = VAE(z_dim, encoder = Encoder(z_dim, hidden_dim=500), decoder = LinearDecoder(z_dim))\n",
        "#vae = VAE(z_dim, encoder = Encoder(z_dim, hidden_dim=500), decoder = NonLinearDecoder(z_dim, hidden_dim=10))\n",
        "\n",
        "# Run options\n",
        "LEARNING_RATE = 0.01\n",
        "\n",
        "# Number of learning epochs\n",
        "NUM_EPOCHS = 2000\n",
        "\n",
        "# clear param store\n",
        "pyro.clear_param_store()\n",
        "\n",
        "# setup the optimizer\n",
        "adam_args = {\"lr\": LEARNING_RATE}\n",
        "optimizer = Adam(adam_args)\n",
        "\n",
        "# setup the inference algorithm\n",
        "svi = SVI(vae.model, vae.guide, optimizer, loss=Trace_ELBO())\n",
        "train_elbo = []\n",
        "# training loop\n",
        "for epoch in range(NUM_EPOCHS):\n",
        "    total_epoch_loss_train = train(svi, data.data)\n",
        "    train_elbo.append(-total_epoch_loss_train)\n",
        "    if (epoch % 100) == 0:\n",
        "        print(\"[epoch %03d] average training loss: %.4f\" % (epoch, total_epoch_loss_train))\n",
        "\n",
        "plt.plot(range(len(train_elbo)), train_elbo)\n",
        "plt.xlabel(\"Number of iterations\")\n",
        "plt.ylabel(\"ELBO\")\n",
        "plt.show()"
      ],
      "execution_count": 97,
      "outputs": [
        {
          "output_type": "stream",
          "name": "stdout",
          "text": [
            "[epoch 000] average training loss: 579.4560\n",
            "[epoch 100] average training loss: 210.5405\n",
            "[epoch 200] average training loss: 184.1442\n",
            "[epoch 300] average training loss: 177.3236\n",
            "[epoch 400] average training loss: 173.5897\n",
            "[epoch 500] average training loss: 170.9770\n",
            "[epoch 600] average training loss: 168.5690\n",
            "[epoch 700] average training loss: 166.9320\n",
            "[epoch 800] average training loss: 165.6451\n",
            "[epoch 900] average training loss: 164.4578\n",
            "[epoch 1000] average training loss: 163.5445\n",
            "[epoch 1100] average training loss: 162.6277\n",
            "[epoch 1200] average training loss: 162.0545\n",
            "[epoch 1300] average training loss: 161.2555\n",
            "[epoch 1400] average training loss: 160.7769\n",
            "[epoch 1500] average training loss: 160.4194\n",
            "[epoch 1600] average training loss: 159.8247\n",
            "[epoch 1700] average training loss: 159.4247\n",
            "[epoch 1800] average training loss: 159.0766\n",
            "[epoch 1900] average training loss: 158.7533\n"
          ]
        },
        {
          "output_type": "display_data",
          "data": {
            "text/plain": [
              "<Figure size 432x288 with 1 Axes>"
            ],
            "image/png": "[encoded data removed]"
          },
          "metadata": {
            "needs_background": "light"
          }
        }
      ]
    },
    {
      "cell_type": "markdown",
      "metadata": {
        "id": "nixDOYYYfCrc"
      },
      "source": [
        "# Plot the data in the latent space"
      ]
    },
    {
      "cell_type": "code",
      "metadata": {
        "scrolled": true,
        "id": "W5LqV8yYfCrc",
        "colab": {
          "base_uri": "https://localhost:8080/",
          "height": 283
        },
        "outputId": "545dec85-ea8f-4de6-b55e-275deaab4c73"
      },
      "source": [
        "z_loc, z_scale = vae.encoder(data.data)\n",
        "\n",
        "legends = [\"Digit 5\", \"Digit 6\", \"Digit 7\"]\n",
        "z_loc = z_loc.detach().numpy()\n",
        "\n",
        "for idx, i in enumerate([5,6,7]):\n",
        "    plt.scatter(z_loc[data.targets.numpy()==i,0], z_loc[data.targets.numpy()==i,1], label=legends[idx])\n",
        "\n",
        "plt.xlabel(r\"$Z_0$\")\n",
        "plt.ylabel(r\"$Z_1$\")\n",
        "plt.legend()\n",
        "plt.show()"
      ],
      "execution_count": 100,
      "outputs": [
        {
          "output_type": "display_data",
          "data": {
            "text/plain": [
              "<Figure size 432x288 with 1 Axes>"
            ],
            "image/png": "[encoded data removed]"
          },
          "metadata": {
            "needs_background": "light"
          }
        }
      ]
    },
    {
      "cell_type": "markdown",
      "source": [
        "# **Exercise 2: Explore the latent space**\n",
        "\n",
        "1. Look at the figure above where the latent space is plotted. \n",
        "2. Choose the coordinates of some part of the latent space (e.g. ($Z_0= 0,Z_1= 0$)). \n",
        "3. Sample images from this part of the latent space\n",
        "4. Compare the quality of the samples when moving from a linear to a non-linear decoder. \n",
        "5. Explore what happens when we increase the capacity of the non-linear decoder (i.e we increase the number of hidden units). "
      ],
      "metadata": {
        "id": "4mGQnwWnDKXh"
      }
    },
    {
      "cell_type": "code",
      "source": [
        "# Z = (Z_0, Z_1)\n",
        "z=torch.tensor([[-2,0]], dtype=torch.float32)\n",
        "\n",
        "# Pass Z through the decoder network\n",
        "logits = vae.decoder.forward(z)\n",
        "\n",
        "# Bernoulli distribution over images\n",
        "distribution_over_images = dist.Bernoulli(logits=logits)\n",
        "\n",
        "\n",
        "f, ax = plt.subplots(1, 6, figsize=(40, 40), sharex=True)\n",
        "plt.axis('off')\n",
        "ax[0].imshow(distribution_over_images.mean.detach().numpy().reshape((28, 28)), cmap=\"gray\")\n",
        "ax[0].set_xlabel('Mean of Distribution')\n",
        "for i in range(1,6):\n",
        "  ax[i].imshow(distribution_over_images.sample().detach().numpy().reshape((28, 28)), cmap=\"gray\")\n",
        "  ax[i].set_xlabel('Sample '+str(i))\n",
        "plt.show()\n",
        "\n",
        "\n"
      ],
      "metadata": {
        "id": "msm2JO0b090g",
        "outputId": "6e0998f1-c891-484e-a34c-781ce4b54ef9",
        "colab": {
          "base_uri": "https://localhost:8080/",
          "height": 360
        }
      },
      "execution_count": 101,
      "outputs": [
        {
          "output_type": "display_data",
          "data": {
            "text/plain": [
              "<Figure size 2880x2880 with 6 Axes>"
            ],
            "image/png": "[encoded data removed]"
          },
          "metadata": {
            "needs_background": "light"
          }
        }
      ]
    }
  ]
}