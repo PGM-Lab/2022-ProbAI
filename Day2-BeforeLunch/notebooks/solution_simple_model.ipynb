{
  "cells": [
    {
      "cell_type": "markdown",
      "metadata": {
        "id": "view-in-github",
        "colab_type": "text"
      },
      "source": [
        "<a href=\"https://colab.research.google.com/github/PGM-Lab/2022-ProbAI/blob/main/Day2-BeforeLunch/notebooks/solution_simple_model.ipynb\" target=\"_parent\"><img src=\"https://colab.research.google.com/assets/colab-badge.svg\" alt=\"Open In Colab\"/></a>"
      ]
    },
    {
      "cell_type": "markdown",
      "metadata": {
        "id": "khKi5Kpyh3Po"
      },
      "source": [
        "# Exercise\n",
        "\n",
        "<center>\n",
        "<img src=\"https://github.com/PGM-Lab/2022-ProbAI/raw/main/Day2-BeforeLunch/notebooks/Figures/students_simple_model.png\" alt=\"Drawing\" width=\"650\">\n",
        "</center>\n"
      ]
    },
    {
      "cell_type": "markdown",
      "metadata": {
        "id": "nIxiDUQfh3Pr"
      },
      "source": [
        "### Imports"
      ]
    },
    {
      "cell_type": "code",
      "execution_count": 1,
      "metadata": {
        "id": "spxajQOGh3Ps"
      },
      "outputs": [],
      "source": [
        "import numpy as np\n",
        "from scipy import special, stats\n",
        "import matplotlib.pyplot as plt\n",
        "%matplotlib notebook"
      ]
    },
    {
      "cell_type": "markdown",
      "metadata": {
        "id": "L2gwpsEMh3Pt"
      },
      "source": [
        "### Startup: Define priors, and sample artificial training data"
      ]
    },
    {
      "cell_type": "code",
      "execution_count": 33,
      "metadata": {
        "id": "opTUXGnIh3Pt"
      },
      "outputs": [],
      "source": [
        "# Define priors\n",
        "alpha_prior, beta_prior = 1E-2, 1E-2   # Parameters for the prior over gamma\n",
        "mu_prior = 0 # A priori mean for mu\n",
        "tau_prior = 1E-6  # A priori precision for mu\n",
        "\n",
        "# Sample data\n",
        "np.random.seed(123)\n",
        "N = 100\n",
        "correct_mean = 5\n",
        "correct_precision = 1\n",
        "x = np.random.normal(loc=correct_mean, scale=1./np.sqrt(correct_precision), size=N)"
      ]
    },
    {
      "cell_type": "markdown",
      "metadata": {
        "id": "mBHQ4YWoh3Pt"
      },
      "source": [
        "## Helper-routine: Make plot of density"
      ]
    },
    {
      "cell_type": "code",
      "execution_count": 31,
      "metadata": {
        "id": "0WYMplwah3Pu"
      },
      "outputs": [],
      "source": [
        "#@title\n",
        "def plot_density(posterior_mean_mu, posterior_prec_mu,\n",
        "                   posterior_alpha_gamma, posterior_beta_gamma,\n",
        "                   correct_mean, correct_precision):\n",
        "    mu_range = np.linspace(-15,15, 500).astype(np.float32)\n",
        "    precision_range = np.linspace(1E-2, 3, 500).astype(np.float32)\n",
        "    mu_mesh, precision_mesh = np.meshgrid(mu_range, precision_range)\n",
        "    variational_log_pdf = \\\n",
        "        stats.norm.logpdf(mu_mesh, loc=posterior_mean_mu, scale=1. / np.sqrt(posterior_prec_mu)) + \\\n",
        "        stats.gamma.logpdf(x=precision_mesh,\n",
        "                           a=posterior_alpha_gamma,\n",
        "                           scale=1. / posterior_beta_gamma)\n",
        "    plt.figure()\n",
        "    plt.contour(mu_mesh, precision_mesh, variational_log_pdf, 25)\n",
        "    plt.plot(correct_mean, correct_precision, \"bo\")\n",
        "    plt.title('Density over $(\\mu, \\\\tau)$. Blue dot: True parameters')\n",
        "    plt.xlabel(\"Mean $\\mu$\")\n",
        "    plt.ylabel(\"Precision $\\\\tau$\")"
      ]
    },
    {
      "cell_type": "markdown",
      "metadata": {
        "id": "pU5flZ_sh3Pu"
      },
      "source": [
        "## Helper-routine: Calculate ELBO"
      ]
    },
    {
      "cell_type": "code",
      "execution_count": 5,
      "metadata": {
        "id": "gi8hKiW0h3Pv",
        "cellView": "form"
      },
      "outputs": [],
      "source": [
        "#@title\n",
        "def calculate_ELBO(data, tau, alpha, beta, nu_p, tau_p, alpha_p, beta_p):\n",
        "    \"\"\"\n",
        "    Helper routine: Calculate ELBO. Data is the sampled x-values, anything without a _p relates to the prior,\n",
        "    everything _with_ a _p relates to the variational posterior.\n",
        "    Note that we have no nu without a _p; we are simplifying by forcing this to be zero a priori\n",
        "\n",
        "    Note: This function obviously only works when the model is as in this code challenge,\n",
        "    and is not a general solution.\n",
        "\n",
        "    :param data: The sampled data\n",
        "    :param tau: prior precision for mu, the mean for the data generation\n",
        "    :param alpha: prior shape of dist for gamma, the precision  of the data generation\n",
        "    :param beta: prior rate of dist for gamma, the precision  of the data generation\n",
        "    :param nu_p: VB posterior mean for the distribution of mu - the mean of the data generation\n",
        "    :param tau_p: VB posterior precision for the distribution of mu - the mean of the data generation\n",
        "    :param alpha_p: VB posterior shape of dist for gamma, the precision  of the data generation\n",
        "    :param beta_p: VB posterior shape of dist for gamma, the precision  of the data generation\n",
        "    :return: the ELBO\n",
        "    \"\"\"\n",
        "\n",
        "    # We calculate ELBO as E_q log p(x,z) - E_q log q(z)\n",
        "    # log p(x,z) here is log p(mu) + log p(gamma) + \\sum_i log p(x_i | mu, gamma)\n",
        "\n",
        "    # E_q log p(mu)\n",
        "    log_p = -.5 * np.log(2 * np.pi) + .5 * np.log(tau) - .5 * tau * (1 / tau_p + nu_p * nu_p)\n",
        "\n",
        "    # E_q log p(gamma)\n",
        "    log_p = log_p + alpha * np.log(beta) + \\\n",
        "            (alpha - 1) * (special.digamma(alpha_p) - np.log(beta_p)) - beta * alpha_p / beta_p\n",
        "\n",
        "    # E_q log p(x_i|mu, gamma)\n",
        "    for xi in data:\n",
        "        log_p += -.5 * np.log(2 * np.pi) \\\n",
        "                 + .5 * (special.digamma(alpha_p) - np.log(beta_p)) \\\n",
        "                 - .5 * alpha_p / beta_p * (xi * xi - 2 * xi * nu_p + 1 / tau_p + nu_p * nu_p)\n",
        "\n",
        "    # Entropy of mu (Gaussian)\n",
        "    entropy = .5 * np.log(2 * np.pi * np.exp(1) / tau_p)\n",
        "    entropy += alpha_p - np.log(beta_p) + special.gammaln(alpha_p) \\\n",
        "               + (1 - alpha_p) * special.digamma(alpha_p)\n",
        "\n",
        "    return log_p + entropy\n"
      ]
    },
    {
      "cell_type": "markdown",
      "metadata": {
        "id": "U7xhZAEth3Pv"
      },
      "source": [
        "## Do the VB\n",
        "\n",
        "The task is to implemente the variational updating equations appearing below."
      ]
    },
    {
      "cell_type": "markdown",
      "source": [
        "<center>\n",
        "<img src=\"https://github.com/PGM-Lab/2022-ProbAI/raw/main/Day2-BeforeLunch/notebooks/Figures/updating_equations.png\" alt=\"Drawing\" width=\"650\">\n",
        "</center>"
      ],
      "metadata": {
        "id": "CAo2PB1bUqmz"
      }
    },
    {
      "cell_type": "code",
      "execution_count": 34,
      "metadata": {
        "id": "jG59YwICh3Px",
        "outputId": "f69f7dcf-4c99-4738-a2a0-ea6586b0269d",
        "colab": {
          "base_uri": "https://localhost:8080/"
        }
      },
      "outputs": [
        {
          "output_type": "stream",
          "name": "stdout",
          "text": [
            "\n",
            "====================================================================================================\n",
            "   VB iterations:\n",
            "====================================================================================================\n",
            " 1:  ELBO: -786.1881435, alpha_q: 50.010, beta_q: 50001327.248, nu_q:  4.977, tau_q:  0.000\n",
            " 2:  ELBO: -557.6915325, alpha_q: 50.010, beta_q:   495028.283, nu_q:  5.027, tau_q:  0.010\n",
            " 3:  ELBO: -330.9361681, alpha_q: 50.010, beta_q:     5012.459, nu_q:  5.027, tau_q:  0.998\n",
            " 4:  ELBO: -170.8624409, alpha_q: 50.010, beta_q:      113.771, nu_q:  5.027, tau_q: 43.957\n",
            " 5:  ELBO: -164.1402693, alpha_q: 50.010, beta_q:       64.794, nu_q:  5.027, tau_q: 77.183\n",
            " 6:  ELBO: -164.1388195, alpha_q: 50.010, beta_q:       64.304, nu_q:  5.027, tau_q: 77.771\n",
            " 7:  ELBO: -164.1388193, alpha_q: 50.010, beta_q:       64.299, nu_q:  5.027, tau_q: 77.777\n",
            " 8:  ELBO: -164.1388193, alpha_q: 50.010, beta_q:       64.299, nu_q:  5.027, tau_q: 77.777\n",
            " 9:  ELBO: -164.1388193, alpha_q: 50.010, beta_q:       64.299, nu_q:  5.027, tau_q: 77.777\n",
            "\n",
            "====================================================================================================\n",
            "   Result:\n",
            "====================================================================================================\n",
            "E[mu] = 5.027 with data average 5.027 and prior mean 0.000.\n",
            "E[gamma] = 0.778 with inverse of data covariance 0.778 and prior 1.000.\n"
          ]
        }
      ],
      "source": [
        "# Initialization\n",
        "alpha_q = alpha_prior\n",
        "beta_q = beta_prior\n",
        "mu_q = 0\n",
        "tau_q = tau_prior\n",
        "previous_elbo = -np.inf\n",
        "\n",
        "# Start iterating\n",
        "print(\"\\n\" + 100 * \"=\" + \"\\n   VB iterations:\\n\" + 100 * \"=\")\n",
        "for iteration in range(1000):\n",
        "    # Update gamma distribution\n",
        "    alpha_q = alpha_prior + .5 * N \n",
        "    beta_q = beta_prior + .5 * np.sum(x * x) - mu_q * np.sum(x) + .5 * N * (1. / tau_q + mu_q * mu_q)\n",
        "\n",
        "    # Update Gaussian distribution\n",
        "    expected_gamma = alpha_q / beta_q\n",
        "    tau_q = tau_prior + N * expected_gamma\n",
        "    mu_q = expected_gamma * np.sum(x) / tau_q\n",
        "    \n",
        "    # Calculate Lower-bound\n",
        "    current_elbo = calculate_ELBO(data=x, tau=tau_prior, alpha=alpha_prior, beta=beta_prior,\n",
        "                                    nu_p=mu_q, tau_p=tau_q, alpha_p=alpha_q, beta_p=beta_q)\n",
        "    \n",
        "    print(\"{:2d}:  ELBO: {:12.7f}, alpha_q: {:6.3f}, beta_q: {:12.3f}, nu_q: {:6.3f}, tau_q: {:6.3f}\".format(\n",
        "        iteration + 1,  current_elbo, alpha_q, beta_q, mu_q, tau_q))\n",
        "    \n",
        "    if current_elbo < previous_elbo:\n",
        "        raise ValueError(\"ELBO is decreasing. Something is wrong! Goodbye...\")\n",
        "    \n",
        "    if iteration > 0 and np.abs((current_elbo - previous_elbo) / previous_elbo) < 1E-20:\n",
        "        # Very little improvement. We are done.\n",
        "        break\n",
        "    \n",
        "    # If we didn't break we need to run again. Update the value for \"previous\"\n",
        "    previous_elbo = current_elbo\n",
        "    \n",
        "\n",
        "print(\"\\n\" + 100 * \"=\" + \"\\n   Result:\\n\" + 100 * \"=\")\n",
        "print(\"E[mu] = {:5.3f} with data average {:5.3f} and prior mean {:5.3f}.\".format(mu_q, np.mean(x), 0.))\n",
        "print(\"E[gamma] = {:5.3f} with inverse of data covariance {:5.3f} and prior {:5.3f}.\".format(\n",
        "    alpha_q / beta_q, 1. / np.cov(x), alpha_prior / beta_prior))"
      ]
    },
    {
      "cell_type": "markdown",
      "metadata": {
        "id": "f0pKpGZhh3Py"
      },
      "source": [
        "### Plot of the Prior density"
      ]
    },
    {
      "cell_type": "code",
      "source": [
        "plot_density(mu_prior, tau_prior, alpha_prior, beta_prior, correct_mean, correct_precision)\n",
        "plt.show()"
      ],
      "metadata": {
        "id": "Gpi5rPBJXCwc",
        "outputId": "34dba885-07ac-4af2-c949-4dfb9ba20ce5",
        "colab": {
          "base_uri": "https://localhost:8080/",
          "height": 301
        }
      },
      "execution_count": 35,
      "outputs": [
        {
          "output_type": "display_data",
          "data": {
            "text/plain": [
              "<Figure size 432x288 with 1 Axes>"
            ],
            "image/png": "[encoded data removed]"
          },
          "metadata": {
            "needs_background": "light"
          }
        }
      ]
    },
    {
      "cell_type": "markdown",
      "source": [
        "### Plot of the Variational Posterior density"
      ],
      "metadata": {
        "id": "Z8zn_7UFX2NZ"
      }
    },
    {
      "cell_type": "code",
      "execution_count": 36,
      "metadata": {
        "id": "kpCATABph3Pz",
        "outputId": "3f6bac10-c7f7-4337-c2f1-35504c85bdfc",
        "colab": {
          "base_uri": "https://localhost:8080/",
          "height": 301
        }
      },
      "outputs": [
        {
          "output_type": "display_data",
          "data": {
            "text/plain": [
              "<Figure size 432x288 with 1 Axes>"
            ],
            "image/png": "[encoded data removed]"
          },
          "metadata": {
            "needs_background": "light"
          }
        }
      ],
      "source": [
        "plot_density(mu_q, tau_q, alpha_q, beta_q, correct_mean, correct_precision)\n",
        "plt.show()"
      ]
    }
  ],
  "metadata": {
    "colab": {
      "name": "solution_simple_model.ipynb",
      "provenance": [],
      "include_colab_link": true
    },
    "kernelspec": {
      "display_name": "Python 3",
      "language": "python",
      "name": "python3"
    },
    "language_info": {
      "codemirror_mode": {
        "name": "ipython",
        "version": 3
      },
      "file_extension": ".py",
      "mimetype": "text/x-python",
      "name": "python",
      "nbconvert_exporter": "python",
      "pygments_lexer": "ipython3",
      "version": "3.6.6"
    }
  },
  "nbformat": 4,
  "nbformat_minor": 0
}