{
  "nbformat": 4,
  "nbformat_minor": 0,
  "metadata": {
    "language_info": {
      "codemirror_mode": {
        "name": "ipython",
        "version": 3
      },
      "file_extension": ".py",
      "mimetype": "text/x-python",
      "name": "python",
      "nbconvert_exporter": "python",
      "pygments_lexer": "ipython3",
      "version": "3.7.0"
    },
    "colab": {
      "name": "student_simple_gaussian_model_pyro.ipynb",
      "provenance": [],
      "include_colab_link": true
    }
  },
  "cells": [
    {
      "cell_type": "markdown",
      "metadata": {
        "id": "view-in-github",
        "colab_type": "text"
      },
      "source": [
        "<a href=\"https://colab.research.google.com/github/PGM-Lab/2022-ProbAI/blob/main/Day2-AfterLunch/notebooks/student_simple_gaussian_model_pyro.ipynb\" target=\"_parent\"><img src=\"https://colab.research.google.com/assets/colab-badge.svg\" alt=\"Open In Colab\"/></a>"
      ]
    },
    {
      "cell_type": "markdown",
      "metadata": {
        "id": "wJ5e7RVcoKT-"
      },
      "source": [
        "<img src=\"https://github.com/PGM-Lab/2022-ProbAI/raw/main/Day2-AfterLunch/notebooks/Figures/simple_pyro_exercise.png\">\n"
      ]
    },
    {
      "cell_type": "code",
      "metadata": {
        "id": "vNaU7LMtoKUB"
      },
      "source": [
        "!pip install -q --upgrade pyro-ppl torch \n",
        "\n",
        "\n",
        "import numpy as np\n",
        "import torch\n",
        "from torch.distributions import constraints\n",
        "import matplotlib.pyplot as plt\n",
        "\n",
        "import pyro\n",
        "from pyro.distributions import Normal, Gamma, MultivariateNormal\n",
        "from pyro.infer import SVI, Trace_ELBO\n",
        "from pyro.optim import Adam\n",
        "import pyro.optim as optim"
      ],
      "execution_count": null,
      "outputs": []
    },
    {
      "cell_type": "markdown",
      "metadata": {
        "id": "bIp4KvsEoKUB"
      },
      "source": [
        "## Generate some data"
      ]
    },
    {
      "cell_type": "code",
      "metadata": {
        "id": "IvSrjN_4oKUC"
      },
      "source": [
        "# Sample data\n",
        "np.random.seed(123)\n",
        "N = 100\n",
        "correct_mean = 5\n",
        "correct_precision = 1\n",
        "data = torch.tensor(np.random.normal(loc=correct_mean, scale=np.sqrt(1./correct_precision), size=N), dtype=torch.float)\n"
      ],
      "execution_count": null,
      "outputs": []
    },
    {
      "cell_type": "markdown",
      "metadata": {
        "id": "9TAlxpNToKUC"
      },
      "source": [
        "## Our model specification"
      ]
    },
    {
      "cell_type": "code",
      "metadata": {
        "id": "jE4ItwMhoKUD"
      },
      "source": [
        "# Fill the method with code to define a simple Gaussian model with mean \\mu and precision \\gamma\n",
        "def model(data):\n",
        "    gamma = pyro.sample(\"gamma\", Gamma(torch.tensor(1.), torch.tensor(1.)))\n",
        "    mu = pyro.sample(\"mu\", Normal(torch.zeros(1), torch.tensor(10000.0)))\n",
        "    with pyro.plate(\"data\", len(data)):\n",
        "        pyro.sample(\"x\", Normal(loc=mu, scale=torch.sqrt(1. / gamma)), obs=data)"
      ],
      "execution_count": null,
      "outputs": []
    },
    {
      "cell_type": "markdown",
      "metadata": {
        "id": "U5AFBtuEoKUD"
      },
      "source": [
        "## Our guide specification"
      ]
    },
    {
      "cell_type": "code",
      "metadata": {
        "id": "venykT3VoKUD"
      },
      "source": [
        "# Define the right guide for the above model, including the variational parameters. \n",
        "def guide(data=None):\n"
      ],
      "execution_count": null,
      "outputs": []
    },
    {
      "cell_type": "markdown",
      "metadata": {
        "id": "0G7u3JOLoKUE"
      },
      "source": [
        "## Do learning"
      ]
    },
    {
      "cell_type": "code",
      "metadata": {
        "id": "Sds04uVeoKUE",
        "outputId": "7779aa97-e02d-48df-d69d-341f96fc28c2"
      },
      "source": [
        "# setup the optimizer\n",
        "adam_args = {\"lr\": 0.01}\n",
        "optimizer = Adam(adam_args)\n",
        "\n",
        "pyro.clear_param_store()\n",
        "svi = SVI(model, guide, optimizer, loss=Trace_ELBO(), num_samples=10)\n",
        "train_elbo = []\n",
        "# training loop\n",
        "for epoch in range(3000):\n",
        "    loss = svi.step(data)\n",
        "    train_elbo.append(-loss)\n",
        "    if (epoch % 500) == 0:\n",
        "        print(\"[epoch %03d] average training loss: %.4f\" % (epoch, loss))"
      ],
      "execution_count": null,
      "outputs": [
        {
          "output_type": "stream",
          "text": [
            "[epoch 000] average training loss: 1599.6830\n",
            "[epoch 500] average training loss: 546.2211\n",
            "[epoch 1000] average training loss: 284.1279\n",
            "[epoch 1500] average training loss: 185.3350\n",
            "[epoch 2000] average training loss: 195.8745\n",
            "[epoch 2500] average training loss: 178.9226\n"
          ],
          "name": "stdout"
        }
      ]
    },
    {
      "cell_type": "code",
      "metadata": {
        "id": "Kz5F9TzKoKUF",
        "outputId": "64b37913-0438-445e-81e6-c990d148b320"
      },
      "source": [
        "for name, value in pyro.get_param_store().items():\n",
        "    print(name, pyro.param(name))"
      ],
      "execution_count": null,
      "outputs": [
        {
          "output_type": "stream",
          "text": [
            "rate tensor(1.8581, requires_grad=True)\n",
            "conc tensor(2.1757, requires_grad=True)\n",
            "mu_mean tensor(5.0201, requires_grad=True)\n",
            "mu_scale tensor(0.1044, requires_grad=True)\n"
          ],
          "name": "stdout"
        }
      ]
    },
    {
      "cell_type": "code",
      "metadata": {
        "id": "-W3H0l_toKUG",
        "outputId": "1489c2ea-6b37-4f09-8a8c-523019601964"
      },
      "source": [
        "plt.plot(range(len(train_elbo)), train_elbo)\n",
        "plt.xlabel(\"Number of iterations\")\n",
        "plt.ylabel(\"ELBO\")\n",
        "plt.show()"
      ],
      "execution_count": null,
      "outputs": [
        {
          "output_type": "display_data",
          "data": {
            "image/png": "[encoded data removed]",
            "text/plain": [
              "<Figure size 432x288 with 1 Axes>"
            ]
          },
          "metadata": {
            "tags": []
          }
        }
      ]
    }
  ]
}