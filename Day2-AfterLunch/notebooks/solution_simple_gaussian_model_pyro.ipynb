{
  "nbformat": 4,
  "nbformat_minor": 0,
  "metadata": {
    "colab": {
      "name": "solution_simple_gaussian_model_pyro.ipynb",
      "provenance": [],
      "include_colab_link": true
    },
    "kernelspec": {
      "display_name": "Python 3",
      "language": "python",
      "name": "python3"
    },
    "language_info": {
      "codemirror_mode": {
        "name": "ipython",
        "version": 3
      },
      "file_extension": ".py",
      "mimetype": "text/x-python",
      "name": "python",
      "nbconvert_exporter": "python",
      "pygments_lexer": "ipython3",
      "version": "3.6.6"
    }
  },
  "cells": [
    {
      "cell_type": "markdown",
      "metadata": {
        "id": "view-in-github",
        "colab_type": "text"
      },
      "source": [
        "<a href=\"https://colab.research.google.com/github/PGM-Lab/2022-ProbAI/blob/main/Day2-AfterLunch/notebooks/solution_simple_gaussian_model_pyro.ipynb\" target=\"_parent\"><img src=\"https://colab.research.google.com/assets/colab-badge.svg\" alt=\"Open In Colab\"/></a>"
      ]
    },
    {
      "cell_type": "markdown",
      "metadata": {
        "id": "dUtkG-f8oeI4"
      },
      "source": [
        "<img src=\"https://github.com/PGM-Lab/2022-ProbAI/raw/main/Day2-AfterLunch/notebooks/Figures/simple_pyro_exercise.png\">"
      ]
    },
    {
      "cell_type": "code",
      "metadata": {
        "id": "45sg92iioeI7",
        "colab": {
          "base_uri": "https://localhost:8080/"
        },
        "outputId": "d14dc0f2-69f7-42c8-8cc0-4736dbc0ce21"
      },
      "source": [
        "!pip install -q --upgrade pyro-ppl torch \n",
        "\n",
        "import numpy as np\n",
        "import torch\n",
        "from torch.distributions import constraints\n",
        "import matplotlib.pyplot as plt\n",
        "\n",
        "import pyro\n",
        "from pyro.distributions import Normal, Gamma, MultivariateNormal\n",
        "from pyro.infer import SVI, Trace_ELBO\n",
        "from pyro.optim import Adam\n",
        "import pyro.optim as optim"
      ],
      "execution_count": null,
      "outputs": [
        {
          "output_type": "stream",
          "name": "stdout",
          "text": [
            "\u001b[K     |████████████████████████████████| 750.6 MB 10 kB/s \n",
            "\u001b[?25h"
          ]
        }
      ]
    },
    {
      "cell_type": "markdown",
      "metadata": {
        "id": "upVGYRd6oeI8"
      },
      "source": [
        "## Generate some data"
      ]
    },
    {
      "cell_type": "code",
      "metadata": {
        "id": "x1SeB_bboeI8"
      },
      "source": [
        "# Sample data\n",
        "np.random.seed(123)\n",
        "N = 100\n",
        "correct_mean = 5\n",
        "correct_precision = 1\n",
        "data = torch.tensor(np.random.normal(loc=correct_mean, scale=np.sqrt(1./correct_precision), size=N), dtype=torch.float)\n"
      ],
      "execution_count": null,
      "outputs": []
    },
    {
      "cell_type": "markdown",
      "metadata": {
        "id": "Ho5Uc-OToeI9"
      },
      "source": [
        "## Our model specification"
      ]
    },
    {
      "cell_type": "code",
      "metadata": {
        "id": "stcxQyx5oeI9"
      },
      "source": [
        "def model(data):\n",
        "    gamma = pyro.sample(\"gamma\", Gamma(torch.tensor(1.), torch.tensor(1.)))\n",
        "    mu = pyro.sample(\"mu\", Normal(torch.zeros(1), torch.tensor(10000.0)))\n",
        "    with pyro.plate(\"data\", len(data)):\n",
        "        pyro.sample(\"x\", Normal(loc=mu, scale=torch.sqrt(1. / gamma)), obs=data)"
      ],
      "execution_count": null,
      "outputs": []
    },
    {
      "cell_type": "markdown",
      "metadata": {
        "id": "DsM46XV-oeI9"
      },
      "source": [
        "## Our guide specification"
      ]
    },
    {
      "cell_type": "code",
      "metadata": {
        "id": "N2ejdORDoeI-"
      },
      "source": [
        "def guide(data=None):\n",
        "    alpha_q = pyro.param(\"alpha_q\", torch.tensor(1.), constraint=constraints.positive)\n",
        "    beta_q = pyro.param(\"beta_q\", torch.tensor(1.), constraint=constraints.positive)\n",
        "    pyro.sample(\"gamma\", Gamma(alpha_q, beta_q))\n",
        "\n",
        "    mean_q = pyro.param(\"mean_q\", torch.tensor(0.))\n",
        "    scale_q = pyro.param(\"scale_q\", torch.tensor(1.), constraint=constraints.positive)\n",
        "    pyro.sample(\"mu\", Normal(mean_q, scale_q))"
      ],
      "execution_count": null,
      "outputs": []
    },
    {
      "cell_type": "markdown",
      "metadata": {
        "id": "Cp_F7FgnoeI-"
      },
      "source": [
        "## Do learning"
      ]
    },
    {
      "cell_type": "code",
      "metadata": {
        "colab": {
          "base_uri": "https://localhost:8080/"
        },
        "id": "D4CViT55oeI-",
        "outputId": "ee1de6f8-ff7b-40e7-ab4a-dad06f05aac2"
      },
      "source": [
        "# setup the optimizer\n",
        "adam_args = {\"lr\": 0.01}\n",
        "optimizer = Adam(adam_args)\n",
        "\n",
        "pyro.clear_param_store()\n",
        "svi = SVI(model, guide, optimizer, loss=Trace_ELBO())\n",
        "train_elbo = []\n",
        "# training loop\n",
        "for epoch in range(3000):\n",
        "    loss = svi.step(data)\n",
        "    train_elbo.append(-loss)\n",
        "    if (epoch % 500) == 0:\n",
        "        print(\"[epoch %03d] average training loss: %.4f\" % (epoch, loss))"
      ],
      "execution_count": null,
      "outputs": [
        {
          "output_type": "stream",
          "name": "stderr",
          "text": [
            "/usr/local/lib/python3.7/dist-packages/pyro/infer/svi.py:53: FutureWarning: The `num_samples` argument to SVI is deprecated and will be removed in a future release. Use `pyro.infer.Predictive` class to draw samples from the posterior.\n",
            "  \"number of iterations.\",\n"
          ]
        },
        {
          "output_type": "stream",
          "name": "stdout",
          "text": [
            "[epoch 000] average training loss: 4678.7293\n",
            "[epoch 500] average training loss: 277.2488\n",
            "[epoch 1000] average training loss: 251.4889\n",
            "[epoch 1500] average training loss: 217.9515\n",
            "[epoch 2000] average training loss: 174.1540\n",
            "[epoch 2500] average training loss: 165.9747\n"
          ]
        }
      ]
    },
    {
      "cell_type": "code",
      "metadata": {
        "colab": {
          "base_uri": "https://localhost:8080/"
        },
        "id": "lpmXAE6xoeJA",
        "outputId": "b6a193fd-e360-4faf-a1cd-76f7f7c52e7f"
      },
      "source": [
        "for name, value in pyro.get_param_store().items():\n",
        "    print(name, pyro.param(name).data.numpy())"
      ],
      "execution_count": null,
      "outputs": [
        {
          "output_type": "stream",
          "name": "stdout",
          "text": [
            "alphav 3.4341245\n",
            "beta_q 4.0748396\n",
            "mean_q 5.015445\n",
            "scale_q 0.19180033\n"
          ]
        }
      ]
    },
    {
      "cell_type": "code",
      "metadata": {
        "colab": {
          "base_uri": "https://localhost:8080/",
          "height": 279
        },
        "id": "bb39F8-loeJB",
        "outputId": "2e57dc01-e3b2-423b-b6fa-f09ad8e5ac9a"
      },
      "source": [
        "plt.plot(range(len(train_elbo)), train_elbo)\n",
        "plt.xlabel(\"Number of iterations\")\n",
        "plt.ylabel(\"ELBO\")\n",
        "plt.show()"
      ],
      "execution_count": null,
      "outputs": [
        {
          "output_type": "display_data",
          "data": {
            "text/plain": [
              "<Figure size 432x288 with 1 Axes>"
            ],
            "image/png": "[encoded data removed]"
          },
          "metadata": {
            "needs_background": "light"
          }
        }
      ]
    }
  ]
}