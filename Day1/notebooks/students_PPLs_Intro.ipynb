{
  "cells": [
    {
      "cell_type": "markdown",
      "metadata": {
        "id": "view-in-github",
        "colab_type": "text"
      },
      "source": [
        "<a href=\"https://colab.research.google.com/github/PGM-Lab/2022-ProbAI/blob/main/Day1/notebooks/students_PPLs_Intro.ipynb\" target=\"_parent\"><img src=\"https://colab.research.google.com/assets/colab-badge.svg\" alt=\"Open In Colab\"/></a>"
      ]
    },
    {
      "cell_type": "markdown",
      "metadata": {
        "id": "a75mGrGgL-0g"
      },
      "source": [
        "<img src=\"https://github.com/PGM-Lab/probai-2021-pyro/blob/main/Day1/Figures/blue.png?raw=1\" alt=\"Drawing\" width=2000 height=20>\n",
        "\n",
        "\n",
        "# Setup\n",
        "Let's begin by installing and importing the modules we'll need."
      ]
    },
    {
      "cell_type": "code",
      "execution_count": null,
      "metadata": {
        "id": "7Owp2eKrL-0j"
      },
      "outputs": [],
      "source": [
        "!pip install -q --upgrade pyro-ppl torch\n",
        "import pyro\n",
        "import torch\n",
        "import pyro.distributions as dist"
      ]
    },
    {
      "cell_type": "markdown",
      "metadata": {
        "id": "I-EvHtlvL-0k"
      },
      "source": [
        "<img src=\"https://github.com/PGM-Lab/probai-2021-pyro/blob/main/Day1/Figures/blue.png?raw=1\" alt=\"Drawing\" width=2000 height=20>\n",
        "\n",
        "\n",
        "# 1. **Pyro’s distributions** (http://docs.pyro.ai/en/stable/distributions.html) :\n",
        "\n",
        "\n",
        "Pyro provides a wide range of distributions: **Normal, Beta, Cauchy, Dirichlet, Gumbel, Poisson, Pareto, etc.**"
      ]
    },
    {
      "cell_type": "code",
      "execution_count": null,
      "metadata": {
        "colab": {
          "base_uri": "https://localhost:8080/"
        },
        "id": "_w52OifSL-0l",
        "outputId": "2836860b-c308-45ac-e7e7-554ffd73ed97"
      },
      "outputs": [
        {
          "data": {
            "text/plain": [
              "Normal(loc: 0.0, scale: 1.0)"
            ]
          },
          "execution_count": 5,
          "metadata": {},
          "output_type": "execute_result"
        }
      ],
      "source": [
        "normal = dist.Normal(0,1)\n",
        "normal"
      ]
    },
    {
      "cell_type": "markdown",
      "metadata": {
        "id": "yOSdcF4_L-0m"
      },
      "source": [
        "\n",
        "<img src=\"https://github.com/PGM-Lab/probai-2021-pyro/blob/main/Day1/Figures/blue.png?raw=1\" alt=\"Drawing\" width=2000 height=20>\n",
        "\n",
        "Samples from the distributions are [Pytorch’s Tensor objects](https://pytorch.org/cppdocs/notes/tensor_creation.html) (i.e. multidimensional arrays).\n"
      ]
    },
    {
      "cell_type": "code",
      "execution_count": null,
      "metadata": {
        "colab": {
          "base_uri": "https://localhost:8080/"
        },
        "id": "wloQxYMXL-0m",
        "outputId": "03ac90c7-6edd-4306-82e3-cb87df7682b1"
      },
      "outputs": [
        {
          "data": {
            "text/plain": [
              "tensor(-0.2784)"
            ]
          },
          "execution_count": 6,
          "metadata": {},
          "output_type": "execute_result"
        }
      ],
      "source": [
        "sample = normal.sample()\n",
        "sample"
      ]
    },
    {
      "cell_type": "code",
      "execution_count": null,
      "metadata": {
        "colab": {
          "base_uri": "https://localhost:8080/"
        },
        "id": "2h2iOp-qL-0o",
        "outputId": "6a396319-1bbe-4204-b077-f589f53174f4"
      },
      "outputs": [
        {
          "data": {
            "text/plain": [
              "tensor([[[-0.0723,  0.1347, -0.7517,  1.4048, -0.9184],\n",
              "         [-0.1638,  1.0152,  0.7876,  0.8016,  0.3240],\n",
              "         [ 0.0284,  0.0891,  0.3034,  0.5242,  2.3427],\n",
              "         [-2.0929, -0.0485, -0.2870,  1.6723,  1.2046]],\n",
              "\n",
              "        [[-0.3666,  0.4709,  0.1562, -0.5963,  0.4918],\n",
              "         [ 0.1069, -2.4526,  0.5966, -0.4726, -0.5487],\n",
              "         [-0.3617,  0.6021,  0.2340, -0.1932,  0.0434],\n",
              "         [ 1.2081, -0.4983, -0.8905,  0.2463,  0.3022]],\n",
              "\n",
              "        [[ 0.8770,  0.3856,  0.2418, -0.3255,  1.4699],\n",
              "         [-0.2341,  0.7672, -1.4356,  0.1688, -1.6192],\n",
              "         [-0.3618,  1.4169,  1.0627,  0.7917,  0.4672],\n",
              "         [-0.7850, -1.5784,  0.1516, -1.5041, -0.1106]]])"
            ]
          },
          "execution_count": 7,
          "metadata": {},
          "output_type": "execute_result"
        }
      ],
      "source": [
        "sample = normal.sample(sample_shape=[3,4,5])\n",
        "sample"
      ]
    },
    {
      "cell_type": "markdown",
      "metadata": {
        "id": "r-0pNd9tL-0o"
      },
      "source": [
        "<img src=\"https://github.com/PGM-Lab/probai-2021-pyro/blob/main/Day1/Figures/blue.png?raw=1\" alt=\"Drawing\" width=2000 height=20>\n",
        "\n",
        "We can query the **dimensionlity** of a tensor with the ``shape`` property"
      ]
    },
    {
      "cell_type": "code",
      "execution_count": null,
      "metadata": {
        "colab": {
          "base_uri": "https://localhost:8080/"
        },
        "id": "Dk2ebGoYL-0p",
        "outputId": "850fd671-191c-4e7e-ade9-78758eab6e8e"
      },
      "outputs": [
        {
          "data": {
            "text/plain": [
              "torch.Size([3, 4, 5])"
            ]
          },
          "execution_count": 8,
          "metadata": {},
          "output_type": "execute_result"
        }
      ],
      "source": [
        "sample = normal.sample(sample_shape=[3,4,5])\n",
        "sample.shape"
      ]
    },
    {
      "cell_type": "markdown",
      "metadata": {
        "id": "DsVjombqL-0p"
      },
      "source": [
        "\n",
        "<img src=\"https://github.com/PGM-Lab/probai-2021-pyro/blob/main/Day1/Figures/blue.png?raw=1\" alt=\"Drawing\" width=2000 height=20>\n",
        "\n",
        "Operations, like **log-likelihood**, are defined over tensors."
      ]
    },
    {
      "cell_type": "code",
      "execution_count": null,
      "metadata": {
        "colab": {
          "base_uri": "https://localhost:8080/"
        },
        "id": "06G293JdL-0p",
        "outputId": "27d67b21-3851-4d79-d2bf-96a943132579"
      },
      "outputs": [
        {
          "data": {
            "text/plain": [
              "tensor([[[-1.0310, -0.9692, -0.9441, -1.6502, -1.0553],\n",
              "         [-0.9411, -1.2906, -1.7578, -1.2424, -0.9483],\n",
              "         [-1.0191, -1.0354, -2.1821, -1.1456, -1.5559],\n",
              "         [-0.9682, -2.6480, -0.9840, -1.6719, -1.2512]],\n",
              "\n",
              "        [[-0.9944, -0.9860, -1.1717, -0.9440, -2.0977],\n",
              "         [-0.9190, -1.0474, -0.9303, -1.3824, -0.9190],\n",
              "         [-1.2609, -0.9300, -1.0001, -0.9466, -3.1727],\n",
              "         [-1.1172, -1.1989, -0.9691, -1.4522, -2.1246]],\n",
              "\n",
              "        [[-1.9932, -1.0383, -0.9240, -0.9812, -0.9778],\n",
              "         [-1.2712, -1.0931, -1.0450, -1.4244, -0.9691],\n",
              "         [-2.3447, -0.9226, -1.5010, -2.5015, -2.0469],\n",
              "         [-1.2804, -0.9189, -0.9422, -2.0111, -1.0005]]])"
            ]
          },
          "execution_count": 9,
          "metadata": {},
          "output_type": "execute_result"
        }
      ],
      "source": [
        "normal.log_prob(sample)"
      ]
    },
    {
      "cell_type": "code",
      "execution_count": null,
      "metadata": {
        "colab": {
          "base_uri": "https://localhost:8080/"
        },
        "id": "R3v2rpRAL-0q",
        "outputId": "62e92048-2d6e-49c4-f53f-2f63b72faca9"
      },
      "outputs": [
        {
          "data": {
            "text/plain": [
              "tensor(-79.0428)"
            ]
          },
          "execution_count": 10,
          "metadata": {},
          "output_type": "execute_result"
        }
      ],
      "source": [
        "torch.sum(normal.log_prob(sample))"
      ]
    },
    {
      "cell_type": "markdown",
      "metadata": {
        "id": "zErtSTzYL-0q"
      },
      "source": [
        "<img src=\"https://github.com/PGM-Lab/probai-2021-pyro/blob/main/Day1/Figures/blue.png?raw=1\" alt=\"Drawing\" width=2000 height=20>\n",
        "\n",
        "**Multiple distributions** can be embedded in single object.\n",
        "\n",
        "* Below we define **three Normal distributions with different means but the same scale** in a single object.\n"
      ]
    },
    {
      "cell_type": "code",
      "execution_count": null,
      "metadata": {
        "colab": {
          "base_uri": "https://localhost:8080/"
        },
        "id": "VEcgGuTqL-0q",
        "outputId": "2bc7c3e8-57f2-43d6-f6f7-92c0f9ded7ce"
      },
      "outputs": [
        {
          "data": {
            "text/plain": [
              "Normal(loc: torch.Size([3]), scale: torch.Size([3]))"
            ]
          },
          "execution_count": 11,
          "metadata": {},
          "output_type": "execute_result"
        }
      ],
      "source": [
        "normal = dist.Normal(torch.tensor([1.,2.,3.]),1.)\n",
        "normal"
      ]
    },
    {
      "cell_type": "code",
      "execution_count": null,
      "metadata": {
        "colab": {
          "base_uri": "https://localhost:8080/"
        },
        "id": "1cRRDgTbL-0r",
        "outputId": "68d810e9-ac26-47d1-8bdc-78ea3ecc5713"
      },
      "outputs": [
        {
          "data": {
            "text/plain": [
              "tensor([2.2795, 1.3640, 1.2685])"
            ]
          },
          "execution_count": 12,
          "metadata": {},
          "output_type": "execute_result"
        }
      ],
      "source": [
        "normal.sample()"
      ]
    },
    {
      "cell_type": "code",
      "execution_count": null,
      "metadata": {
        "colab": {
          "base_uri": "https://localhost:8080/"
        },
        "id": "hji5mTnhL-0r",
        "outputId": "a47a895d-30c2-4ee8-c387-30dfb3a33af4"
      },
      "outputs": [
        {
          "data": {
            "text/plain": [
              "tensor([-0.9877, -0.9521, -1.3638])"
            ]
          },
          "execution_count": 13,
          "metadata": {},
          "output_type": "execute_result"
        }
      ],
      "source": [
        "normal.log_prob(normal.sample())"
      ]
    },
    {
      "cell_type": "markdown",
      "metadata": {
        "id": "drChKHsWJ--U"
      },
      "source": [
        "<img src=\"https://github.com/PGM-Lab/probai-2021-pyro/blob/main/Day1/Figures/blue.png?raw=1\" alt=\"Drawing\" width=2000 height=20>"
      ]
    },
    {
      "cell_type": "markdown",
      "metadata": {
        "id": "T7drVBrtzNgC"
      },
      "source": [
        "### **<span style=\"color:red\">Exercise: Open the notebook and play around</span>**\n",
        "\n",
        "* Test that everything works.\n",
        "* Play a bit with the code in Section 1 of the notebook.\n",
        "\n",
        "<img src=\"https://github.com/PGM-Lab/probai-2021-pyro/blob/main/Day1/Figures/blue.png?raw=1\" alt=\"Drawing\" width=2000 height=20>"
      ]
    },
    {
      "cell_type": "markdown",
      "metadata": {
        "id": "WV-iBl4xL-0r"
      },
      "source": [
        "# 2. **Pyro’s models** (http://pyro.ai/examples/intro_part_i.html) :\n",
        "\n",
        "\n",
        "* In Pyro, a probabilistic model is defined as a **stochastic function** (i.e. every time it is run, it returns a new sample).\n",
        "\n",
        "* Each random variable is associated with a **primitive stochastic function** using the construct ``pyro.sample(...)``.\n",
        "\n",
        "\n",
        "### 2.1 A Temperature Model\n",
        "\n",
        "\n",
        "\n",
        "As initial running example, we consider the problem of **modelling the temperature**. We first start with a simple model, where temperture is modeled using a random Normal variable."
      ]
    },
    {
      "cell_type": "code",
      "execution_count": null,
      "metadata": {
        "colab": {
          "base_uri": "https://localhost:8080/"
        },
        "id": "kcU2EmBYL-0s",
        "outputId": "11b33c6e-4068-4f82-81aa-22a37a49ee43"
      },
      "outputs": [
        {
          "name": "stdout",
          "output_type": "stream",
          "text": [
            "tensor(15.2603)\n",
            "tensor(13.1841)\n"
          ]
        }
      ],
      "source": [
        "def model():\n",
        "    temp = pyro.sample('temp', dist.Normal(15.0, 2.0))\n",
        "    return temp\n",
        "\n",
        "print(model())\n",
        "print(model())"
      ]
    },
    {
      "cell_type": "markdown",
      "metadata": {
        "id": "N0pVeOVpL-0s"
      },
      "source": [
        "See how the model is a stochastic function which **returns a different value everytime it is invoked**. \n",
        "\n",
        "<img src=\"https://github.com/PGM-Lab/probai-2021-pyro/blob/main/Day1/Figures/blue.png?raw=1\" alt=\"Drawing\" width=2000 height=20>\n"
      ]
    },
    {
      "cell_type": "markdown",
      "metadata": {
        "id": "Z0biYXEVL-0s"
      },
      "source": [
        "### 2.2 A Temperature-Sensor Model"
      ]
    },
    {
      "cell_type": "markdown",
      "metadata": {
        "id": "Jp6wefVaLCnx"
      },
      "source": [
        "In Pyro, a stochastic method is defined as a **composition of primitive stochastic functions**.\n",
        "\n",
        "*The temperature Model:* \n",
        "We consider the presence of a **temperature sensor**. \n",
        "  * The temperature sensor gives **noisy observations** about the real temperature.\n",
        "  * The **error** of the sensor's measurements **is known**.\n",
        "\n",
        "A graphical representation of this model:\n",
        "<center>\n",
        "<img src=\"https://github.com/PGM-Lab/probai-2021-pyro/blob/main/Day1/Figures/PGM-Tem-Sensor.png?raw=1\" alt=\"Drawing\" width=\"150\">\n",
        "</center>\n"
      ]
    },
    {
      "cell_type": "code",
      "execution_count": null,
      "metadata": {
        "colab": {
          "base_uri": "https://localhost:8080/"
        },
        "id": "VpxheEx-L-0t",
        "outputId": "8772b867-84de-4f6d-f9f7-97dfc9fdb138"
      },
      "outputs": [
        {
          "data": {
            "text/plain": [
              "(tensor(12.7485), tensor(12.3214))"
            ]
          },
          "execution_count": 16,
          "metadata": {},
          "output_type": "execute_result"
        }
      ],
      "source": [
        "def model():\n",
        "    temp = pyro.sample('temp', dist.Normal(15.0, 2.0))\n",
        "    sensor = pyro.sample('sensor', dist.Normal(temp, 1.0))\n",
        "    return (temp, sensor)\n",
        "\n",
        "out1 = model()\n",
        "out1"
      ]
    },
    {
      "cell_type": "markdown",
      "metadata": {
        "id": "XSXTeNtqL-0t"
      },
      "source": [
        "\n",
        "The above method defines a joint probability distribution:\n",
        "$$p(sensor, temp) = p(sensor|temp)p(temp)$$\n",
        "\n",
        "\n",
        "\n",
        "\n",
        "In this case, we have a simple dependency between the variables. But, as we are in a PPL, dependencies can be expressed in terms of complex deterministic functions (more examples later).\n",
        "\n",
        "\n",
        "\n",
        "<img src=\"https://github.com/PGM-Lab/probai-2021-pyro/blob/main/Day1/Figures/blue.png?raw=1\" alt=\"Drawing\" width=2000 height=20>\n"
      ]
    },
    {
      "cell_type": "code",
      "execution_count": null,
      "metadata": {
        "colab": {
          "base_uri": "https://localhost:8080/",
          "height": 176
        },
        "id": "v3eYPBkwivp9",
        "outputId": "8c078cb0-a2e6-42c7-b773-426ae30adac6"
      },
      "outputs": [
        {
          "data": {
            "image/svg+xml": [
              "<?xml version=\"1.0\" encoding=\"UTF-8\" standalone=\"no\"?>\n",
              "<!DOCTYPE svg PUBLIC \"-//W3C//DTD SVG 1.1//EN\"\n",
              " \"http://www.w3.org/Graphics/SVG/1.1/DTD/svg11.dtd\">\n",
              "<!-- Generated by graphviz version 3.0.0 (20220226.1711)\n",
              " -->\n",
              "<!-- Pages: 1 -->\n",
              "<svg width=\"74pt\" height=\"116pt\"\n",
              " viewBox=\"0.00 0.00 74.29 116.00\" xmlns=\"http://www.w3.org/2000/svg\" xmlns:xlink=\"http://www.w3.org/1999/xlink\">\n",
              "<g id=\"graph0\" class=\"graph\" transform=\"scale(1 1) rotate(0) translate(4 112)\">\n",
              "<polygon fill=\"white\" stroke=\"transparent\" points=\"-4,4 -4,-112 70.29,-112 70.29,4 -4,4\"/>\n",
              "<!-- temp -->\n",
              "<g id=\"node1\" class=\"node\">\n",
              "<title>temp</title>\n",
              "<ellipse fill=\"white\" stroke=\"black\" cx=\"33.15\" cy=\"-90\" rx=\"28.7\" ry=\"18\"/>\n",
              "<text text-anchor=\"middle\" x=\"33.15\" y=\"-86.3\" font-family=\"Times,serif\" font-size=\"14.00\">temp</text>\n",
              "</g>\n",
              "<!-- sensor -->\n",
              "<g id=\"node2\" class=\"node\">\n",
              "<title>sensor</title>\n",
              "<ellipse fill=\"white\" stroke=\"black\" cx=\"33.15\" cy=\"-18\" rx=\"33.29\" ry=\"18\"/>\n",
              "<text text-anchor=\"middle\" x=\"33.15\" y=\"-14.3\" font-family=\"Times,serif\" font-size=\"14.00\">sensor</text>\n",
              "</g>\n",
              "<!-- temp&#45;&gt;sensor -->\n",
              "<g id=\"edge1\" class=\"edge\">\n",
              "<title>temp&#45;&gt;sensor</title>\n",
              "<path fill=\"none\" stroke=\"black\" d=\"M33.15,-71.7C33.15,-63.98 33.15,-54.71 33.15,-46.11\"/>\n",
              "<polygon fill=\"black\" stroke=\"black\" points=\"36.65,-46.1 33.15,-36.1 29.65,-46.1 36.65,-46.1\"/>\n",
              "</g>\n",
              "</g>\n",
              "</svg>\n"
            ],
            "text/plain": [
              "<graphviz.graphs.Digraph at 0x7f7d90861c10>"
            ]
          },
          "execution_count": 17,
          "metadata": {},
          "output_type": "execute_result"
        }
      ],
      "source": [
        "#Visualize the model\n",
        "pyro.render_model(model)"
      ]
    },
    {
      "cell_type": "markdown",
      "metadata": {
        "id": "L5f6BGpkizCh"
      },
      "source": [
        "---\n",
        "\n",
        "<img src=\"https://github.com/PGM-Lab/probai-2021-pyro/blob/main/Day1/Figures/blue.png?raw=1\" alt=\"Drawing\" width=2000 height=20>\n"
      ]
    },
    {
      "cell_type": "markdown",
      "metadata": {
        "id": "CCayVyTsL-0t"
      },
      "source": [
        "# 3. **Pyro’s inference** (http://pyro.ai/examples/intro_part_ii.html) :"
      ]
    },
    {
      "cell_type": "markdown",
      "metadata": {
        "id": "QyC3v0cyL-0u"
      },
      "source": [
        "### Auxiliary inference functions (more details on Day 2)\n",
        "\n",
        "To make inference on Pyro, we will use a variational inference method, which performs gradient-based optimization to solve the inference problem. More details will be given on Day 2. "
      ]
    },
    {
      "cell_type": "code",
      "execution_count": null,
      "metadata": {
        "id": "arZOTC7gL-0u",
        "jupyter": {
          "source_hidden": true
        },
        "tags": [],
        "cellView": "form"
      },
      "outputs": [],
      "source": [
        "#@title\n",
        "from torch.distributions import constraints\n",
        "from pyro.optim import SGD\n",
        "from pyro.infer import Trace_ELBO\n",
        "import matplotlib.pyplot as plt\n",
        "from pyro.contrib.autoguide import AutoNormal\n",
        "\n",
        "\n",
        "def svi(model, obs, guide=None, num_steps = 500, plot = False, verbose=False, lr=0.01):\n",
        "    \n",
        "    torch.manual_seed(999)\n",
        "\n",
        "    pyro.clear_param_store()\n",
        "    \n",
        "    if guide is None:\n",
        "        guide = AutoNormal(model)\n",
        "    \n",
        "    svi = pyro.infer.SVI(model=model,\n",
        "                         guide=guide,\n",
        "                         optim=SGD({\"lr\": lr, \"momentum\":0.1}),\n",
        "                         loss=Trace_ELBO())\n",
        "\n",
        "    losses, a,b  = [], [], []\n",
        "    \n",
        "    for t in range(num_steps):\n",
        "        losses.append(svi.step(obs))\n",
        "        if t%100==0:\n",
        "            print('Step: '+str(t)+'. Loss: ' +str(losses[-1]))\n",
        "            \n",
        "\n",
        "    if (plot):\n",
        "        plt.plot(losses)\n",
        "        plt.title(\"ELBO\")\n",
        "        plt.xlabel(\"step\")\n",
        "        plt.ylabel(\"loss\");\n",
        "        plt.show()\n",
        "        \n",
        "    if verbose:\n",
        "        print(\"Inference results:\")\n",
        "        for name, value in pyro.get_param_store().items():\n",
        "            print(name, pyro.param(name))"
      ]
    },
    {
      "cell_type": "markdown",
      "metadata": {
        "id": "ovLJGQtcPlBt"
      },
      "source": [
        "* To make inference in Pyro over a given model we need to define a *guide*. This *guide* must have the same signature as its counterpart model. \n",
        "\n",
        "* The guide must provide samples for those variables of the model that are not observed, again using the ``pyro.sample`` construct. \n",
        "\n",
        "* Guides are also parametrized using Pyro's parameters (``pyro.param``), so the variational inference algorithm will optimize over these parameters. \n",
        "\n",
        "* All of that will be explained in detail on Day 2."
      ]
    },
    {
      "cell_type": "markdown",
      "metadata": {
        "id": "mkkHJOFBL-0u"
      },
      "source": [
        "<img src=\"https://github.com/PGM-Lab/probai-2021-pyro/blob/main/Day1/Figures/blue.png?raw=1\" alt=\"Drawing\" width=2000 height=20>\n",
        "\n",
        "### 3.1  Conditioning on a single observation\n",
        "\n",
        "Now, we continue with the last model defined in section 2.2, and assume we have a sensor reading and we want to compute the posterior distribution over the real temperature. \n",
        "<center>\n",
        "<img src=\"https://github.com/PGM-Lab/probai-2021-pyro/blob/main/Day1/Figures/PGM-Tem-Sensor.png?raw=1\" alt=\"Drawing\" width=\"150\">\n",
        "</center>\n",
        "\n",
        "This can be achived by introducing **observations in the random variable** with the keyword ``obs=``."
      ]
    },
    {
      "cell_type": "code",
      "execution_count": null,
      "metadata": {
        "id": "TSzNRm7wL-0v"
      },
      "outputs": [],
      "source": [
        "#The observatons   \n",
        "obs = {'sensor': torch.tensor(18.0)}\n",
        "\n",
        "def model(obs):\n",
        "    temp = pyro.sample('temp', dist.Normal(15.0, 2.0))\n",
        "    sensor = pyro.sample('sensor', dist.Normal(temp, 0.1), obs=obs['sensor'])"
      ]
    },
    {
      "cell_type": "code",
      "execution_count": null,
      "metadata": {
        "id": "DBuQIylGCSB6",
        "outputId": "3aa6d1e2-9939-4fb0-eb49-cfdf707e5e06"
      },
      "outputs": [
        {
          "data": {
            "image/svg+xml": [
              "<?xml version=\"1.0\" encoding=\"UTF-8\" standalone=\"no\"?>\n",
              "<!DOCTYPE svg PUBLIC \"-//W3C//DTD SVG 1.1//EN\"\n",
              " \"http://www.w3.org/Graphics/SVG/1.1/DTD/svg11.dtd\">\n",
              "<!-- Generated by graphviz version 3.0.0 (20220226.1711)\n",
              " -->\n",
              "<!-- Pages: 1 -->\n",
              "<svg width=\"74pt\" height=\"116pt\"\n",
              " viewBox=\"0.00 0.00 74.29 116.00\" xmlns=\"http://www.w3.org/2000/svg\" xmlns:xlink=\"http://www.w3.org/1999/xlink\">\n",
              "<g id=\"graph0\" class=\"graph\" transform=\"scale(1 1) rotate(0) translate(4 112)\">\n",
              "<polygon fill=\"white\" stroke=\"transparent\" points=\"-4,4 -4,-112 70.29,-112 70.29,4 -4,4\"/>\n",
              "<!-- temp -->\n",
              "<g id=\"node1\" class=\"node\">\n",
              "<title>temp</title>\n",
              "<ellipse fill=\"white\" stroke=\"black\" cx=\"33.15\" cy=\"-90\" rx=\"28.7\" ry=\"18\"/>\n",
              "<text text-anchor=\"middle\" x=\"33.15\" y=\"-86.3\" font-family=\"Times,serif\" font-size=\"14.00\">temp</text>\n",
              "</g>\n",
              "<!-- sensor -->\n",
              "<g id=\"node2\" class=\"node\">\n",
              "<title>sensor</title>\n",
              "<ellipse fill=\"grey\" stroke=\"black\" cx=\"33.15\" cy=\"-18\" rx=\"33.29\" ry=\"18\"/>\n",
              "<text text-anchor=\"middle\" x=\"33.15\" y=\"-14.3\" font-family=\"Times,serif\" font-size=\"14.00\">sensor</text>\n",
              "</g>\n",
              "<!-- temp&#45;&gt;sensor -->\n",
              "<g id=\"edge1\" class=\"edge\">\n",
              "<title>temp&#45;&gt;sensor</title>\n",
              "<path fill=\"none\" stroke=\"black\" d=\"M33.15,-71.7C33.15,-63.98 33.15,-54.71 33.15,-46.11\"/>\n",
              "<polygon fill=\"black\" stroke=\"black\" points=\"36.65,-46.1 33.15,-36.1 29.65,-46.1 36.65,-46.1\"/>\n",
              "</g>\n",
              "</g>\n",
              "</svg>\n"
            ],
            "text/plain": [
              "<graphviz.graphs.Digraph at 0x7f7d888e13a0>"
            ]
          },
          "execution_count": 20,
          "metadata": {},
          "output_type": "execute_result"
        }
      ],
      "source": [
        "#Visualize the model\n",
        "pyro.render_model(model, model_args=(obs, ))"
      ]
    },
    {
      "cell_type": "markdown",
      "metadata": {
        "id": "nH3PgF4wL-0w"
      },
      "source": [
        "<img src=\"https://github.com/PGM-Lab/probai-2021-pyro/blob/main/Day1/Figures/blue.png?raw=1\" alt=\"Drawing\" width=2000 height=20>\n",
        "\n",
        "\n",
        "Inference is made using the previously defined auxiliary functions, ``svi`` and ``guide``. This allows us to query the **posterior probability distribution**: \n",
        "\n",
        "\n",
        "$$p(temp | sensor=18)=\\frac{p(sensor=18|temp)p(temp)}{\\int p(sensor=18|temp)p(temp) dtemp}$$\n",
        "\n"
      ]
    },
    {
      "cell_type": "code",
      "execution_count": null,
      "metadata": {
        "colab": {
          "base_uri": "https://localhost:8080/",
          "height": 438
        },
        "id": "VObMyZQ_L-0w",
        "outputId": "0aa35a0b-7e7b-4051-9f5f-627f9f5a24fd"
      },
      "outputs": [
        {
          "name": "stdout",
          "output_type": "stream",
          "text": [
            "Step: 0. Loss: 16147.421895861626\n",
            "Step: 100. Loss: 5.638109087944031\n",
            "Step: 200. Loss: 2.748673915863037\n",
            "Step: 300. Loss: 2.5427181720733643\n",
            "Step: 400. Loss: 2.9723092317581177\n"
          ]
        },
        {
          "data": {
            "image/png": "[encoded data removed]",
            "text/plain": [
              "<Figure size 432x288 with 1 Axes>"
            ]
          },
          "metadata": {
            "needs_background": "light"
          },
          "output_type": "display_data"
        },
        {
          "name": "stdout",
          "output_type": "stream",
          "text": [
            "P(Temperature|Sensor=18.0) = \n",
            "Normal(loc: 18.043657302856445, scale: 18.043657302856445)\n",
            "\n"
          ]
        }
      ],
      "source": [
        "#Run inference\n",
        "svi(model,obs, plot=True)\n",
        "\n",
        "#Print results\n",
        "print(\"P(Temperature|Sensor=18.0) = \")\n",
        "print(dist.Normal(pyro.param(\"AutoNormal.locs.temp\").item(), pyro.param(\"AutoNormal.locs.temp\").item()))\n",
        "print(\"\")"
      ]
    },
    {
      "cell_type": "markdown",
      "metadata": {
        "id": "ZglqMEmSL-0w"
      },
      "source": [
        "\n",
        "* Inference is an **optimization procedure**. \n",
        "\n",
        "* The **ELBO function is minimized** during the variational inference process.\n",
        "\n",
        "<img src=\"https://github.com/PGM-Lab/probai-2021-pyro/blob/main/Day1/Figures/blue.png?raw=1\" alt=\"Drawing\" width=2000 height=20>\n"
      ]
    },
    {
      "cell_type": "markdown",
      "metadata": {
        "id": "WAbW6UoTL-0x"
      },
      "source": [
        "### 3.2  Learning from a bunch of observations\n",
        "\n",
        "* Let us assume that we have a **set of observations** of the temperature at different time steps. \n",
        "\n",
        "* In this case, and following a probabilistic modelling approach, we define a **set of random variables**.\n",
        "\n",
        "* One random variable for each **observation**, using a standard ``for-loop``."
      ]
    },
    {
      "cell_type": "code",
      "execution_count": null,
      "metadata": {
        "id": "w2bPy-D4L-0x"
      },
      "outputs": [],
      "source": [
        "#The observatons   \n",
        "obs = {'sensor': torch.tensor([18., 18.7, 19.2, 17.8, 20.3, 22.4, 20.3, 21.2, 19.5, 20.1])}\n",
        "\n",
        "def model(obs):\n",
        "    for i in range(obs['sensor'].shape[0]):\n",
        "        temp = pyro.sample(f'temp_{i}', dist.Normal(15.0, 2.0))\n",
        "        sensor = pyro.sample(f'sensor_{i}', dist.Normal(temp, 1.0), obs=obs['sensor'][i])"
      ]
    },
    {
      "cell_type": "code",
      "execution_count": null,
      "metadata": {
        "id": "ZitIwu_OCSB6",
        "outputId": "a41e7cc9-2772-4116-f928-b43784442fd0"
      },
      "outputs": [
        {
          "data": {
            "image/svg+xml": [
              "<?xml version=\"1.0\" encoding=\"UTF-8\" standalone=\"no\"?>\n",
              "<!DOCTYPE svg PUBLIC \"-//W3C//DTD SVG 1.1//EN\"\n",
              " \"http://www.w3.org/Graphics/SVG/1.1/DTD/svg11.dtd\">\n",
              "<!-- Generated by graphviz version 3.0.0 (20220226.1711)\n",
              " -->\n",
              "<!-- Pages: 1 -->\n",
              "<svg width=\"1010pt\" height=\"116pt\"\n",
              " viewBox=\"0.00 0.00 1010.49 116.00\" xmlns=\"http://www.w3.org/2000/svg\" xmlns:xlink=\"http://www.w3.org/1999/xlink\">\n",
              "<g id=\"graph0\" class=\"graph\" transform=\"scale(1 1) rotate(0) translate(4 112)\">\n",
              "<polygon fill=\"white\" stroke=\"transparent\" points=\"-4,4 -4,-112 1006.49,-112 1006.49,4 -4,4\"/>\n",
              "<!-- temp_0 -->\n",
              "<g id=\"node1\" class=\"node\">\n",
              "<title>temp_0</title>\n",
              "<ellipse fill=\"white\" stroke=\"black\" cx=\"42.25\" cy=\"-90\" rx=\"37.89\" ry=\"18\"/>\n",
              "<text text-anchor=\"middle\" x=\"42.25\" y=\"-86.3\" font-family=\"Times,serif\" font-size=\"14.00\">temp_0</text>\n",
              "</g>\n",
              "<!-- sensor_0 -->\n",
              "<g id=\"node2\" class=\"node\">\n",
              "<title>sensor_0</title>\n",
              "<ellipse fill=\"grey\" stroke=\"black\" cx=\"42.25\" cy=\"-18\" rx=\"42.49\" ry=\"18\"/>\n",
              "<text text-anchor=\"middle\" x=\"42.25\" y=\"-14.3\" font-family=\"Times,serif\" font-size=\"14.00\">sensor_0</text>\n",
              "</g>\n",
              "<!-- temp_0&#45;&gt;sensor_0 -->\n",
              "<g id=\"edge1\" class=\"edge\">\n",
              "<title>temp_0&#45;&gt;sensor_0</title>\n",
              "<path fill=\"none\" stroke=\"black\" d=\"M42.25,-71.7C42.25,-63.98 42.25,-54.71 42.25,-46.11\"/>\n",
              "<polygon fill=\"black\" stroke=\"black\" points=\"45.75,-46.1 42.25,-36.1 38.75,-46.1 45.75,-46.1\"/>\n",
              "</g>\n",
              "<!-- temp_1 -->\n",
              "<g id=\"node3\" class=\"node\">\n",
              "<title>temp_1</title>\n",
              "<ellipse fill=\"white\" stroke=\"black\" cx=\"144.25\" cy=\"-90\" rx=\"37.89\" ry=\"18\"/>\n",
              "<text text-anchor=\"middle\" x=\"144.25\" y=\"-86.3\" font-family=\"Times,serif\" font-size=\"14.00\">temp_1</text>\n",
              "</g>\n",
              "<!-- sensor_1 -->\n",
              "<g id=\"node4\" class=\"node\">\n",
              "<title>sensor_1</title>\n",
              "<ellipse fill=\"grey\" stroke=\"black\" cx=\"144.25\" cy=\"-18\" rx=\"42.49\" ry=\"18\"/>\n",
              "<text text-anchor=\"middle\" x=\"144.25\" y=\"-14.3\" font-family=\"Times,serif\" font-size=\"14.00\">sensor_1</text>\n",
              "</g>\n",
              "<!-- temp_1&#45;&gt;sensor_1 -->\n",
              "<g id=\"edge2\" class=\"edge\">\n",
              "<title>temp_1&#45;&gt;sensor_1</title>\n",
              "<path fill=\"none\" stroke=\"black\" d=\"M144.25,-71.7C144.25,-63.98 144.25,-54.71 144.25,-46.11\"/>\n",
              "<polygon fill=\"black\" stroke=\"black\" points=\"147.75,-46.1 144.25,-36.1 140.75,-46.1 147.75,-46.1\"/>\n",
              "</g>\n",
              "<!-- temp_2 -->\n",
              "<g id=\"node5\" class=\"node\">\n",
              "<title>temp_2</title>\n",
              "<ellipse fill=\"white\" stroke=\"black\" cx=\"246.25\" cy=\"-90\" rx=\"37.89\" ry=\"18\"/>\n",
              "<text text-anchor=\"middle\" x=\"246.25\" y=\"-86.3\" font-family=\"Times,serif\" font-size=\"14.00\">temp_2</text>\n",
              "</g>\n",
              "<!-- sensor_2 -->\n",
              "<g id=\"node6\" class=\"node\">\n",
              "<title>sensor_2</title>\n",
              "<ellipse fill=\"grey\" stroke=\"black\" cx=\"246.25\" cy=\"-18\" rx=\"42.49\" ry=\"18\"/>\n",
              "<text text-anchor=\"middle\" x=\"246.25\" y=\"-14.3\" font-family=\"Times,serif\" font-size=\"14.00\">sensor_2</text>\n",
              "</g>\n",
              "<!-- temp_2&#45;&gt;sensor_2 -->\n",
              "<g id=\"edge3\" class=\"edge\">\n",
              "<title>temp_2&#45;&gt;sensor_2</title>\n",
              "<path fill=\"none\" stroke=\"black\" d=\"M246.25,-71.7C246.25,-63.98 246.25,-54.71 246.25,-46.11\"/>\n",
              "<polygon fill=\"black\" stroke=\"black\" points=\"249.75,-46.1 246.25,-36.1 242.75,-46.1 249.75,-46.1\"/>\n",
              "</g>\n",
              "<!-- temp_3 -->\n",
              "<g id=\"node7\" class=\"node\">\n",
              "<title>temp_3</title>\n",
              "<ellipse fill=\"white\" stroke=\"black\" cx=\"348.25\" cy=\"-90\" rx=\"37.89\" ry=\"18\"/>\n",
              "<text text-anchor=\"middle\" x=\"348.25\" y=\"-86.3\" font-family=\"Times,serif\" font-size=\"14.00\">temp_3</text>\n",
              "</g>\n",
              "<!-- sensor_3 -->\n",
              "<g id=\"node8\" class=\"node\">\n",
              "<title>sensor_3</title>\n",
              "<ellipse fill=\"grey\" stroke=\"black\" cx=\"348.25\" cy=\"-18\" rx=\"42.49\" ry=\"18\"/>\n",
              "<text text-anchor=\"middle\" x=\"348.25\" y=\"-14.3\" font-family=\"Times,serif\" font-size=\"14.00\">sensor_3</text>\n",
              "</g>\n",
              "<!-- temp_3&#45;&gt;sensor_3 -->\n",
              "<g id=\"edge4\" class=\"edge\">\n",
              "<title>temp_3&#45;&gt;sensor_3</title>\n",
              "<path fill=\"none\" stroke=\"black\" d=\"M348.25,-71.7C348.25,-63.98 348.25,-54.71 348.25,-46.11\"/>\n",
              "<polygon fill=\"black\" stroke=\"black\" points=\"351.75,-46.1 348.25,-36.1 344.75,-46.1 351.75,-46.1\"/>\n",
              "</g>\n",
              "<!-- temp_4 -->\n",
              "<g id=\"node9\" class=\"node\">\n",
              "<title>temp_4</title>\n",
              "<ellipse fill=\"white\" stroke=\"black\" cx=\"450.25\" cy=\"-90\" rx=\"37.89\" ry=\"18\"/>\n",
              "<text text-anchor=\"middle\" x=\"450.25\" y=\"-86.3\" font-family=\"Times,serif\" font-size=\"14.00\">temp_4</text>\n",
              "</g>\n",
              "<!-- sensor_4 -->\n",
              "<g id=\"node10\" class=\"node\">\n",
              "<title>sensor_4</title>\n",
              "<ellipse fill=\"grey\" stroke=\"black\" cx=\"450.25\" cy=\"-18\" rx=\"42.49\" ry=\"18\"/>\n",
              "<text text-anchor=\"middle\" x=\"450.25\" y=\"-14.3\" font-family=\"Times,serif\" font-size=\"14.00\">sensor_4</text>\n",
              "</g>\n",
              "<!-- temp_4&#45;&gt;sensor_4 -->\n",
              "<g id=\"edge5\" class=\"edge\">\n",
              "<title>temp_4&#45;&gt;sensor_4</title>\n",
              "<path fill=\"none\" stroke=\"black\" d=\"M450.25,-71.7C450.25,-63.98 450.25,-54.71 450.25,-46.11\"/>\n",
              "<polygon fill=\"black\" stroke=\"black\" points=\"453.75,-46.1 450.25,-36.1 446.75,-46.1 453.75,-46.1\"/>\n",
              "</g>\n",
              "<!-- temp_5 -->\n",
              "<g id=\"node11\" class=\"node\">\n",
              "<title>temp_5</title>\n",
              "<ellipse fill=\"white\" stroke=\"black\" cx=\"552.25\" cy=\"-90\" rx=\"37.89\" ry=\"18\"/>\n",
              "<text text-anchor=\"middle\" x=\"552.25\" y=\"-86.3\" font-family=\"Times,serif\" font-size=\"14.00\">temp_5</text>\n",
              "</g>\n",
              "<!-- sensor_5 -->\n",
              "<g id=\"node12\" class=\"node\">\n",
              "<title>sensor_5</title>\n",
              "<ellipse fill=\"grey\" stroke=\"black\" cx=\"552.25\" cy=\"-18\" rx=\"42.49\" ry=\"18\"/>\n",
              "<text text-anchor=\"middle\" x=\"552.25\" y=\"-14.3\" font-family=\"Times,serif\" font-size=\"14.00\">sensor_5</text>\n",
              "</g>\n",
              "<!-- temp_5&#45;&gt;sensor_5 -->\n",
              "<g id=\"edge6\" class=\"edge\">\n",
              "<title>temp_5&#45;&gt;sensor_5</title>\n",
              "<path fill=\"none\" stroke=\"black\" d=\"M552.25,-71.7C552.25,-63.98 552.25,-54.71 552.25,-46.11\"/>\n",
              "<polygon fill=\"black\" stroke=\"black\" points=\"555.75,-46.1 552.25,-36.1 548.75,-46.1 555.75,-46.1\"/>\n",
              "</g>\n",
              "<!-- temp_6 -->\n",
              "<g id=\"node13\" class=\"node\">\n",
              "<title>temp_6</title>\n",
              "<ellipse fill=\"white\" stroke=\"black\" cx=\"654.25\" cy=\"-90\" rx=\"37.89\" ry=\"18\"/>\n",
              "<text text-anchor=\"middle\" x=\"654.25\" y=\"-86.3\" font-family=\"Times,serif\" font-size=\"14.00\">temp_6</text>\n",
              "</g>\n",
              "<!-- sensor_6 -->\n",
              "<g id=\"node14\" class=\"node\">\n",
              "<title>sensor_6</title>\n",
              "<ellipse fill=\"grey\" stroke=\"black\" cx=\"654.25\" cy=\"-18\" rx=\"42.49\" ry=\"18\"/>\n",
              "<text text-anchor=\"middle\" x=\"654.25\" y=\"-14.3\" font-family=\"Times,serif\" font-size=\"14.00\">sensor_6</text>\n",
              "</g>\n",
              "<!-- temp_6&#45;&gt;sensor_6 -->\n",
              "<g id=\"edge7\" class=\"edge\">\n",
              "<title>temp_6&#45;&gt;sensor_6</title>\n",
              "<path fill=\"none\" stroke=\"black\" d=\"M654.25,-71.7C654.25,-63.98 654.25,-54.71 654.25,-46.11\"/>\n",
              "<polygon fill=\"black\" stroke=\"black\" points=\"657.75,-46.1 654.25,-36.1 650.75,-46.1 657.75,-46.1\"/>\n",
              "</g>\n",
              "<!-- temp_7 -->\n",
              "<g id=\"node15\" class=\"node\">\n",
              "<title>temp_7</title>\n",
              "<ellipse fill=\"white\" stroke=\"black\" cx=\"756.25\" cy=\"-90\" rx=\"37.89\" ry=\"18\"/>\n",
              "<text text-anchor=\"middle\" x=\"756.25\" y=\"-86.3\" font-family=\"Times,serif\" font-size=\"14.00\">temp_7</text>\n",
              "</g>\n",
              "<!-- sensor_7 -->\n",
              "<g id=\"node16\" class=\"node\">\n",
              "<title>sensor_7</title>\n",
              "<ellipse fill=\"grey\" stroke=\"black\" cx=\"756.25\" cy=\"-18\" rx=\"42.49\" ry=\"18\"/>\n",
              "<text text-anchor=\"middle\" x=\"756.25\" y=\"-14.3\" font-family=\"Times,serif\" font-size=\"14.00\">sensor_7</text>\n",
              "</g>\n",
              "<!-- temp_7&#45;&gt;sensor_7 -->\n",
              "<g id=\"edge8\" class=\"edge\">\n",
              "<title>temp_7&#45;&gt;sensor_7</title>\n",
              "<path fill=\"none\" stroke=\"black\" d=\"M756.25,-71.7C756.25,-63.98 756.25,-54.71 756.25,-46.11\"/>\n",
              "<polygon fill=\"black\" stroke=\"black\" points=\"759.75,-46.1 756.25,-36.1 752.75,-46.1 759.75,-46.1\"/>\n",
              "</g>\n",
              "<!-- temp_8 -->\n",
              "<g id=\"node17\" class=\"node\">\n",
              "<title>temp_8</title>\n",
              "<ellipse fill=\"white\" stroke=\"black\" cx=\"858.25\" cy=\"-90\" rx=\"37.89\" ry=\"18\"/>\n",
              "<text text-anchor=\"middle\" x=\"858.25\" y=\"-86.3\" font-family=\"Times,serif\" font-size=\"14.00\">temp_8</text>\n",
              "</g>\n",
              "<!-- sensor_8 -->\n",
              "<g id=\"node18\" class=\"node\">\n",
              "<title>sensor_8</title>\n",
              "<ellipse fill=\"grey\" stroke=\"black\" cx=\"858.25\" cy=\"-18\" rx=\"42.49\" ry=\"18\"/>\n",
              "<text text-anchor=\"middle\" x=\"858.25\" y=\"-14.3\" font-family=\"Times,serif\" font-size=\"14.00\">sensor_8</text>\n",
              "</g>\n",
              "<!-- temp_8&#45;&gt;sensor_8 -->\n",
              "<g id=\"edge9\" class=\"edge\">\n",
              "<title>temp_8&#45;&gt;sensor_8</title>\n",
              "<path fill=\"none\" stroke=\"black\" d=\"M858.25,-71.7C858.25,-63.98 858.25,-54.71 858.25,-46.11\"/>\n",
              "<polygon fill=\"black\" stroke=\"black\" points=\"861.75,-46.1 858.25,-36.1 854.75,-46.1 861.75,-46.1\"/>\n",
              "</g>\n",
              "<!-- temp_9 -->\n",
              "<g id=\"node19\" class=\"node\">\n",
              "<title>temp_9</title>\n",
              "<ellipse fill=\"white\" stroke=\"black\" cx=\"960.25\" cy=\"-90\" rx=\"37.89\" ry=\"18\"/>\n",
              "<text text-anchor=\"middle\" x=\"960.25\" y=\"-86.3\" font-family=\"Times,serif\" font-size=\"14.00\">temp_9</text>\n",
              "</g>\n",
              "<!-- sensor_9 -->\n",
              "<g id=\"node20\" class=\"node\">\n",
              "<title>sensor_9</title>\n",
              "<ellipse fill=\"grey\" stroke=\"black\" cx=\"960.25\" cy=\"-18\" rx=\"42.49\" ry=\"18\"/>\n",
              "<text text-anchor=\"middle\" x=\"960.25\" y=\"-14.3\" font-family=\"Times,serif\" font-size=\"14.00\">sensor_9</text>\n",
              "</g>\n",
              "<!-- temp_9&#45;&gt;sensor_9 -->\n",
              "<g id=\"edge10\" class=\"edge\">\n",
              "<title>temp_9&#45;&gt;sensor_9</title>\n",
              "<path fill=\"none\" stroke=\"black\" d=\"M960.25,-71.7C960.25,-63.98 960.25,-54.71 960.25,-46.11\"/>\n",
              "<polygon fill=\"black\" stroke=\"black\" points=\"963.75,-46.1 960.25,-36.1 956.75,-46.1 963.75,-46.1\"/>\n",
              "</g>\n",
              "</g>\n",
              "</svg>\n"
            ],
            "text/plain": [
              "<graphviz.graphs.Digraph at 0x7f7dd8419b20>"
            ]
          },
          "execution_count": 23,
          "metadata": {},
          "output_type": "execute_result"
        }
      ],
      "source": [
        "#Visualize the model\n",
        "pyro.render_model(model, model_args=(obs, ))"
      ]
    },
    {
      "cell_type": "code",
      "execution_count": null,
      "metadata": {
        "colab": {
          "base_uri": "https://localhost:8080/"
        },
        "id": "pa9T-qOMkyGw",
        "outputId": "0ec03b59-4abd-46d4-89a7-de103ed4508f"
      },
      "outputs": [
        {
          "name": "stdout",
          "output_type": "stream",
          "text": [
            "Step: 0. Loss: 2270.0551331043243\n",
            "Step: 100. Loss: 191.25131821632385\n",
            "Step: 200. Loss: 55.76117891073227\n",
            "Step: 300. Loss: 42.96208876371384\n",
            "Step: 400. Loss: 40.83998894691467\n",
            "Inference results:\n",
            "AutoNormal.locs.temp_0 Parameter containing:\n",
            "tensor(17.4279, requires_grad=True)\n",
            "AutoNormal.scales.temp_0 tensor(0.8460, grad_fn=<SoftplusBackward0>)\n",
            "AutoNormal.locs.temp_1 Parameter containing:\n",
            "tensor(17.9418, requires_grad=True)\n",
            "AutoNormal.scales.temp_1 tensor(0.8459, grad_fn=<SoftplusBackward0>)\n",
            "AutoNormal.locs.temp_2 Parameter containing:\n",
            "tensor(18.2756, requires_grad=True)\n",
            "AutoNormal.scales.temp_2 tensor(0.8490, grad_fn=<SoftplusBackward0>)\n",
            "AutoNormal.locs.temp_3 Parameter containing:\n",
            "tensor(17.2302, requires_grad=True)\n",
            "AutoNormal.scales.temp_3 tensor(0.9022, grad_fn=<SoftplusBackward0>)\n",
            "AutoNormal.locs.temp_4 Parameter containing:\n",
            "tensor(19.3044, requires_grad=True)\n",
            "AutoNormal.scales.temp_4 tensor(0.7995, grad_fn=<SoftplusBackward0>)\n",
            "AutoNormal.locs.temp_5 Parameter containing:\n",
            "tensor(20.9456, requires_grad=True)\n",
            "AutoNormal.scales.temp_5 tensor(0.9167, grad_fn=<SoftplusBackward0>)\n",
            "AutoNormal.locs.temp_6 Parameter containing:\n",
            "tensor(19.3122, requires_grad=True)\n",
            "AutoNormal.scales.temp_6 tensor(0.8624, grad_fn=<SoftplusBackward0>)\n",
            "AutoNormal.locs.temp_7 Parameter containing:\n",
            "tensor(19.9350, requires_grad=True)\n",
            "AutoNormal.scales.temp_7 tensor(0.8151, grad_fn=<SoftplusBackward0>)\n",
            "AutoNormal.locs.temp_8 Parameter containing:\n",
            "tensor(18.5661, requires_grad=True)\n",
            "AutoNormal.scales.temp_8 tensor(0.8957, grad_fn=<SoftplusBackward0>)\n",
            "AutoNormal.locs.temp_9 Parameter containing:\n",
            "tensor(19.0391, requires_grad=True)\n",
            "AutoNormal.scales.temp_9 tensor(0.8311, grad_fn=<SoftplusBackward0>)\n"
          ]
        }
      ],
      "source": [
        "#Run inference\n",
        "svi(model, obs, verbose=True)"
      ]
    },
    {
      "cell_type": "markdown",
      "metadata": {
        "id": "fjcPTM1PL-0x"
      },
      "source": [
        "\n",
        "<img src=\"https://github.com/PGM-Lab/probai-2021-pyro/blob/main/Day1/Figures/blue.png?raw=1\" alt=\"Drawing\" width=2000 height=20>\n",
        "\n",
        "What if we do **not know the mean temperature**? \n",
        "\n",
        "* We can **infer it from the data** by, e.g., using a **maximum likelihood** approach,\n",
        "$$ \\mu_{t} = \\arg\\max_\\mu \\ln p(s_1,\\ldots,s_n|\\mu) = \\arg\\max_\\mu \\prod_i \\int_{t_i} p(s_i|t_i)p(t_i|\\mu) dt_i, $$ where $s_i$ and $t_i$ denote the sensor reading and the real temperature at time $i$. \n",
        "\n",
        "* The graphical model:\n",
        "<center>\n",
        "<img src=\"https://github.com/PGM-Lab/probai-2021-pyro/blob/main/Day1/Figures/PGM-Tem_sensor4.png?raw=1\" alt=\"Drawing\" width=\"150\">\n",
        "</center>\n",
        "* For now we do not consider the **underlying inference problem** We just define the model and let the **PPL's engine** make the work for us. \n",
        "\n",
        "* We use Pyro's parameters (defined as ``pyro.param``), which are free variables we can optimize. \n"
      ]
    },
    {
      "cell_type": "code",
      "execution_count": null,
      "metadata": {
        "id": "yXEFGMkzL-0x"
      },
      "outputs": [],
      "source": [
        "#The observatons   \n",
        "obs = {'sensor': torch.tensor([18., 18.7, 19.2, 17.8, 20.3, 22.4, 20.3, 21.2, 19.5, 20.1])}\n",
        "\n",
        "def model(obs):\n",
        "    mean_temp = pyro.param('mean_temp', torch.tensor(15.0))\n",
        "    for i in range(obs['sensor'].shape[0]):\n",
        "        temp = pyro.sample(f'temp_{i}', dist.Normal(mean_temp, 2.0))\n",
        "        sensor = pyro.sample(f'sensor_{i}', dist.Normal(temp, 1.0), obs=obs['sensor'][i])"
      ]
    },
    {
      "cell_type": "code",
      "execution_count": null,
      "metadata": {
        "id": "xEQx0yChCSB7",
        "outputId": "ae2d120f-2863-404f-fa30-8e002cf2f06b"
      },
      "outputs": [
        {
          "data": {
            "image/svg+xml": [
              "<?xml version=\"1.0\" encoding=\"UTF-8\" standalone=\"no\"?>\n",
              "<!DOCTYPE svg PUBLIC \"-//W3C//DTD SVG 1.1//EN\"\n",
              " \"http://www.w3.org/Graphics/SVG/1.1/DTD/svg11.dtd\">\n",
              "<!-- Generated by graphviz version 3.0.0 (20220226.1711)\n",
              " -->\n",
              "<!-- Pages: 1 -->\n",
              "<svg width=\"1010pt\" height=\"167pt\"\n",
              " viewBox=\"0.00 0.00 1010.49 167.00\" xmlns=\"http://www.w3.org/2000/svg\" xmlns:xlink=\"http://www.w3.org/1999/xlink\">\n",
              "<g id=\"graph0\" class=\"graph\" transform=\"scale(1 1) rotate(0) translate(4 163)\">\n",
              "<polygon fill=\"white\" stroke=\"transparent\" points=\"-4,4 -4,-163 1006.49,-163 1006.49,4 -4,4\"/>\n",
              "<!-- temp_0 -->\n",
              "<g id=\"node1\" class=\"node\">\n",
              "<title>temp_0</title>\n",
              "<ellipse fill=\"white\" stroke=\"black\" cx=\"51.25\" cy=\"-90\" rx=\"37.89\" ry=\"18\"/>\n",
              "<text text-anchor=\"middle\" x=\"51.25\" y=\"-86.3\" font-family=\"Times,serif\" font-size=\"14.00\">temp_0</text>\n",
              "</g>\n",
              "<!-- sensor_0 -->\n",
              "<g id=\"node2\" class=\"node\">\n",
              "<title>sensor_0</title>\n",
              "<ellipse fill=\"grey\" stroke=\"black\" cx=\"42.25\" cy=\"-18\" rx=\"42.49\" ry=\"18\"/>\n",
              "<text text-anchor=\"middle\" x=\"42.25\" y=\"-14.3\" font-family=\"Times,serif\" font-size=\"14.00\">sensor_0</text>\n",
              "</g>\n",
              "<!-- temp_0&#45;&gt;sensor_0 -->\n",
              "<g id=\"edge1\" class=\"edge\">\n",
              "<title>temp_0&#45;&gt;sensor_0</title>\n",
              "<path fill=\"none\" stroke=\"black\" d=\"M49.02,-71.7C48.03,-63.98 46.84,-54.71 45.73,-46.11\"/>\n",
              "<polygon fill=\"black\" stroke=\"black\" points=\"49.19,-45.58 44.45,-36.1 42.25,-46.47 49.19,-45.58\"/>\n",
              "</g>\n",
              "<!-- temp_1 -->\n",
              "<g id=\"node3\" class=\"node\">\n",
              "<title>temp_1</title>\n",
              "<ellipse fill=\"white\" stroke=\"black\" cx=\"148.25\" cy=\"-90\" rx=\"37.89\" ry=\"18\"/>\n",
              "<text text-anchor=\"middle\" x=\"148.25\" y=\"-86.3\" font-family=\"Times,serif\" font-size=\"14.00\">temp_1</text>\n",
              "</g>\n",
              "<!-- sensor_1 -->\n",
              "<g id=\"node4\" class=\"node\">\n",
              "<title>sensor_1</title>\n",
              "<ellipse fill=\"grey\" stroke=\"black\" cx=\"144.25\" cy=\"-18\" rx=\"42.49\" ry=\"18\"/>\n",
              "<text text-anchor=\"middle\" x=\"144.25\" y=\"-14.3\" font-family=\"Times,serif\" font-size=\"14.00\">sensor_1</text>\n",
              "</g>\n",
              "<!-- temp_1&#45;&gt;sensor_1 -->\n",
              "<g id=\"edge2\" class=\"edge\">\n",
              "<title>temp_1&#45;&gt;sensor_1</title>\n",
              "<path fill=\"none\" stroke=\"black\" d=\"M147.26,-71.7C146.82,-63.98 146.29,-54.71 145.8,-46.11\"/>\n",
              "<polygon fill=\"black\" stroke=\"black\" points=\"149.29,-45.89 145.22,-36.1 142.3,-46.29 149.29,-45.89\"/>\n",
              "</g>\n",
              "<!-- temp_2 -->\n",
              "<g id=\"node5\" class=\"node\">\n",
              "<title>temp_2</title>\n",
              "<ellipse fill=\"white\" stroke=\"black\" cx=\"250.25\" cy=\"-90\" rx=\"37.89\" ry=\"18\"/>\n",
              "<text text-anchor=\"middle\" x=\"250.25\" y=\"-86.3\" font-family=\"Times,serif\" font-size=\"14.00\">temp_2</text>\n",
              "</g>\n",
              "<!-- sensor_2 -->\n",
              "<g id=\"node6\" class=\"node\">\n",
              "<title>sensor_2</title>\n",
              "<ellipse fill=\"grey\" stroke=\"black\" cx=\"246.25\" cy=\"-18\" rx=\"42.49\" ry=\"18\"/>\n",
              "<text text-anchor=\"middle\" x=\"246.25\" y=\"-14.3\" font-family=\"Times,serif\" font-size=\"14.00\">sensor_2</text>\n",
              "</g>\n",
              "<!-- temp_2&#45;&gt;sensor_2 -->\n",
              "<g id=\"edge3\" class=\"edge\">\n",
              "<title>temp_2&#45;&gt;sensor_2</title>\n",
              "<path fill=\"none\" stroke=\"black\" d=\"M249.26,-71.7C248.82,-63.98 248.29,-54.71 247.8,-46.11\"/>\n",
              "<polygon fill=\"black\" stroke=\"black\" points=\"251.29,-45.89 247.22,-36.1 244.3,-46.29 251.29,-45.89\"/>\n",
              "</g>\n",
              "<!-- temp_3 -->\n",
              "<g id=\"node7\" class=\"node\">\n",
              "<title>temp_3</title>\n",
              "<ellipse fill=\"white\" stroke=\"black\" cx=\"352.25\" cy=\"-90\" rx=\"37.89\" ry=\"18\"/>\n",
              "<text text-anchor=\"middle\" x=\"352.25\" y=\"-86.3\" font-family=\"Times,serif\" font-size=\"14.00\">temp_3</text>\n",
              "</g>\n",
              "<!-- sensor_3 -->\n",
              "<g id=\"node8\" class=\"node\">\n",
              "<title>sensor_3</title>\n",
              "<ellipse fill=\"grey\" stroke=\"black\" cx=\"348.25\" cy=\"-18\" rx=\"42.49\" ry=\"18\"/>\n",
              "<text text-anchor=\"middle\" x=\"348.25\" y=\"-14.3\" font-family=\"Times,serif\" font-size=\"14.00\">sensor_3</text>\n",
              "</g>\n",
              "<!-- temp_3&#45;&gt;sensor_3 -->\n",
              "<g id=\"edge4\" class=\"edge\">\n",
              "<title>temp_3&#45;&gt;sensor_3</title>\n",
              "<path fill=\"none\" stroke=\"black\" d=\"M351.26,-71.7C350.82,-63.98 350.29,-54.71 349.8,-46.11\"/>\n",
              "<polygon fill=\"black\" stroke=\"black\" points=\"353.29,-45.89 349.22,-36.1 346.3,-46.29 353.29,-45.89\"/>\n",
              "</g>\n",
              "<!-- temp_4 -->\n",
              "<g id=\"node9\" class=\"node\">\n",
              "<title>temp_4</title>\n",
              "<ellipse fill=\"white\" stroke=\"black\" cx=\"451.25\" cy=\"-90\" rx=\"37.89\" ry=\"18\"/>\n",
              "<text text-anchor=\"middle\" x=\"451.25\" y=\"-86.3\" font-family=\"Times,serif\" font-size=\"14.00\">temp_4</text>\n",
              "</g>\n",
              "<!-- sensor_4 -->\n",
              "<g id=\"node10\" class=\"node\">\n",
              "<title>sensor_4</title>\n",
              "<ellipse fill=\"grey\" stroke=\"black\" cx=\"450.25\" cy=\"-18\" rx=\"42.49\" ry=\"18\"/>\n",
              "<text text-anchor=\"middle\" x=\"450.25\" y=\"-14.3\" font-family=\"Times,serif\" font-size=\"14.00\">sensor_4</text>\n",
              "</g>\n",
              "<!-- temp_4&#45;&gt;sensor_4 -->\n",
              "<g id=\"edge5\" class=\"edge\">\n",
              "<title>temp_4&#45;&gt;sensor_4</title>\n",
              "<path fill=\"none\" stroke=\"black\" d=\"M451,-71.7C450.89,-63.98 450.76,-54.71 450.63,-46.11\"/>\n",
              "<polygon fill=\"black\" stroke=\"black\" points=\"454.13,-46.05 450.49,-36.1 447.13,-46.15 454.13,-46.05\"/>\n",
              "</g>\n",
              "<!-- temp_5 -->\n",
              "<g id=\"node11\" class=\"node\">\n",
              "<title>temp_5</title>\n",
              "<ellipse fill=\"white\" stroke=\"black\" cx=\"545.25\" cy=\"-90\" rx=\"37.89\" ry=\"18\"/>\n",
              "<text text-anchor=\"middle\" x=\"545.25\" y=\"-86.3\" font-family=\"Times,serif\" font-size=\"14.00\">temp_5</text>\n",
              "</g>\n",
              "<!-- sensor_5 -->\n",
              "<g id=\"node12\" class=\"node\">\n",
              "<title>sensor_5</title>\n",
              "<ellipse fill=\"grey\" stroke=\"black\" cx=\"552.25\" cy=\"-18\" rx=\"42.49\" ry=\"18\"/>\n",
              "<text text-anchor=\"middle\" x=\"552.25\" y=\"-14.3\" font-family=\"Times,serif\" font-size=\"14.00\">sensor_5</text>\n",
              "</g>\n",
              "<!-- temp_5&#45;&gt;sensor_5 -->\n",
              "<g id=\"edge6\" class=\"edge\">\n",
              "<title>temp_5&#45;&gt;sensor_5</title>\n",
              "<path fill=\"none\" stroke=\"black\" d=\"M546.98,-71.7C547.75,-63.98 548.68,-54.71 549.54,-46.11\"/>\n",
              "<polygon fill=\"black\" stroke=\"black\" points=\"553.02,-46.4 550.54,-36.1 546.06,-45.71 553.02,-46.4\"/>\n",
              "</g>\n",
              "<!-- temp_6 -->\n",
              "<g id=\"node13\" class=\"node\">\n",
              "<title>temp_6</title>\n",
              "<ellipse fill=\"white\" stroke=\"black\" cx=\"641.25\" cy=\"-90\" rx=\"37.89\" ry=\"18\"/>\n",
              "<text text-anchor=\"middle\" x=\"641.25\" y=\"-86.3\" font-family=\"Times,serif\" font-size=\"14.00\">temp_6</text>\n",
              "</g>\n",
              "<!-- sensor_6 -->\n",
              "<g id=\"node14\" class=\"node\">\n",
              "<title>sensor_6</title>\n",
              "<ellipse fill=\"grey\" stroke=\"black\" cx=\"654.25\" cy=\"-18\" rx=\"42.49\" ry=\"18\"/>\n",
              "<text text-anchor=\"middle\" x=\"654.25\" y=\"-14.3\" font-family=\"Times,serif\" font-size=\"14.00\">sensor_6</text>\n",
              "</g>\n",
              "<!-- temp_6&#45;&gt;sensor_6 -->\n",
              "<g id=\"edge7\" class=\"edge\">\n",
              "<title>temp_6&#45;&gt;sensor_6</title>\n",
              "<path fill=\"none\" stroke=\"black\" d=\"M644.39,-72.05C645.82,-64.35 647.56,-55.03 649.16,-46.36\"/>\n",
              "<polygon fill=\"black\" stroke=\"black\" points=\"652.65,-46.75 651.04,-36.28 645.77,-45.47 652.65,-46.75\"/>\n",
              "</g>\n",
              "<!-- temp_7 -->\n",
              "<g id=\"node15\" class=\"node\">\n",
              "<title>temp_7</title>\n",
              "<ellipse fill=\"white\" stroke=\"black\" cx=\"740.25\" cy=\"-90\" rx=\"37.89\" ry=\"18\"/>\n",
              "<text text-anchor=\"middle\" x=\"740.25\" y=\"-86.3\" font-family=\"Times,serif\" font-size=\"14.00\">temp_7</text>\n",
              "</g>\n",
              "<!-- sensor_7 -->\n",
              "<g id=\"node16\" class=\"node\">\n",
              "<title>sensor_7</title>\n",
              "<ellipse fill=\"grey\" stroke=\"black\" cx=\"756.25\" cy=\"-18\" rx=\"42.49\" ry=\"18\"/>\n",
              "<text text-anchor=\"middle\" x=\"756.25\" y=\"-14.3\" font-family=\"Times,serif\" font-size=\"14.00\">sensor_7</text>\n",
              "</g>\n",
              "<!-- temp_7&#45;&gt;sensor_7 -->\n",
              "<g id=\"edge8\" class=\"edge\">\n",
              "<title>temp_7&#45;&gt;sensor_7</title>\n",
              "<path fill=\"none\" stroke=\"black\" d=\"M744.12,-72.05C745.9,-64.26 748.06,-54.82 750.06,-46.08\"/>\n",
              "<polygon fill=\"black\" stroke=\"black\" points=\"753.48,-46.8 752.3,-36.28 746.66,-45.24 753.48,-46.8\"/>\n",
              "</g>\n",
              "<!-- temp_8 -->\n",
              "<g id=\"node17\" class=\"node\">\n",
              "<title>temp_8</title>\n",
              "<ellipse fill=\"white\" stroke=\"black\" cx=\"844.25\" cy=\"-90\" rx=\"37.89\" ry=\"18\"/>\n",
              "<text text-anchor=\"middle\" x=\"844.25\" y=\"-86.3\" font-family=\"Times,serif\" font-size=\"14.00\">temp_8</text>\n",
              "</g>\n",
              "<!-- sensor_8 -->\n",
              "<g id=\"node18\" class=\"node\">\n",
              "<title>sensor_8</title>\n",
              "<ellipse fill=\"grey\" stroke=\"black\" cx=\"858.25\" cy=\"-18\" rx=\"42.49\" ry=\"18\"/>\n",
              "<text text-anchor=\"middle\" x=\"858.25\" y=\"-14.3\" font-family=\"Times,serif\" font-size=\"14.00\">sensor_8</text>\n",
              "</g>\n",
              "<!-- temp_8&#45;&gt;sensor_8 -->\n",
              "<g id=\"edge9\" class=\"edge\">\n",
              "<title>temp_8&#45;&gt;sensor_8</title>\n",
              "<path fill=\"none\" stroke=\"black\" d=\"M847.64,-72.05C849.18,-64.35 851.04,-55.03 852.77,-46.36\"/>\n",
              "<polygon fill=\"black\" stroke=\"black\" points=\"856.26,-46.77 854.79,-36.28 849.4,-45.39 856.26,-46.77\"/>\n",
              "</g>\n",
              "<!-- temp_9 -->\n",
              "<g id=\"node19\" class=\"node\">\n",
              "<title>temp_9</title>\n",
              "<ellipse fill=\"white\" stroke=\"black\" cx=\"959.25\" cy=\"-90\" rx=\"37.89\" ry=\"18\"/>\n",
              "<text text-anchor=\"middle\" x=\"959.25\" y=\"-86.3\" font-family=\"Times,serif\" font-size=\"14.00\">temp_9</text>\n",
              "</g>\n",
              "<!-- sensor_9 -->\n",
              "<g id=\"node20\" class=\"node\">\n",
              "<title>sensor_9</title>\n",
              "<ellipse fill=\"grey\" stroke=\"black\" cx=\"960.25\" cy=\"-18\" rx=\"42.49\" ry=\"18\"/>\n",
              "<text text-anchor=\"middle\" x=\"960.25\" y=\"-14.3\" font-family=\"Times,serif\" font-size=\"14.00\">sensor_9</text>\n",
              "</g>\n",
              "<!-- temp_9&#45;&gt;sensor_9 -->\n",
              "<g id=\"edge10\" class=\"edge\">\n",
              "<title>temp_9&#45;&gt;sensor_9</title>\n",
              "<path fill=\"none\" stroke=\"black\" d=\"M959.49,-71.7C959.6,-63.98 959.74,-54.71 959.86,-46.11\"/>\n",
              "<polygon fill=\"black\" stroke=\"black\" points=\"963.36,-46.15 960,-36.1 956.36,-46.05 963.36,-46.15\"/>\n",
              "</g>\n",
              "<!-- mean_temp -->\n",
              "<g id=\"node21\" class=\"node\">\n",
              "<title>mean_temp</title>\n",
              "<polygon fill=\"white\" stroke=\"transparent\" points=\"530.75,-159 465.75,-159 465.75,-144 530.75,-144 530.75,-159\"/>\n",
              "<text text-anchor=\"middle\" x=\"498.25\" y=\"-147.8\" font-family=\"Times,serif\" font-size=\"14.00\">mean_temp</text>\n",
              "</g>\n",
              "<!-- mean_temp&#45;&gt;temp_0 -->\n",
              "<g id=\"edge11\" class=\"edge\">\n",
              "<title>mean_temp&#45;&gt;temp_0</title>\n",
              "<path fill=\"none\" stroke=\"black\" d=\"M465.69,-149.45C397.39,-146.71 234.42,-137.39 101.25,-108 97.38,-107.15 93.39,-106.1 89.44,-104.94\"/>\n",
              "<polygon fill=\"black\" stroke=\"black\" points=\"90.35,-101.56 79.76,-101.9 88.25,-108.24 90.35,-101.56\"/>\n",
              "</g>\n",
              "<!-- mean_temp&#45;&gt;temp_1 -->\n",
              "<g id=\"edge12\" class=\"edge\">\n",
              "<title>mean_temp&#45;&gt;temp_1</title>\n",
              "<path fill=\"none\" stroke=\"black\" d=\"M465.64,-147.49C410.93,-142.06 297.39,-129.19 203.25,-108 198.2,-106.86 192.94,-105.49 187.76,-104.02\"/>\n",
              "<polygon fill=\"black\" stroke=\"black\" points=\"188.57,-100.61 177.99,-101.12 186.58,-107.32 188.57,-100.61\"/>\n",
              "</g>\n",
              "<!-- mean_temp&#45;&gt;temp_2 -->\n",
              "<g id=\"edge13\" class=\"edge\">\n",
              "<title>mean_temp&#45;&gt;temp_2</title>\n",
              "<path fill=\"none\" stroke=\"black\" d=\"M465.61,-144.17C427.07,-136.51 361.14,-122.77 305.25,-108 300.48,-106.74 295.52,-105.34 290.6,-103.89\"/>\n",
              "<polygon fill=\"black\" stroke=\"black\" points=\"291.25,-100.43 280.66,-100.9 289.23,-107.13 291.25,-100.43\"/>\n",
              "</g>\n",
              "<!-- mean_temp&#45;&gt;temp_3 -->\n",
              "<g id=\"edge14\" class=\"edge\">\n",
              "<title>mean_temp&#45;&gt;temp_3</title>\n",
              "<path fill=\"none\" stroke=\"black\" d=\"M482.06,-143.91C459.82,-134.84 419.16,-118.27 389.26,-106.08\"/>\n",
              "<polygon fill=\"black\" stroke=\"black\" points=\"390.54,-102.83 379.96,-102.29 387.9,-109.31 390.54,-102.83\"/>\n",
              "</g>\n",
              "<!-- mean_temp&#45;&gt;temp_4 -->\n",
              "<g id=\"edge15\" class=\"edge\">\n",
              "<title>mean_temp&#45;&gt;temp_4</title>\n",
              "<path fill=\"none\" stroke=\"black\" d=\"M492.85,-143.67C487.38,-136.74 478.56,-125.58 470.46,-115.32\"/>\n",
              "<polygon fill=\"black\" stroke=\"black\" points=\"473.13,-113.05 464.18,-107.38 467.63,-117.39 473.13,-113.05\"/>\n",
              "</g>\n",
              "<!-- mean_temp&#45;&gt;temp_5 -->\n",
              "<g id=\"edge16\" class=\"edge\">\n",
              "<title>mean_temp&#45;&gt;temp_5</title>\n",
              "<path fill=\"none\" stroke=\"black\" d=\"M503.64,-143.67C509.12,-136.74 517.93,-125.58 526.04,-115.32\"/>\n",
              "<polygon fill=\"black\" stroke=\"black\" points=\"528.86,-117.39 532.31,-107.38 523.36,-113.05 528.86,-117.39\"/>\n",
              "</g>\n",
              "<!-- mean_temp&#45;&gt;temp_6 -->\n",
              "<g id=\"edge17\" class=\"edge\">\n",
              "<title>mean_temp&#45;&gt;temp_6</title>\n",
              "<path fill=\"none\" stroke=\"black\" d=\"M514.1,-143.91C535.72,-134.91 575.12,-118.51 604.35,-106.35\"/>\n",
              "<polygon fill=\"black\" stroke=\"black\" points=\"605.95,-109.48 613.83,-102.41 603.26,-103.02 605.95,-109.48\"/>\n",
              "</g>\n",
              "<!-- mean_temp&#45;&gt;temp_7 -->\n",
              "<g id=\"edge18\" class=\"edge\">\n",
              "<title>mean_temp&#45;&gt;temp_7</title>\n",
              "<path fill=\"none\" stroke=\"black\" d=\"M530.75,-144.22C568.77,-136.64 633.49,-123.04 688.25,-108 692.37,-106.87 696.65,-105.61 700.9,-104.3\"/>\n",
              "<polygon fill=\"black\" stroke=\"black\" points=\"702.22,-107.56 710.7,-101.2 700.11,-100.88 702.22,-107.56\"/>\n",
              "</g>\n",
              "<!-- mean_temp&#45;&gt;temp_8 -->\n",
              "<g id=\"edge19\" class=\"edge\">\n",
              "<title>mean_temp&#45;&gt;temp_8</title>\n",
              "<path fill=\"none\" stroke=\"black\" d=\"M531.03,-147.23C584.92,-141.52 695.4,-128.34 787.25,-108 792.73,-106.79 798.45,-105.32 804.07,-103.77\"/>\n",
              "<polygon fill=\"black\" stroke=\"black\" points=\"805.35,-107.04 813.99,-100.9 803.41,-100.31 805.35,-107.04\"/>\n",
              "</g>\n",
              "<!-- mean_temp&#45;&gt;temp_9 -->\n",
              "<g id=\"edge20\" class=\"edge\">\n",
              "<title>mean_temp&#45;&gt;temp_9</title>\n",
              "<path fill=\"none\" stroke=\"black\" d=\"M530.81,-148.5C598.4,-144.01 758.65,-131.63 891.25,-108 899.86,-106.47 908.99,-104.45 917.68,-102.35\"/>\n",
              "<polygon fill=\"black\" stroke=\"black\" points=\"918.76,-105.69 927.61,-99.87 917.06,-98.9 918.76,-105.69\"/>\n",
              "</g>\n",
              "</g>\n",
              "</svg>\n"
            ],
            "text/plain": [
              "<graphviz.graphs.Digraph at 0x7f7da8b27cd0>"
            ]
          },
          "execution_count": 27,
          "metadata": {},
          "output_type": "execute_result"
        }
      ],
      "source": [
        "#Visualize the model\n",
        "pyro.render_model(model, model_args=(obs, ), render_params=True)"
      ]
    },
    {
      "cell_type": "code",
      "execution_count": null,
      "metadata": {
        "colab": {
          "base_uri": "https://localhost:8080/"
        },
        "id": "GEfOM8zWL-0y",
        "outputId": "440f279b-ab23-415a-fd0b-261f7bfc67ba"
      },
      "outputs": [
        {
          "name": "stdout",
          "output_type": "stream",
          "text": [
            "Step: 0. Loss: 2270.0551331043243\n",
            "Step: 100. Loss: 247.77836674451828\n",
            "Step: 200. Loss: 56.34299170970917\n",
            "Step: 300. Loss: 23.71842250227928\n",
            "Step: 400. Loss: 18.077348232269287\n",
            "Estimated Mean Temperature (MLE):\n",
            "19.568622589111328\n"
          ]
        }
      ],
      "source": [
        "#Run inference\n",
        "svi(model, obs)\n",
        "\n",
        "#Print results\n",
        "print(\"Estimated Mean Temperature (MLE):\")\n",
        "mle_mean_temp = pyro.param(\"mean_temp\").item() \n",
        "print(mle_mean_temp)"
      ]
    },
    {
      "cell_type": "markdown",
      "metadata": {
        "id": "tiCwbfJwL-0y"
      },
      "source": [
        "<img src=\"https://github.com/PGM-Lab/probai-2021-pyro/blob/main/Day1/Figures/blue.png?raw=1\" alt=\"Drawing\" width=2000 height=20>\n",
        "\n",
        "Instead of performing *maximum likelihood* learning, we can perform **Bayesian learning**:\n",
        "\n",
        "* We treat the unknown quantity as a **random variable**.\n",
        "\n",
        "This model can be graphically represented as follows:\n",
        "\n",
        "<center>\n",
        "<img src=\"https://github.com/PGM-Lab/probai-2021-pyro/blob/main/Day1/Figures/PGM-Tem-Sensor2.png?raw=1\" alt=\"Drawing\" width=\"150\">\n",
        "</center>\n",
        "<img src=\"https://github.com/PGM-Lab/probai-2021-pyro/blob/main/Day1/Figures/blue.png?raw=1\" alt=\"Drawing\" width=2000 height=20>\n",
        "\n"
      ]
    },
    {
      "cell_type": "code",
      "execution_count": null,
      "metadata": {
        "id": "CaTdLm6ML-0y"
      },
      "outputs": [],
      "source": [
        "#The observatons   \n",
        "obs = {'sensor': torch.tensor([18., 18.7, 19.2, 17.8, 20.3, 22.4, 20.3, 21.2, 19.5, 20.1])}\n",
        "\n",
        "def model(obs):\n",
        "    mean_temp = pyro.sample('mean_temp', dist.Normal(15.0, 2.0))\n",
        "    for i in range(obs['sensor'].shape[0]):\n",
        "        temp = pyro.sample(f'temp_{i}', dist.Normal(mean_temp, 2.0))\n",
        "        sensor = pyro.sample(f'sensor_{i}', dist.Normal(temp, 1.0), obs=obs['sensor'][i])"
      ]
    },
    {
      "cell_type": "code",
      "execution_count": null,
      "metadata": {
        "id": "arBYyg98CSB7",
        "outputId": "c3e6bf18-6e6b-484f-cb80-04d2fa9b7b2e"
      },
      "outputs": [
        {
          "data": {
            "image/svg+xml": [
              "<?xml version=\"1.0\" encoding=\"UTF-8\" standalone=\"no\"?>\n",
              "<!DOCTYPE svg PUBLIC \"-//W3C//DTD SVG 1.1//EN\"\n",
              " \"http://www.w3.org/Graphics/SVG/1.1/DTD/svg11.dtd\">\n",
              "<!-- Generated by graphviz version 3.0.0 (20220226.1711)\n",
              " -->\n",
              "<!-- Pages: 1 -->\n",
              "<svg width=\"1010pt\" height=\"188pt\"\n",
              " viewBox=\"0.00 0.00 1010.49 188.00\" xmlns=\"http://www.w3.org/2000/svg\" xmlns:xlink=\"http://www.w3.org/1999/xlink\">\n",
              "<g id=\"graph0\" class=\"graph\" transform=\"scale(1 1) rotate(0) translate(4 184)\">\n",
              "<polygon fill=\"white\" stroke=\"transparent\" points=\"-4,4 -4,-184 1006.49,-184 1006.49,4 -4,4\"/>\n",
              "<!-- mean_temp -->\n",
              "<g id=\"node1\" class=\"node\">\n",
              "<title>mean_temp</title>\n",
              "<ellipse fill=\"white\" stroke=\"black\" cx=\"498.25\" cy=\"-162\" rx=\"52.79\" ry=\"18\"/>\n",
              "<text text-anchor=\"middle\" x=\"498.25\" y=\"-158.3\" font-family=\"Times,serif\" font-size=\"14.00\">mean_temp</text>\n",
              "</g>\n",
              "<!-- temp_0 -->\n",
              "<g id=\"node2\" class=\"node\">\n",
              "<title>temp_0</title>\n",
              "<ellipse fill=\"white\" stroke=\"black\" cx=\"46.25\" cy=\"-90\" rx=\"37.89\" ry=\"18\"/>\n",
              "<text text-anchor=\"middle\" x=\"46.25\" y=\"-86.3\" font-family=\"Times,serif\" font-size=\"14.00\">temp_0</text>\n",
              "</g>\n",
              "<!-- mean_temp&#45;&gt;temp_0 -->\n",
              "<g id=\"edge1\" class=\"edge\">\n",
              "<title>mean_temp&#45;&gt;temp_0</title>\n",
              "<path fill=\"none\" stroke=\"black\" d=\"M447.64,-156.97C371.73,-150.32 224.17,-135 101.25,-108 96.19,-106.89 90.93,-105.53 85.75,-104.07\"/>\n",
              "<polygon fill=\"black\" stroke=\"black\" points=\"86.56,-100.66 75.98,-101.18 84.57,-107.37 86.56,-100.66\"/>\n",
              "</g>\n",
              "<!-- temp_1 -->\n",
              "<g id=\"node4\" class=\"node\">\n",
              "<title>temp_1</title>\n",
              "<ellipse fill=\"white\" stroke=\"black\" cx=\"148.25\" cy=\"-90\" rx=\"37.89\" ry=\"18\"/>\n",
              "<text text-anchor=\"middle\" x=\"148.25\" y=\"-86.3\" font-family=\"Times,serif\" font-size=\"14.00\">temp_1</text>\n",
              "</g>\n",
              "<!-- mean_temp&#45;&gt;temp_1 -->\n",
              "<g id=\"edge3\" class=\"edge\">\n",
              "<title>mean_temp&#45;&gt;temp_1</title>\n",
              "<path fill=\"none\" stroke=\"black\" d=\"M450.61,-154.27C391.98,-145.57 289.58,-129.01 203.25,-108 198.28,-106.79 193.09,-105.38 187.98,-103.91\"/>\n",
              "<polygon fill=\"black\" stroke=\"black\" points=\"188.9,-100.53 178.32,-101.02 186.9,-107.24 188.9,-100.53\"/>\n",
              "</g>\n",
              "<!-- temp_2 -->\n",
              "<g id=\"node6\" class=\"node\">\n",
              "<title>temp_2</title>\n",
              "<ellipse fill=\"white\" stroke=\"black\" cx=\"250.25\" cy=\"-90\" rx=\"37.89\" ry=\"18\"/>\n",
              "<text text-anchor=\"middle\" x=\"250.25\" y=\"-86.3\" font-family=\"Times,serif\" font-size=\"14.00\">temp_2</text>\n",
              "</g>\n",
              "<!-- mean_temp&#45;&gt;temp_2 -->\n",
              "<g id=\"edge5\" class=\"edge\">\n",
              "<title>mean_temp&#45;&gt;temp_2</title>\n",
              "<path fill=\"none\" stroke=\"black\" d=\"M457.85,-150.31C418.73,-139.86 357.78,-123.33 305.25,-108 300.52,-106.62 295.57,-105.14 290.67,-103.65\"/>\n",
              "<polygon fill=\"black\" stroke=\"black\" points=\"291.33,-100.2 280.74,-100.61 289.28,-106.89 291.33,-100.2\"/>\n",
              "</g>\n",
              "<!-- temp_3 -->\n",
              "<g id=\"node8\" class=\"node\">\n",
              "<title>temp_3</title>\n",
              "<ellipse fill=\"white\" stroke=\"black\" cx=\"352.25\" cy=\"-90\" rx=\"37.89\" ry=\"18\"/>\n",
              "<text text-anchor=\"middle\" x=\"352.25\" y=\"-86.3\" font-family=\"Times,serif\" font-size=\"14.00\">temp_3</text>\n",
              "</g>\n",
              "<!-- mean_temp&#45;&gt;temp_3 -->\n",
              "<g id=\"edge7\" class=\"edge\">\n",
              "<title>mean_temp&#45;&gt;temp_3</title>\n",
              "<path fill=\"none\" stroke=\"black\" d=\"M469.05,-147C445.44,-135.68 412.12,-119.71 387.11,-107.72\"/>\n",
              "<polygon fill=\"black\" stroke=\"black\" points=\"388.5,-104.5 377.97,-103.33 385.47,-110.81 388.5,-104.5\"/>\n",
              "</g>\n",
              "<!-- temp_4 -->\n",
              "<g id=\"node10\" class=\"node\">\n",
              "<title>temp_4</title>\n",
              "<ellipse fill=\"white\" stroke=\"black\" cx=\"451.25\" cy=\"-90\" rx=\"37.89\" ry=\"18\"/>\n",
              "<text text-anchor=\"middle\" x=\"451.25\" y=\"-86.3\" font-family=\"Times,serif\" font-size=\"14.00\">temp_4</text>\n",
              "</g>\n",
              "<!-- mean_temp&#45;&gt;temp_4 -->\n",
              "<g id=\"edge9\" class=\"edge\">\n",
              "<title>mean_temp&#45;&gt;temp_4</title>\n",
              "<path fill=\"none\" stroke=\"black\" d=\"M486.87,-144.05C481.19,-135.59 474.2,-125.19 467.93,-115.84\"/>\n",
              "<polygon fill=\"black\" stroke=\"black\" points=\"470.68,-113.66 462.2,-107.31 464.86,-117.56 470.68,-113.66\"/>\n",
              "</g>\n",
              "<!-- temp_5 -->\n",
              "<g id=\"node12\" class=\"node\">\n",
              "<title>temp_5</title>\n",
              "<ellipse fill=\"white\" stroke=\"black\" cx=\"545.25\" cy=\"-90\" rx=\"37.89\" ry=\"18\"/>\n",
              "<text text-anchor=\"middle\" x=\"545.25\" y=\"-86.3\" font-family=\"Times,serif\" font-size=\"14.00\">temp_5</text>\n",
              "</g>\n",
              "<!-- mean_temp&#45;&gt;temp_5 -->\n",
              "<g id=\"edge11\" class=\"edge\">\n",
              "<title>mean_temp&#45;&gt;temp_5</title>\n",
              "<path fill=\"none\" stroke=\"black\" d=\"M509.62,-144.05C515.31,-135.59 522.29,-125.19 528.56,-115.84\"/>\n",
              "<polygon fill=\"black\" stroke=\"black\" points=\"531.63,-117.56 534.3,-107.31 525.82,-113.66 531.63,-117.56\"/>\n",
              "</g>\n",
              "<!-- temp_6 -->\n",
              "<g id=\"node14\" class=\"node\">\n",
              "<title>temp_6</title>\n",
              "<ellipse fill=\"white\" stroke=\"black\" cx=\"641.25\" cy=\"-90\" rx=\"37.89\" ry=\"18\"/>\n",
              "<text text-anchor=\"middle\" x=\"641.25\" y=\"-86.3\" font-family=\"Times,serif\" font-size=\"14.00\">temp_6</text>\n",
              "</g>\n",
              "<!-- mean_temp&#45;&gt;temp_6 -->\n",
              "<g id=\"edge13\" class=\"edge\">\n",
              "<title>mean_temp&#45;&gt;temp_6</title>\n",
              "<path fill=\"none\" stroke=\"black\" d=\"M527.18,-146.83C550.1,-135.62 582.17,-119.92 606.48,-108.02\"/>\n",
              "<polygon fill=\"black\" stroke=\"black\" points=\"608.26,-111.04 615.71,-103.5 605.19,-104.76 608.26,-111.04\"/>\n",
              "</g>\n",
              "<!-- temp_7 -->\n",
              "<g id=\"node16\" class=\"node\">\n",
              "<title>temp_7</title>\n",
              "<ellipse fill=\"white\" stroke=\"black\" cx=\"740.25\" cy=\"-90\" rx=\"37.89\" ry=\"18\"/>\n",
              "<text text-anchor=\"middle\" x=\"740.25\" y=\"-86.3\" font-family=\"Times,serif\" font-size=\"14.00\">temp_7</text>\n",
              "</g>\n",
              "<!-- mean_temp&#45;&gt;temp_7 -->\n",
              "<g id=\"edge15\" class=\"edge\">\n",
              "<title>mean_temp&#45;&gt;temp_7</title>\n",
              "<path fill=\"none\" stroke=\"black\" d=\"M538.43,-150.34C576.98,-139.98 636.79,-123.58 688.25,-108 692.29,-106.78 696.49,-105.47 700.68,-104.14\"/>\n",
              "<polygon fill=\"black\" stroke=\"black\" points=\"701.9,-107.42 710.34,-101.02 699.75,-100.76 701.9,-107.42\"/>\n",
              "</g>\n",
              "<!-- temp_8 -->\n",
              "<g id=\"node18\" class=\"node\">\n",
              "<title>temp_8</title>\n",
              "<ellipse fill=\"white\" stroke=\"black\" cx=\"844.25\" cy=\"-90\" rx=\"37.89\" ry=\"18\"/>\n",
              "<text text-anchor=\"middle\" x=\"844.25\" y=\"-86.3\" font-family=\"Times,serif\" font-size=\"14.00\">temp_8</text>\n",
              "</g>\n",
              "<!-- mean_temp&#45;&gt;temp_8 -->\n",
              "<g id=\"edge17\" class=\"edge\">\n",
              "<title>mean_temp&#45;&gt;temp_8</title>\n",
              "<path fill=\"none\" stroke=\"black\" d=\"M545.38,-153.97C602.86,-145.02 702.8,-128.27 787.25,-108 792.64,-106.7 798.29,-105.2 803.84,-103.64\"/>\n",
              "<polygon fill=\"black\" stroke=\"black\" points=\"805.02,-106.94 813.65,-100.79 803.07,-100.22 805.02,-106.94\"/>\n",
              "</g>\n",
              "<!-- temp_9 -->\n",
              "<g id=\"node20\" class=\"node\">\n",
              "<title>temp_9</title>\n",
              "<ellipse fill=\"white\" stroke=\"black\" cx=\"959.25\" cy=\"-90\" rx=\"37.89\" ry=\"18\"/>\n",
              "<text text-anchor=\"middle\" x=\"959.25\" y=\"-86.3\" font-family=\"Times,serif\" font-size=\"14.00\">temp_9</text>\n",
              "</g>\n",
              "<!-- mean_temp&#45;&gt;temp_9 -->\n",
              "<g id=\"edge19\" class=\"edge\">\n",
              "<title>mean_temp&#45;&gt;temp_9</title>\n",
              "<path fill=\"none\" stroke=\"black\" d=\"M548.16,-156.06C623.08,-148.25 768.86,-131.47 891.25,-108 899.75,-106.37 908.78,-104.33 917.39,-102.24\"/>\n",
              "<polygon fill=\"black\" stroke=\"black\" points=\"918.39,-105.6 927.24,-99.78 916.69,-98.81 918.39,-105.6\"/>\n",
              "</g>\n",
              "<!-- sensor_0 -->\n",
              "<g id=\"node3\" class=\"node\">\n",
              "<title>sensor_0</title>\n",
              "<ellipse fill=\"grey\" stroke=\"black\" cx=\"42.25\" cy=\"-18\" rx=\"42.49\" ry=\"18\"/>\n",
              "<text text-anchor=\"middle\" x=\"42.25\" y=\"-14.3\" font-family=\"Times,serif\" font-size=\"14.00\">sensor_0</text>\n",
              "</g>\n",
              "<!-- temp_0&#45;&gt;sensor_0 -->\n",
              "<g id=\"edge2\" class=\"edge\">\n",
              "<title>temp_0&#45;&gt;sensor_0</title>\n",
              "<path fill=\"none\" stroke=\"black\" d=\"M45.26,-71.7C44.82,-63.98 44.29,-54.71 43.8,-46.11\"/>\n",
              "<polygon fill=\"black\" stroke=\"black\" points=\"47.29,-45.89 43.22,-36.1 40.3,-46.29 47.29,-45.89\"/>\n",
              "</g>\n",
              "<!-- sensor_1 -->\n",
              "<g id=\"node5\" class=\"node\">\n",
              "<title>sensor_1</title>\n",
              "<ellipse fill=\"grey\" stroke=\"black\" cx=\"144.25\" cy=\"-18\" rx=\"42.49\" ry=\"18\"/>\n",
              "<text text-anchor=\"middle\" x=\"144.25\" y=\"-14.3\" font-family=\"Times,serif\" font-size=\"14.00\">sensor_1</text>\n",
              "</g>\n",
              "<!-- temp_1&#45;&gt;sensor_1 -->\n",
              "<g id=\"edge4\" class=\"edge\">\n",
              "<title>temp_1&#45;&gt;sensor_1</title>\n",
              "<path fill=\"none\" stroke=\"black\" d=\"M147.26,-71.7C146.82,-63.98 146.29,-54.71 145.8,-46.11\"/>\n",
              "<polygon fill=\"black\" stroke=\"black\" points=\"149.29,-45.89 145.22,-36.1 142.3,-46.29 149.29,-45.89\"/>\n",
              "</g>\n",
              "<!-- sensor_2 -->\n",
              "<g id=\"node7\" class=\"node\">\n",
              "<title>sensor_2</title>\n",
              "<ellipse fill=\"grey\" stroke=\"black\" cx=\"246.25\" cy=\"-18\" rx=\"42.49\" ry=\"18\"/>\n",
              "<text text-anchor=\"middle\" x=\"246.25\" y=\"-14.3\" font-family=\"Times,serif\" font-size=\"14.00\">sensor_2</text>\n",
              "</g>\n",
              "<!-- temp_2&#45;&gt;sensor_2 -->\n",
              "<g id=\"edge6\" class=\"edge\">\n",
              "<title>temp_2&#45;&gt;sensor_2</title>\n",
              "<path fill=\"none\" stroke=\"black\" d=\"M249.26,-71.7C248.82,-63.98 248.29,-54.71 247.8,-46.11\"/>\n",
              "<polygon fill=\"black\" stroke=\"black\" points=\"251.29,-45.89 247.22,-36.1 244.3,-46.29 251.29,-45.89\"/>\n",
              "</g>\n",
              "<!-- sensor_3 -->\n",
              "<g id=\"node9\" class=\"node\">\n",
              "<title>sensor_3</title>\n",
              "<ellipse fill=\"grey\" stroke=\"black\" cx=\"348.25\" cy=\"-18\" rx=\"42.49\" ry=\"18\"/>\n",
              "<text text-anchor=\"middle\" x=\"348.25\" y=\"-14.3\" font-family=\"Times,serif\" font-size=\"14.00\">sensor_3</text>\n",
              "</g>\n",
              "<!-- temp_3&#45;&gt;sensor_3 -->\n",
              "<g id=\"edge8\" class=\"edge\">\n",
              "<title>temp_3&#45;&gt;sensor_3</title>\n",
              "<path fill=\"none\" stroke=\"black\" d=\"M351.26,-71.7C350.82,-63.98 350.29,-54.71 349.8,-46.11\"/>\n",
              "<polygon fill=\"black\" stroke=\"black\" points=\"353.29,-45.89 349.22,-36.1 346.3,-46.29 353.29,-45.89\"/>\n",
              "</g>\n",
              "<!-- sensor_4 -->\n",
              "<g id=\"node11\" class=\"node\">\n",
              "<title>sensor_4</title>\n",
              "<ellipse fill=\"grey\" stroke=\"black\" cx=\"450.25\" cy=\"-18\" rx=\"42.49\" ry=\"18\"/>\n",
              "<text text-anchor=\"middle\" x=\"450.25\" y=\"-14.3\" font-family=\"Times,serif\" font-size=\"14.00\">sensor_4</text>\n",
              "</g>\n",
              "<!-- temp_4&#45;&gt;sensor_4 -->\n",
              "<g id=\"edge10\" class=\"edge\">\n",
              "<title>temp_4&#45;&gt;sensor_4</title>\n",
              "<path fill=\"none\" stroke=\"black\" d=\"M451,-71.7C450.89,-63.98 450.76,-54.71 450.63,-46.11\"/>\n",
              "<polygon fill=\"black\" stroke=\"black\" points=\"454.13,-46.05 450.49,-36.1 447.13,-46.15 454.13,-46.05\"/>\n",
              "</g>\n",
              "<!-- sensor_5 -->\n",
              "<g id=\"node13\" class=\"node\">\n",
              "<title>sensor_5</title>\n",
              "<ellipse fill=\"grey\" stroke=\"black\" cx=\"552.25\" cy=\"-18\" rx=\"42.49\" ry=\"18\"/>\n",
              "<text text-anchor=\"middle\" x=\"552.25\" y=\"-14.3\" font-family=\"Times,serif\" font-size=\"14.00\">sensor_5</text>\n",
              "</g>\n",
              "<!-- temp_5&#45;&gt;sensor_5 -->\n",
              "<g id=\"edge12\" class=\"edge\">\n",
              "<title>temp_5&#45;&gt;sensor_5</title>\n",
              "<path fill=\"none\" stroke=\"black\" d=\"M546.98,-71.7C547.75,-63.98 548.68,-54.71 549.54,-46.11\"/>\n",
              "<polygon fill=\"black\" stroke=\"black\" points=\"553.02,-46.4 550.54,-36.1 546.06,-45.71 553.02,-46.4\"/>\n",
              "</g>\n",
              "<!-- sensor_6 -->\n",
              "<g id=\"node15\" class=\"node\">\n",
              "<title>sensor_6</title>\n",
              "<ellipse fill=\"grey\" stroke=\"black\" cx=\"654.25\" cy=\"-18\" rx=\"42.49\" ry=\"18\"/>\n",
              "<text text-anchor=\"middle\" x=\"654.25\" y=\"-14.3\" font-family=\"Times,serif\" font-size=\"14.00\">sensor_6</text>\n",
              "</g>\n",
              "<!-- temp_6&#45;&gt;sensor_6 -->\n",
              "<g id=\"edge14\" class=\"edge\">\n",
              "<title>temp_6&#45;&gt;sensor_6</title>\n",
              "<path fill=\"none\" stroke=\"black\" d=\"M644.39,-72.05C645.82,-64.35 647.56,-55.03 649.16,-46.36\"/>\n",
              "<polygon fill=\"black\" stroke=\"black\" points=\"652.65,-46.75 651.04,-36.28 645.77,-45.47 652.65,-46.75\"/>\n",
              "</g>\n",
              "<!-- sensor_7 -->\n",
              "<g id=\"node17\" class=\"node\">\n",
              "<title>sensor_7</title>\n",
              "<ellipse fill=\"grey\" stroke=\"black\" cx=\"756.25\" cy=\"-18\" rx=\"42.49\" ry=\"18\"/>\n",
              "<text text-anchor=\"middle\" x=\"756.25\" y=\"-14.3\" font-family=\"Times,serif\" font-size=\"14.00\">sensor_7</text>\n",
              "</g>\n",
              "<!-- temp_7&#45;&gt;sensor_7 -->\n",
              "<g id=\"edge16\" class=\"edge\">\n",
              "<title>temp_7&#45;&gt;sensor_7</title>\n",
              "<path fill=\"none\" stroke=\"black\" d=\"M744.12,-72.05C745.9,-64.26 748.06,-54.82 750.06,-46.08\"/>\n",
              "<polygon fill=\"black\" stroke=\"black\" points=\"753.48,-46.8 752.3,-36.28 746.66,-45.24 753.48,-46.8\"/>\n",
              "</g>\n",
              "<!-- sensor_8 -->\n",
              "<g id=\"node19\" class=\"node\">\n",
              "<title>sensor_8</title>\n",
              "<ellipse fill=\"grey\" stroke=\"black\" cx=\"858.25\" cy=\"-18\" rx=\"42.49\" ry=\"18\"/>\n",
              "<text text-anchor=\"middle\" x=\"858.25\" y=\"-14.3\" font-family=\"Times,serif\" font-size=\"14.00\">sensor_8</text>\n",
              "</g>\n",
              "<!-- temp_8&#45;&gt;sensor_8 -->\n",
              "<g id=\"edge18\" class=\"edge\">\n",
              "<title>temp_8&#45;&gt;sensor_8</title>\n",
              "<path fill=\"none\" stroke=\"black\" d=\"M847.64,-72.05C849.18,-64.35 851.04,-55.03 852.77,-46.36\"/>\n",
              "<polygon fill=\"black\" stroke=\"black\" points=\"856.26,-46.77 854.79,-36.28 849.4,-45.39 856.26,-46.77\"/>\n",
              "</g>\n",
              "<!-- sensor_9 -->\n",
              "<g id=\"node21\" class=\"node\">\n",
              "<title>sensor_9</title>\n",
              "<ellipse fill=\"grey\" stroke=\"black\" cx=\"960.25\" cy=\"-18\" rx=\"42.49\" ry=\"18\"/>\n",
              "<text text-anchor=\"middle\" x=\"960.25\" y=\"-14.3\" font-family=\"Times,serif\" font-size=\"14.00\">sensor_9</text>\n",
              "</g>\n",
              "<!-- temp_9&#45;&gt;sensor_9 -->\n",
              "<g id=\"edge20\" class=\"edge\">\n",
              "<title>temp_9&#45;&gt;sensor_9</title>\n",
              "<path fill=\"none\" stroke=\"black\" d=\"M959.49,-71.7C959.6,-63.98 959.74,-54.71 959.86,-46.11\"/>\n",
              "<polygon fill=\"black\" stroke=\"black\" points=\"963.36,-46.15 960,-36.1 956.36,-46.05 963.36,-46.15\"/>\n",
              "</g>\n",
              "</g>\n",
              "</svg>\n"
            ],
            "text/plain": [
              "<graphviz.graphs.Digraph at 0x7f7d888e12e0>"
            ]
          },
          "execution_count": 30,
          "metadata": {},
          "output_type": "execute_result"
        }
      ],
      "source": [
        "#Visualize the model\n",
        "pyro.render_model(model, model_args=(obs, ))"
      ]
    },
    {
      "cell_type": "markdown",
      "metadata": {
        "id": "jJfVNZFBL-0y"
      },
      "source": [
        "---\n",
        "<img src=\"https://github.com/PGM-Lab/probai-2021-pyro/blob/main/Day1/Figures/blue.png?raw=1\" alt=\"Drawing\" width=2000 height=20>\n",
        "\n",
        "We perform inference over this model:\n",
        "\n",
        " $$ p(\\mu_t | s_1,\\ldots, s_n)=\\frac{p(\\mu_t)\\prod_{i=1}^n \\int p(s_i|t_i)p(t_i|\\mu_t)dt_i }{\\int \\prod_{i=1}^n p(s_i|\\mu_t)p(\\mu_t) d\\mu} $$\n"
      ]
    },
    {
      "cell_type": "code",
      "execution_count": null,
      "metadata": {
        "colab": {
          "base_uri": "https://localhost:8080/"
        },
        "id": "W0YiqM36L-0z",
        "outputId": "143e2eff-1c16-49a8-fb02-a1aa21b4331b"
      },
      "outputs": [
        {
          "name": "stdout",
          "output_type": "stream",
          "text": [
            "Step: 0. Loss: 2015.5953184366226\n",
            "Step: 100. Loss: 286.3637125492096\n",
            "Step: 200. Loss: 57.62918394804001\n",
            "Step: 300. Loss: 25.598888337612152\n",
            "Step: 400. Loss: 23.2999709546566\n",
            "P(mean_temp|Sensor=[18., 18.7, 19.2, 17.8, 20.3, 22.4, 20.3, 21.2, 19.5, 20.1]) =\n",
            "Normal(loc: 19.180583953857422, scale: 0.6147986650466919)\n",
            "\n",
            "4.840740203857422 seconds\n"
          ]
        }
      ],
      "source": [
        "import time\n",
        "        \n",
        "#Run inference\n",
        "start = time.time()\n",
        "svi(model, obs)\n",
        "\n",
        "#Print results\n",
        "print(\"P(mean_temp|Sensor=[18., 18.7, 19.2, 17.8, 20.3, 22.4, 20.3, 21.2, 19.5, 20.1]) =\")\n",
        "print(dist.Normal(pyro.param(\"AutoNormal.locs.mean_temp\").item(), pyro.param(\"AutoNormal.scales.mean_temp\").item()))\n",
        "print(\"\")\n",
        "end = time.time()\n",
        "print(f\"{(end - start)} seconds\")"
      ]
    },
    {
      "cell_type": "markdown",
      "metadata": {
        "id": "YFKoGLcnL-0z"
      },
      "source": [
        "---\n",
        "* Observe that the result of the learning is **not a point estimate**.\n",
        "\n",
        "* We have a **posterior distribution** which captures **uncertainty** about the estimation.\n",
        "\n",
        "---"
      ]
    },
    {
      "cell_type": "code",
      "execution_count": null,
      "metadata": {
        "colab": {
          "base_uri": "https://localhost:8080/",
          "height": 265
        },
        "id": "ES_yHXNKL-0z",
        "outputId": "2365ea5d-9c2c-4452-c99f-883a2ee4d07f"
      },
      "outputs": [
        {
          "data": {
            "image/png": "[encoded data removed]",
            "text/plain": [
              "<Figure size 432x288 with 1 Axes>"
            ]
          },
          "metadata": {
            "needs_background": "light"
          },
          "output_type": "display_data"
        }
      ],
      "source": [
        "import numpy as np\n",
        "import scipy.stats as stats\n",
        "\n",
        "mu = pyro.param(\"AutoNormal.locs.mean_temp\").item()\n",
        "scale = pyro.param(\"AutoNormal.scales.mean_temp\").item()\n",
        "x = np.linspace(mu - 3*scale, mu + 3*scale, 100)\n",
        "plt.plot(x, stats.norm.pdf(x, mu, scale), label='Posterior over $\\mu$')\n",
        "point = mle_mean_temp # Previously calculated above\n",
        "plt.plot([point, point],[0., 1.], label='MLE point estimate of $\\mu$')\n",
        "plt.legend()\n",
        "plt.show()"
      ]
    },
    {
      "cell_type": "markdown",
      "metadata": {
        "id": "1SXUdMtUL-00"
      },
      "source": [
        "<img src=\"https://github.com/PGM-Lab/probai-2021-pyro/blob/main/Day1/Figures/blue.png?raw=1\" alt=\"Drawing\" width=2000 height=20>\n",
        "\n",
        "\n",
        "### 3.3 The use of ``plate`` construct\n",
        "\n",
        "Pyro can exploit **conditional independencies and vectorization** to make inference much faster. \n",
        "\n",
        "* This can be done with the construct **``plate``**. \n",
        "\n",
        "* With this construct, we can indicate that the variables $s_i$ and $t_i$ are **conditionally indepdendent** from another variables $s_j$ and $t_j$ given $\\mu_t$. \n",
        "\n",
        "<center>\n",
        "<img src=\"https://github.com/PGM-Lab/probai-2021-pyro/blob/main/Day1/Figures/PGM-Tem-Sensor2.png?raw=1\" alt=\"Drawing\" width=\"150\">\n",
        "</center>\n"
      ]
    },
    {
      "cell_type": "code",
      "execution_count": null,
      "metadata": {
        "id": "4LlQKqp4L-00"
      },
      "outputs": [],
      "source": [
        "#The observatons   \n",
        "obs = {'sensor': torch.tensor([18., 18.7, 19.2, 17.8, 20.3, 22.4, 20.3, 21.2, 19.5, 20.1])}\n",
        "\n",
        "def model(obs):\n",
        "    mean_temp = pyro.sample('mean_temp', dist.Normal(15.0, 2.0))\n",
        "    with pyro.plate('N='+str(obs['sensor'].shape[0]), obs['sensor'].shape[0]):\n",
        "        temp = pyro.sample('temp', dist.Normal(mean_temp, 2.0))\n",
        "        sensor = pyro.sample('sensor', dist.Normal(temp, 1.0), obs=obs['sensor'])"
      ]
    },
    {
      "cell_type": "code",
      "execution_count": null,
      "metadata": {
        "id": "yRG_aMAzCSB8",
        "outputId": "0e7a25f2-f3d2-4c5d-fe36-5654fd6b2178"
      },
      "outputs": [
        {
          "data": {
            "image/svg+xml": [
              "<?xml version=\"1.0\" encoding=\"UTF-8\" standalone=\"no\"?>\n",
              "<!DOCTYPE svg PUBLIC \"-//W3C//DTD SVG 1.1//EN\"\n",
              " \"http://www.w3.org/Graphics/SVG/1.1/DTD/svg11.dtd\">\n",
              "<!-- Generated by graphviz version 3.0.0 (20220226.1711)\n",
              " -->\n",
              "<!-- Pages: 1 -->\n",
              "<svg width=\"113pt\" height=\"227pt\"\n",
              " viewBox=\"0.00 0.00 113.29 227.00\" xmlns=\"http://www.w3.org/2000/svg\" xmlns:xlink=\"http://www.w3.org/1999/xlink\">\n",
              "<g id=\"graph0\" class=\"graph\" transform=\"scale(1 1) rotate(0) translate(4 223)\">\n",
              "<polygon fill=\"white\" stroke=\"transparent\" points=\"-4,4 -4,-223 109.29,-223 109.29,4 -4,4\"/>\n",
              "<g id=\"clust1\" class=\"cluster\">\n",
              "<title>cluster_N=10</title>\n",
              "<polygon fill=\"none\" stroke=\"black\" points=\"11.65,-8 11.65,-155 93.65,-155 93.65,-8 11.65,-8\"/>\n",
              "<text text-anchor=\"middle\" x=\"69.65\" y=\"-15.8\" font-family=\"Times,serif\" font-size=\"14.00\">N=10</text>\n",
              "</g>\n",
              "<!-- mean_temp -->\n",
              "<g id=\"node1\" class=\"node\">\n",
              "<title>mean_temp</title>\n",
              "<ellipse fill=\"white\" stroke=\"black\" cx=\"52.65\" cy=\"-201\" rx=\"52.79\" ry=\"18\"/>\n",
              "<text text-anchor=\"middle\" x=\"52.65\" y=\"-197.3\" font-family=\"Times,serif\" font-size=\"14.00\">mean_temp</text>\n",
              "</g>\n",
              "<!-- temp -->\n",
              "<g id=\"node2\" class=\"node\">\n",
              "<title>temp</title>\n",
              "<ellipse fill=\"white\" stroke=\"black\" cx=\"52.65\" cy=\"-129\" rx=\"28.7\" ry=\"18\"/>\n",
              "<text text-anchor=\"middle\" x=\"52.65\" y=\"-125.3\" font-family=\"Times,serif\" font-size=\"14.00\">temp</text>\n",
              "</g>\n",
              "<!-- mean_temp&#45;&gt;temp -->\n",
              "<g id=\"edge1\" class=\"edge\">\n",
              "<title>mean_temp&#45;&gt;temp</title>\n",
              "<path fill=\"none\" stroke=\"black\" d=\"M52.65,-182.7C52.65,-174.98 52.65,-165.71 52.65,-157.11\"/>\n",
              "<polygon fill=\"black\" stroke=\"black\" points=\"56.15,-157.1 52.65,-147.1 49.15,-157.1 56.15,-157.1\"/>\n",
              "</g>\n",
              "<!-- sensor -->\n",
              "<g id=\"node3\" class=\"node\">\n",
              "<title>sensor</title>\n",
              "<ellipse fill=\"grey\" stroke=\"black\" cx=\"52.65\" cy=\"-57\" rx=\"33.29\" ry=\"18\"/>\n",
              "<text text-anchor=\"middle\" x=\"52.65\" y=\"-53.3\" font-family=\"Times,serif\" font-size=\"14.00\">sensor</text>\n",
              "</g>\n",
              "<!-- temp&#45;&gt;sensor -->\n",
              "<g id=\"edge2\" class=\"edge\">\n",
              "<title>temp&#45;&gt;sensor</title>\n",
              "<path fill=\"none\" stroke=\"black\" d=\"M52.65,-110.7C52.65,-102.98 52.65,-93.71 52.65,-85.11\"/>\n",
              "<polygon fill=\"black\" stroke=\"black\" points=\"56.15,-85.1 52.65,-75.1 49.15,-85.1 56.15,-85.1\"/>\n",
              "</g>\n",
              "</g>\n",
              "</svg>\n"
            ],
            "text/plain": [
              "<graphviz.graphs.Digraph at 0x7f7db94ed130>"
            ]
          },
          "execution_count": 34,
          "metadata": {},
          "output_type": "execute_result"
        }
      ],
      "source": [
        "#Visualize the model\n",
        "pyro.render_model(model, model_args=(obs, ))"
      ]
    },
    {
      "cell_type": "markdown",
      "metadata": {
        "id": "yAh8vLjLL-00"
      },
      "source": [
        "The ``plate`` construct reflects the standard notational use in graphical models denoting the **repetition of some parts of of the graph**. \n",
        "\n",
        "We can here make a distinction between **local** and **global** random variables: \n",
        "\n",
        "* **Local random variables** caputure **specific information** about the $i$-th data sample (i.e. the real temperature at this moment in time).\n",
        "\n",
        "* **Global random variables** capture **common information** about all the data samples (i.e. the average temperature of all data samples). \n",
        "\n",
        "\n",
        "<img src=\"https://github.com/PGM-Lab/probai-2021-pyro/blob/main/Day1/Figures/blue.png?raw=1\" alt=\"Drawing\" width=2000 height=20>\n",
        "\n",
        "\n",
        "Observe how inference in this model is much **faster**. "
      ]
    },
    {
      "cell_type": "code",
      "execution_count": null,
      "metadata": {
        "colab": {
          "base_uri": "https://localhost:8080/"
        },
        "id": "ASYtP3j0L-01",
        "outputId": "49081827-25d6-4cd5-a4f7-6ecbb6bb02c3"
      },
      "outputs": [
        {
          "name": "stdout",
          "output_type": "stream",
          "text": [
            "Step: 0. Loss: 2015.5951808691025\n",
            "Step: 100. Loss: 286.3637121915817\n",
            "Step: 200. Loss: 57.62918198108673\n",
            "Step: 300. Loss: 25.59889566898346\n",
            "Step: 400. Loss: 23.299971967935562\n",
            "P(mean_temp|Sensor=[18., 18.7, 19.2, 17.8, 20.3, 22.4, 20.3, 21.2, 19.5, 20.1]) =\n",
            "Normal(loc: 19.180583953857422, scale: 0.6147986650466919)\n",
            "\n",
            "1.2701940536499023 seconds\n"
          ]
        }
      ],
      "source": [
        "#Run inference\n",
        "start = time.time()\n",
        "svi(model, obs)\n",
        "\n",
        "#Print results\n",
        "print(\"P(mean_temp|Sensor=[18., 18.7, 19.2, 17.8, 20.3, 22.4, 20.3, 21.2, 19.5, 20.1]) =\")\n",
        "print(dist.Normal(pyro.param(\"AutoNormal.locs.mean_temp\").item(), pyro.param(\"AutoNormal.scales.mean_temp\").item()))\n",
        "print(\"\")\n",
        "end = time.time()\n",
        "print(f\"{(end - start)} seconds\")"
      ]
    },
    {
      "cell_type": "markdown",
      "metadata": {
        "id": "dUDwSWFsL-01"
      },
      "source": [
        "\n",
        "<img src=\"https://github.com/PGM-Lab/probai-2021-pyro/blob/main/Day1/Figures/blue.png?raw=1\" alt=\"Drawing\" width=2000 height=20>\n",
        "\n",
        "\n",
        "### **<span style=\"color:red\">Exercise 1: </span>The role of *prior distributions* in learning**\n",
        "\n",
        "In this exercise we just want to illustrate how the output of learning depends of the particular prior we introduce in the model. Play with different options and extract conclusions:\n",
        "\n",
        "1. What happens if we change the mean of the prior?\n",
        "2. What happens if we change the scale of the prior?\n",
        "3. What happens to the posterior if the number of data samples deacreases and increases?"
      ]
    },
    {
      "cell_type": "code",
      "execution_count": null,
      "metadata": {
        "colab": {
          "base_uri": "https://localhost:8080/",
          "height": 390
        },
        "id": "5OWLg5tvL-01",
        "outputId": "a07cdede-c8f6-481a-b132-7a3933bd9857"
      },
      "outputs": [
        {
          "name": "stdout",
          "output_type": "stream",
          "text": [
            "Step: 0. Loss: 1727.5616217187571\n",
            "Step: 100. Loss: 249.61605195500675\n",
            "Step: 200. Loss: 52.84599413357211\n",
            "Step: 300. Loss: 24.67884164717097\n",
            "Step: 400. Loss: 22.9093730209984\n",
            "P(Temperature|Sensor=18.0) = \n",
            "Normal(loc: 17.815109252929688, scale: 0.6155012845993042)\n"
          ]
        },
        {
          "data": {
            "image/png": "[encoded data removed]",
            "text/plain": [
              "<Figure size 432x288 with 1 Axes>"
            ]
          },
          "metadata": {
            "needs_background": "light"
          },
          "output_type": "display_data"
        }
      ],
      "source": [
        "#The observatons   \n",
        "sample_size = 10\n",
        "obs = {'sensor': torch.tensor(np.random.normal(18,2,sample_size))}\n",
        "\n",
        "def model(obs):\n",
        "    mean_temp = pyro.sample('mean_temp', dist.Normal(15.0, 2.0))\n",
        "    with pyro.plate('N='+str(obs['sensor'].shape[0]), obs['sensor'].shape[0]):\n",
        "        temp = pyro.sample('temp', dist.Normal(mean_temp, 2.0))\n",
        "        sensor = pyro.sample('sensor', dist.Normal(temp, 1.0), obs=obs['sensor'])\n",
        "\n",
        "#Run inference\n",
        "svi(model, obs)\n",
        "\n",
        "#Print results\n",
        "print(\"P(Temperature|Sensor=18.0) = \")\n",
        "print(dist.Normal(pyro.param(\"AutoNormal.locs.mean_temp\").item(), pyro.param(\"AutoNormal.scales.mean_temp\").item()))\n",
        "\n",
        "x = np.linspace(16, 20, 100)\n",
        "plt.plot(x, stats.norm.pdf(x, pyro.param(\"AutoNormal.locs.mean_temp\").item(), pyro.param(\"AutoNormal.scales.mean_temp\").item()), label='Posterior')\n",
        "point = 18\n",
        "plt.plot([point, point],[0., 1.], label='Point Estimate')\n",
        "plt.xlim(16,20)\n",
        "plt.legend()\n",
        "plt.show()\n"
      ]
    },
    {
      "cell_type": "markdown",
      "metadata": {
        "id": "uf7kVC-hL-03"
      },
      "source": [
        "<img src=\"https://github.com/PGM-Lab/probai-2021-pyro/blob/main/Day1/Figures/blue.png?raw=1\" alt=\"Drawing\" width=2000 height=20>\n",
        "\n",
        "\n",
        "# **4.  Icecream Shop**\n",
        "\n",
        "\n",
        "We have an ice-cream shop and assume thaat we **record the ice-cream sales and the average temperature of the day** (using a temperature sensor).\n",
        "\n",
        "* We know that **temperature affects the sales** of ice-creams.\n",
        "\n",
        "* We want to **model** how temperature affects ice-cream sales.\n",
        "\n",
        "<center>\n",
        "<img src=\"https://github.com/PGM-Lab/probai-2021-pyro/raw/main/Day1/Figures/Ice-cream_shop_-_Florida.jpg\" alt=\"Drawing\" width=300 >\n",
        "</center>\n",
        "\n"
      ]
    },
    {
      "cell_type": "markdown",
      "metadata": {
        "id": "uv2fWAHxDRxO"
      },
      "source": [
        "<img src=\"https://github.com/PGM-Lab/probai-2021-pyro/blob/main/Day1/Figures/blue.png?raw=1\" alt=\"Drawing\" width=2000 height=20>\n",
        "\n",
        "* We have **observations** from temperature and sales.\n",
        "\n",
        "* Sales are modeled with a **Poisson** distribution:\n",
        "\n",
        ">- The rate of the Poisson distribution **linearly depends of the real temperature**.\n",
        "\n",
        "The figure below provides a graphical and probabilistic description of the model:\n",
        "<center>\n",
        "<img src=\"https://github.com/PGM-Lab/probai-2021-pyro/blob/main/Day1/Figures/Ice-Cream-Shop-Model.png?raw=1\" alt=\"Drawing\" width=700>\n",
        "</center>\n",
        "\n"
      ]
    },
    {
      "cell_type": "code",
      "execution_count": null,
      "metadata": {
        "colab": {
          "base_uri": "https://localhost:8080/",
          "height": 324
        },
        "id": "HR8bu27OL-03",
        "outputId": "385c058a-9611-45fd-d887-723c9e79ea86"
      },
      "outputs": [
        {
          "data": {
            "image/svg+xml": [
              "<?xml version=\"1.0\" encoding=\"UTF-8\" standalone=\"no\"?>\n",
              "<!DOCTYPE svg PUBLIC \"-//W3C//DTD SVG 1.1//EN\"\n",
              " \"http://www.w3.org/Graphics/SVG/1.1/DTD/svg11.dtd\">\n",
              "<!-- Generated by graphviz version 3.0.0 (20220226.1711)\n",
              " -->\n",
              "<!-- Pages: 1 -->\n",
              "<svg width=\"312pt\" height=\"227pt\"\n",
              " viewBox=\"0.00 0.00 312.00 227.00\" xmlns=\"http://www.w3.org/2000/svg\" xmlns:xlink=\"http://www.w3.org/1999/xlink\">\n",
              "<g id=\"graph0\" class=\"graph\" transform=\"scale(1 1) rotate(0) translate(4 223)\">\n",
              "<polygon fill=\"white\" stroke=\"transparent\" points=\"-4,4 -4,-223 308,-223 308,4 -4,4\"/>\n",
              "<g id=\"clust1\" class=\"cluster\">\n",
              "<title>cluster_N=10</title>\n",
              "<polygon fill=\"none\" stroke=\"black\" points=\"8,-8 8,-155 164,-155 164,-8 8,-8\"/>\n",
              "<text text-anchor=\"middle\" x=\"140\" y=\"-15.8\" font-family=\"Times,serif\" font-size=\"14.00\">N=10</text>\n",
              "</g>\n",
              "<!-- mean_temp -->\n",
              "<g id=\"node1\" class=\"node\">\n",
              "<title>mean_temp</title>\n",
              "<ellipse fill=\"white\" stroke=\"black\" cx=\"87\" cy=\"-201\" rx=\"52.79\" ry=\"18\"/>\n",
              "<text text-anchor=\"middle\" x=\"87\" y=\"-197.3\" font-family=\"Times,serif\" font-size=\"14.00\">mean_temp</text>\n",
              "</g>\n",
              "<!-- temp -->\n",
              "<g id=\"node4\" class=\"node\">\n",
              "<title>temp</title>\n",
              "<ellipse fill=\"white\" stroke=\"black\" cx=\"87\" cy=\"-129\" rx=\"28.7\" ry=\"18\"/>\n",
              "<text text-anchor=\"middle\" x=\"87\" y=\"-125.3\" font-family=\"Times,serif\" font-size=\"14.00\">temp</text>\n",
              "</g>\n",
              "<!-- mean_temp&#45;&gt;temp -->\n",
              "<g id=\"edge1\" class=\"edge\">\n",
              "<title>mean_temp&#45;&gt;temp</title>\n",
              "<path fill=\"none\" stroke=\"black\" d=\"M87,-182.7C87,-174.98 87,-165.71 87,-157.11\"/>\n",
              "<polygon fill=\"black\" stroke=\"black\" points=\"90.5,-157.1 87,-147.1 83.5,-157.1 90.5,-157.1\"/>\n",
              "</g>\n",
              "<!-- alpha -->\n",
              "<g id=\"node2\" class=\"node\">\n",
              "<title>alpha</title>\n",
              "<ellipse fill=\"white\" stroke=\"black\" cx=\"202\" cy=\"-129\" rx=\"29.8\" ry=\"18\"/>\n",
              "<text text-anchor=\"middle\" x=\"202\" y=\"-125.3\" font-family=\"Times,serif\" font-size=\"14.00\">alpha</text>\n",
              "</g>\n",
              "<!-- sales -->\n",
              "<g id=\"node6\" class=\"node\">\n",
              "<title>sales</title>\n",
              "<ellipse fill=\"grey\" stroke=\"black\" cx=\"128\" cy=\"-57\" rx=\"27.9\" ry=\"18\"/>\n",
              "<text text-anchor=\"middle\" x=\"128\" y=\"-53.3\" font-family=\"Times,serif\" font-size=\"14.00\">sales</text>\n",
              "</g>\n",
              "<!-- alpha&#45;&gt;sales -->\n",
              "<g id=\"edge5\" class=\"edge\">\n",
              "<title>alpha&#45;&gt;sales</title>\n",
              "<path fill=\"none\" stroke=\"black\" d=\"M186.67,-113.5C176.18,-103.58 162.11,-90.26 150.37,-79.16\"/>\n",
              "<polygon fill=\"black\" stroke=\"black\" points=\"152.73,-76.58 143.06,-72.25 147.92,-81.66 152.73,-76.58\"/>\n",
              "</g>\n",
              "<!-- beta -->\n",
              "<g id=\"node3\" class=\"node\">\n",
              "<title>beta</title>\n",
              "<ellipse fill=\"white\" stroke=\"black\" cx=\"277\" cy=\"-129\" rx=\"27\" ry=\"18\"/>\n",
              "<text text-anchor=\"middle\" x=\"277\" y=\"-125.3\" font-family=\"Times,serif\" font-size=\"14.00\">beta</text>\n",
              "</g>\n",
              "<!-- beta&#45;&gt;sales -->\n",
              "<g id=\"edge4\" class=\"edge\">\n",
              "<title>beta&#45;&gt;sales</title>\n",
              "<path fill=\"none\" stroke=\"black\" d=\"M255.68,-117.92C250.86,-115.64 245.75,-113.24 241,-111 213.38,-98 181.94,-83.26 159.25,-72.63\"/>\n",
              "<polygon fill=\"black\" stroke=\"black\" points=\"160.63,-69.41 150.09,-68.34 157.67,-75.75 160.63,-69.41\"/>\n",
              "</g>\n",
              "<!-- sensor -->\n",
              "<g id=\"node5\" class=\"node\">\n",
              "<title>sensor</title>\n",
              "<ellipse fill=\"grey\" stroke=\"black\" cx=\"49\" cy=\"-57\" rx=\"33.29\" ry=\"18\"/>\n",
              "<text text-anchor=\"middle\" x=\"49\" y=\"-53.3\" font-family=\"Times,serif\" font-size=\"14.00\">sensor</text>\n",
              "</g>\n",
              "<!-- temp&#45;&gt;sensor -->\n",
              "<g id=\"edge2\" class=\"edge\">\n",
              "<title>temp&#45;&gt;sensor</title>\n",
              "<path fill=\"none\" stroke=\"black\" d=\"M78.19,-111.76C73.65,-103.4 68.01,-93.02 62.9,-83.61\"/>\n",
              "<polygon fill=\"black\" stroke=\"black\" points=\"65.88,-81.75 58.03,-74.63 59.72,-85.09 65.88,-81.75\"/>\n",
              "</g>\n",
              "<!-- temp&#45;&gt;sales -->\n",
              "<g id=\"edge3\" class=\"edge\">\n",
              "<title>temp&#45;&gt;sales</title>\n",
              "<path fill=\"none\" stroke=\"black\" d=\"M96.51,-111.76C101.53,-103.19 107.8,-92.49 113.42,-82.9\"/>\n",
              "<polygon fill=\"black\" stroke=\"black\" points=\"116.51,-84.55 118.54,-74.15 110.47,-81.01 116.51,-84.55\"/>\n",
              "</g>\n",
              "</g>\n",
              "</svg>\n"
            ],
            "text/plain": [
              "<graphviz.graphs.Digraph at 0x7f7d88d06eb0>"
            ]
          },
          "execution_count": 38,
          "metadata": {},
          "output_type": "execute_result"
        }
      ],
      "source": [
        "#The observatons   \n",
        "obs = {'sensor': torch.tensor([18., 18.7, 19.2, 17.8, 20.3, 22.4, 20.3, 21.2, 19.5, 20.1]),\n",
        "       'sales': torch.tensor([46., 47., 49., 44., 50., 54., 51., 52., 49., 53.])}\n",
        "\n",
        "def model(obs):\n",
        "    mean_temp = pyro.sample('mean_temp', dist.Normal(15.0, 2.0))\n",
        "    alpha = pyro.sample('alpha', dist.Normal(0.0, 100.0))\n",
        "    beta = pyro.sample('beta', dist.Normal(0.0, 100.0))\n",
        "\n",
        "    with pyro.plate('N='+str(obs['sensor'].shape[0]), obs['sensor'].shape[0]):\n",
        "        temp = pyro.sample('temp', dist.Normal(mean_temp, 2.0))\n",
        "        sensor = pyro.sample('sensor', dist.Normal(temp, 1.0), obs=obs['sensor'])\n",
        "        rate = torch.max(torch.tensor(0.001), alpha + beta*temp)\n",
        "        sales = pyro.sample('sales', dist.Poisson(rate), obs=obs['sales'])\n",
        "\n",
        "#Visualize the model\n",
        "pyro.render_model(model, model_args=(obs, ))"
      ]
    },
    {
      "cell_type": "markdown",
      "metadata": {
        "id": "gT34C5CpDmPZ"
      },
      "source": [
        "<img src=\"https://github.com/PGM-Lab/probai-2021-pyro/blob/main/Day1/Figures/blue.png?raw=1\" alt=\"Drawing\" width=2000 height=20>\n"
      ]
    },
    {
      "cell_type": "markdown",
      "metadata": {
        "id": "6jqw09FND19b"
      },
      "source": [
        "We again run the **(variational) inference engine** for estimating the posterior distributions.\n",
        "* With PPLs, we only care about modeling, **not about the low-level details** of the machine-learning solver.\n"
      ]
    },
    {
      "cell_type": "code",
      "execution_count": null,
      "metadata": {
        "colab": {
          "base_uri": "https://localhost:8080/"
        },
        "id": "gmaOTBYAL-03",
        "outputId": "f907f514-c125-4f2e-9c7e-9490668f8527"
      },
      "outputs": [
        {
          "name": "stdout",
          "output_type": "stream",
          "text": [
            "Step: 0. Loss: 6918.239551782608\n",
            "Step: 100. Loss: 1706.8237700462341\n",
            "Step: 200. Loss: 1406.938106417656\n",
            "Step: 300. Loss: 1167.6916875839233\n",
            "Step: 400. Loss: 969.2326369285583\n",
            "Step: 500. Loss: 804.8422137498856\n",
            "Step: 600. Loss: 669.4960304498672\n",
            "Step: 700. Loss: 560.7487533092499\n",
            "Step: 800. Loss: 474.4860633611679\n",
            "Step: 900. Loss: 392.1057023406029\n",
            "Step: 1000. Loss: 340.65725284814835\n",
            "Step: 1100. Loss: 280.30738401412964\n",
            "Step: 1200. Loss: 257.1042993068695\n",
            "Step: 1300. Loss: 207.26777589321136\n",
            "Step: 1400. Loss: 189.91828846931458\n",
            "Step: 1500. Loss: 164.5289467573166\n",
            "Step: 1600. Loss: 154.52784037590027\n",
            "Step: 1700. Loss: 126.25967526435852\n",
            "Step: 1800. Loss: 117.71682906150818\n",
            "Step: 1900. Loss: 112.76161724328995\n",
            "Step: 2000. Loss: 100.08542639017105\n",
            "Step: 2100. Loss: 98.10370969772339\n",
            "Step: 2200. Loss: 92.16431868076324\n",
            "Step: 2300. Loss: 80.70335939526558\n",
            "Step: 2400. Loss: 79.52297711372375\n",
            "Step: 2500. Loss: 71.627081990242\n",
            "Step: 2600. Loss: 76.57995247840881\n",
            "Step: 2700. Loss: 68.35303020477295\n",
            "Step: 2800. Loss: 70.64066207408905\n",
            "Step: 2900. Loss: 64.48289656639099\n",
            "Posterior temperature mean\n",
            "Normal(loc: 17.972440719604492, scale: 0.5351166725158691)\n",
            "\n",
            "Posterior alpha\n",
            "Normal(loc: 39.84184646606445, scale: 1.1383756399154663)\n",
            "\n",
            "Posterior beta\n",
            "Normal(loc: 0.5334271788597107, scale: 0.12256141752004623)\n"
          ]
        }
      ],
      "source": [
        "#Run inference\n",
        "svi(model, obs, num_steps = 3000, lr = 0.001)\n",
        "\n",
        "#Print results    \n",
        "print(\"Posterior temperature mean\")\n",
        "print(dist.Normal(pyro.param(\"AutoNormal.locs.mean_temp\").item(), pyro.param(\"AutoNormal.scales.mean_temp\").item()))\n",
        "print(\"\")\n",
        "print(\"Posterior alpha\")\n",
        "print(dist.Normal(pyro.param(\"AutoNormal.locs.alpha\").item(), pyro.param(\"AutoNormal.scales.alpha\").item()))\n",
        "print(\"\")\n",
        "print(\"Posterior beta\")\n",
        "print(dist.Normal(pyro.param(\"AutoNormal.locs.beta\").item(), pyro.param(\"AutoNormal.scales.beta\").item()))\n"
      ]
    },
    {
      "cell_type": "markdown",
      "metadata": {
        "id": "4ulfx96AL-04"
      },
      "source": [
        "<img src=\"https://github.com/PGM-Lab/probai-2021-pyro/blob/main/Day1/Figures/blue.png?raw=1\" alt=\"Drawing\" width=2000 height=20>\n",
        "\n",
        "\n",
        "### <span style=\"color:red\">Exercise 2: Introduce Humidity in the Icecream shop model </span> \n",
        "* Assume that we also have a bunch of **humidity sensor measurements**.\n",
        "* Assume also that the **sales are also linearly influenced by the humidity**.\n",
        "\n",
        "**Extend the previous model** with information about humidity measurements.\n",
        "\n",
        "The figure provides a graphical and probabilistic specification of the model:\n",
        "<center>\n",
        "<img src=\"https://github.com/PGM-Lab/probai-2021-pyro/blob/main/Day1/Figures/Ice-Cream-Shop-Model-Humidity.png?raw=1\" alt=\"Drawing\" width=700>\n",
        "</center>\n",
        "\n",
        "\n"
      ]
    },
    {
      "cell_type": "code",
      "execution_count": null,
      "metadata": {
        "colab": {
          "base_uri": "https://localhost:8080/",
          "height": 324
        },
        "id": "8UxOUxuTL-04",
        "outputId": "0d5c986d-09bd-474e-b5a2-25c429530ddd"
      },
      "outputs": [
        {
          "data": {
            "image/svg+xml": [
              "<?xml version=\"1.0\" encoding=\"UTF-8\" standalone=\"no\"?>\n",
              "<!DOCTYPE svg PUBLIC \"-//W3C//DTD SVG 1.1//EN\"\n",
              " \"http://www.w3.org/Graphics/SVG/1.1/DTD/svg11.dtd\">\n",
              "<!-- Generated by graphviz version 3.0.0 (20220226.1711)\n",
              " -->\n",
              "<!-- Pages: 1 -->\n",
              "<svg width=\"563pt\" height=\"227pt\"\n",
              " viewBox=\"0.00 0.00 562.90 227.00\" xmlns=\"http://www.w3.org/2000/svg\" xmlns:xlink=\"http://www.w3.org/1999/xlink\">\n",
              "<g id=\"graph0\" class=\"graph\" transform=\"scale(1 1) rotate(0) translate(4 223)\">\n",
              "<polygon fill=\"white\" stroke=\"transparent\" points=\"-4,4 -4,-223 558.9,-223 558.9,4 -4,4\"/>\n",
              "<g id=\"clust1\" class=\"cluster\">\n",
              "<title>cluster_N=10</title>\n",
              "<polygon fill=\"none\" stroke=\"black\" points=\"8,-8 8,-155 321,-155 321,-8 8,-8\"/>\n",
              "<text text-anchor=\"middle\" x=\"297\" y=\"-15.8\" font-family=\"Times,serif\" font-size=\"14.00\">N=10</text>\n",
              "</g>\n",
              "<!-- mean_temp -->\n",
              "<g id=\"node1\" class=\"node\">\n",
              "<title>mean_temp</title>\n",
              "<ellipse fill=\"white\" stroke=\"black\" cx=\"69\" cy=\"-201\" rx=\"52.79\" ry=\"18\"/>\n",
              "<text text-anchor=\"middle\" x=\"69\" y=\"-197.3\" font-family=\"Times,serif\" font-size=\"14.00\">mean_temp</text>\n",
              "</g>\n",
              "<!-- temp -->\n",
              "<g id=\"node6\" class=\"node\">\n",
              "<title>temp</title>\n",
              "<ellipse fill=\"white\" stroke=\"black\" cx=\"69\" cy=\"-129\" rx=\"28.7\" ry=\"18\"/>\n",
              "<text text-anchor=\"middle\" x=\"69\" y=\"-125.3\" font-family=\"Times,serif\" font-size=\"14.00\">temp</text>\n",
              "</g>\n",
              "<!-- mean_temp&#45;&gt;temp -->\n",
              "<g id=\"edge1\" class=\"edge\">\n",
              "<title>mean_temp&#45;&gt;temp</title>\n",
              "<path fill=\"none\" stroke=\"black\" d=\"M69,-182.7C69,-174.98 69,-165.71 69,-157.11\"/>\n",
              "<polygon fill=\"black\" stroke=\"black\" points=\"72.5,-157.1 69,-147.1 65.5,-157.1 72.5,-157.1\"/>\n",
              "</g>\n",
              "<!-- mean_humidity -->\n",
              "<g id=\"node2\" class=\"node\">\n",
              "<title>mean_humidity</title>\n",
              "<ellipse fill=\"white\" stroke=\"black\" cx=\"247\" cy=\"-201\" rx=\"66.89\" ry=\"18\"/>\n",
              "<text text-anchor=\"middle\" x=\"247\" y=\"-197.3\" font-family=\"Times,serif\" font-size=\"14.00\">mean_humidity</text>\n",
              "</g>\n",
              "<!-- humidity -->\n",
              "<g id=\"node8\" class=\"node\">\n",
              "<title>humidity</title>\n",
              "<ellipse fill=\"white\" stroke=\"black\" cx=\"247\" cy=\"-129\" rx=\"42.79\" ry=\"18\"/>\n",
              "<text text-anchor=\"middle\" x=\"247\" y=\"-125.3\" font-family=\"Times,serif\" font-size=\"14.00\">humidity</text>\n",
              "</g>\n",
              "<!-- mean_humidity&#45;&gt;humidity -->\n",
              "<g id=\"edge3\" class=\"edge\">\n",
              "<title>mean_humidity&#45;&gt;humidity</title>\n",
              "<path fill=\"none\" stroke=\"black\" d=\"M247,-182.7C247,-174.98 247,-165.71 247,-157.11\"/>\n",
              "<polygon fill=\"black\" stroke=\"black\" points=\"250.5,-157.1 247,-147.1 243.5,-157.1 250.5,-157.1\"/>\n",
              "</g>\n",
              "<!-- alpha -->\n",
              "<g id=\"node3\" class=\"node\">\n",
              "<title>alpha</title>\n",
              "<ellipse fill=\"white\" stroke=\"black\" cx=\"525\" cy=\"-129\" rx=\"29.8\" ry=\"18\"/>\n",
              "<text text-anchor=\"middle\" x=\"525\" y=\"-125.3\" font-family=\"Times,serif\" font-size=\"14.00\">alpha</text>\n",
              "</g>\n",
              "<!-- sales -->\n",
              "<g id=\"node10\" class=\"node\">\n",
              "<title>sales</title>\n",
              "<ellipse fill=\"grey\" stroke=\"black\" cx=\"285\" cy=\"-57\" rx=\"27.9\" ry=\"18\"/>\n",
              "<text text-anchor=\"middle\" x=\"285\" y=\"-53.3\" font-family=\"Times,serif\" font-size=\"14.00\">sales</text>\n",
              "</g>\n",
              "<!-- alpha&#45;&gt;sales -->\n",
              "<g id=\"edge7\" class=\"edge\">\n",
              "<title>alpha&#45;&gt;sales</title>\n",
              "<path fill=\"none\" stroke=\"black\" d=\"M502.14,-117.34C496.89,-115.09 491.3,-112.84 486,-111 429.4,-91.33 361.66,-74.88 321.05,-65.75\"/>\n",
              "<polygon fill=\"black\" stroke=\"black\" points=\"321.6,-62.29 311.08,-63.53 320.08,-69.12 321.6,-62.29\"/>\n",
              "</g>\n",
              "<!-- beta -->\n",
              "<g id=\"node4\" class=\"node\">\n",
              "<title>beta</title>\n",
              "<ellipse fill=\"white\" stroke=\"black\" cx=\"356\" cy=\"-129\" rx=\"27\" ry=\"18\"/>\n",
              "<text text-anchor=\"middle\" x=\"356\" y=\"-125.3\" font-family=\"Times,serif\" font-size=\"14.00\">beta</text>\n",
              "</g>\n",
              "<!-- beta&#45;&gt;sales -->\n",
              "<g id=\"edge6\" class=\"edge\">\n",
              "<title>beta&#45;&gt;sales</title>\n",
              "<path fill=\"none\" stroke=\"black\" d=\"M341.29,-113.5C331.39,-103.73 318.16,-90.69 307.01,-79.7\"/>\n",
              "<polygon fill=\"black\" stroke=\"black\" points=\"309.27,-77.01 299.69,-72.49 304.36,-82 309.27,-77.01\"/>\n",
              "</g>\n",
              "<!-- gamma -->\n",
              "<g id=\"node5\" class=\"node\">\n",
              "<title>gamma</title>\n",
              "<ellipse fill=\"white\" stroke=\"black\" cx=\"439\" cy=\"-129\" rx=\"37.89\" ry=\"18\"/>\n",
              "<text text-anchor=\"middle\" x=\"439\" y=\"-125.3\" font-family=\"Times,serif\" font-size=\"14.00\">gamma</text>\n",
              "</g>\n",
              "<!-- gamma&#45;&gt;sales -->\n",
              "<g id=\"edge8\" class=\"edge\">\n",
              "<title>gamma&#45;&gt;sales</title>\n",
              "<path fill=\"none\" stroke=\"black\" d=\"M412.53,-115.97C385.91,-103.87 344.87,-85.21 316.57,-72.35\"/>\n",
              "<polygon fill=\"black\" stroke=\"black\" points=\"317.69,-69.02 307.14,-68.06 314.8,-75.39 317.69,-69.02\"/>\n",
              "</g>\n",
              "<!-- sensor -->\n",
              "<g id=\"node7\" class=\"node\">\n",
              "<title>sensor</title>\n",
              "<ellipse fill=\"grey\" stroke=\"black\" cx=\"49\" cy=\"-57\" rx=\"33.29\" ry=\"18\"/>\n",
              "<text text-anchor=\"middle\" x=\"49\" y=\"-53.3\" font-family=\"Times,serif\" font-size=\"14.00\">sensor</text>\n",
              "</g>\n",
              "<!-- temp&#45;&gt;sensor -->\n",
              "<g id=\"edge2\" class=\"edge\">\n",
              "<title>temp&#45;&gt;sensor</title>\n",
              "<path fill=\"none\" stroke=\"black\" d=\"M64.16,-111.05C61.93,-103.26 59.23,-93.82 56.74,-85.08\"/>\n",
              "<polygon fill=\"black\" stroke=\"black\" points=\"60.05,-83.93 53.94,-75.28 53.32,-85.85 60.05,-83.93\"/>\n",
              "</g>\n",
              "<!-- temp&#45;&gt;sales -->\n",
              "<g id=\"edge5\" class=\"edge\">\n",
              "<title>temp&#45;&gt;sales</title>\n",
              "<path fill=\"none\" stroke=\"black\" d=\"M95.35,-121.61C130.8,-112.7 195.57,-95.34 249,-75 250.64,-74.37 252.32,-73.71 253.99,-73.01\"/>\n",
              "<polygon fill=\"black\" stroke=\"black\" points=\"255.8,-76.04 263.53,-68.8 252.97,-69.63 255.8,-76.04\"/>\n",
              "</g>\n",
              "<!-- sensor_humidity -->\n",
              "<g id=\"node9\" class=\"node\">\n",
              "<title>sensor_humidity</title>\n",
              "<ellipse fill=\"grey\" stroke=\"black\" cx=\"170\" cy=\"-57\" rx=\"69.59\" ry=\"18\"/>\n",
              "<text text-anchor=\"middle\" x=\"170\" y=\"-53.3\" font-family=\"Times,serif\" font-size=\"14.00\">sensor_humidity</text>\n",
              "</g>\n",
              "<!-- humidity&#45;&gt;sensor_humidity -->\n",
              "<g id=\"edge4\" class=\"edge\">\n",
              "<title>humidity&#45;&gt;sensor_humidity</title>\n",
              "<path fill=\"none\" stroke=\"black\" d=\"M229.91,-112.46C219.83,-103.3 206.88,-91.53 195.6,-81.27\"/>\n",
              "<polygon fill=\"black\" stroke=\"black\" points=\"197.87,-78.6 188.11,-74.47 193.16,-83.78 197.87,-78.6\"/>\n",
              "</g>\n",
              "<!-- humidity&#45;&gt;sales -->\n",
              "<g id=\"edge9\" class=\"edge\">\n",
              "<title>humidity&#45;&gt;sales</title>\n",
              "<path fill=\"none\" stroke=\"black\" d=\"M256.2,-111.05C260.75,-102.68 266.32,-92.4 271.36,-83.13\"/>\n",
              "<polygon fill=\"black\" stroke=\"black\" points=\"274.45,-84.77 276.15,-74.31 268.3,-81.43 274.45,-84.77\"/>\n",
              "</g>\n",
              "</g>\n",
              "</svg>\n"
            ],
            "text/plain": [
              "<graphviz.graphs.Digraph at 0x7f7d88ac8f10>"
            ]
          },
          "execution_count": 40,
          "metadata": {},
          "output_type": "execute_result"
        }
      ],
      "source": [
        "#The observatons   \n",
        "obs = {'sensor': torch.tensor([18., 18.7, 19.2, 17.8, 20.3, 22.4, 20.3, 21.2, 19.5, 20.1]),\n",
        "       'sales': torch.tensor([46., 47., 49., 44., 50., 54., 51., 52., 49., 53.]),\n",
        "       'sensor_humidity': torch.tensor([82.8, 87.6, 69.1, 74.2, 80.3, 94.2, 91.2, 92.2, 99.1, 93.2])}\n",
        "\n",
        "\n",
        "def model(obs):\n",
        "    mean_temp = pyro.sample('mean_temp', dist.Normal(15.0, 2.0))\n",
        "    ## Introduce a random variable \"mean_humidity\"\n",
        "\n",
        "    alpha = pyro.sample('alpha', dist.Normal(0.0, 100.0))\n",
        "    beta = pyro.sample('beta', dist.Normal(0.0, 100.0))\n",
        "    \n",
        "    ## Introduce a coefficient for the humidity \"gamma\"\n",
        "\n",
        "    with pyro.plate('N='+str(obs['sensor'].shape[0]), obs['sensor'].shape[0]):\n",
        "        temp = pyro.sample('temp', dist.Normal(mean_temp, 2.0))\n",
        "        sensor = pyro.sample('sensor', dist.Normal(temp, 1.0), obs=obs['sensor'])\n",
        "        #Add the 'humidity' variable and the 'sensor_humidity' variable\n",
        "\n",
        "        #Add the linear dependency for the rate with respect to temp and humidity (keep torch.max to avoid numerical stability issues)\n",
        "        rate = torch.max(torch.tensor(0.001), alpha + beta*temp + ????)\n",
        "        sales = pyro.sample('sales', dist.Poisson(rate), obs=obs['sales'])\n",
        "\n",
        "#Visualize the model\n",
        "pyro.render_model(model, model_args=(obs, ))"
      ]
    },
    {
      "cell_type": "markdown",
      "metadata": {
        "id": "wC7ceQTkHrrg"
      },
      "source": [
        "<img src=\"https://github.com/PGM-Lab/probai-2021-pyro/blob/main/Day1/Figures/blue.png?raw=1\" alt=\"Drawing\" width=2000 height=20>\n",
        "\n",
        "Again, we rely on the **(variational) inference engine** to get the results.\n"
      ]
    },
    {
      "cell_type": "code",
      "execution_count": null,
      "metadata": {
        "colab": {
          "base_uri": "https://localhost:8080/"
        },
        "id": "Du3hyC0j16tM",
        "outputId": "ea55b2a7-3ac6-426f-cf23-7d28901fabcc"
      },
      "outputs": [
        {
          "name": "stdout",
          "output_type": "stream",
          "text": [
            "Step: 0. Loss: 43415.62390244007\n",
            "Step: 100. Loss: 32385.001664161682\n",
            "Step: 200. Loss: 26350.05538070202\n",
            "Step: 300. Loss: 21488.486005723476\n",
            "Step: 400. Loss: 17607.42182946205\n",
            "Step: 500. Loss: 14453.095434904099\n",
            "Step: 600. Loss: 11926.5579829216\n",
            "Step: 700. Loss: 9850.370540440083\n",
            "Step: 800. Loss: 8091.017843008041\n",
            "Step: 900. Loss: 6682.5813729166985\n",
            "Step: 1000. Loss: 5537.7136870622635\n",
            "Step: 1100. Loss: 4582.031100511551\n",
            "Step: 1200. Loss: 3812.805585503578\n",
            "Step: 1300. Loss: 3114.9971845149994\n",
            "Step: 1400. Loss: 2678.093333542347\n",
            "Step: 1500. Loss: 2197.645199239254\n",
            "Step: 1600. Loss: 1855.6751796603203\n",
            "Step: 1700. Loss: 1547.3148487210274\n",
            "Step: 1800. Loss: 1284.7618195414543\n",
            "Step: 1900. Loss: 1079.2135246992111\n",
            "Step: 2000. Loss: 926.1471285820007\n",
            "Step: 2100. Loss: 821.3309555649757\n",
            "Step: 2200. Loss: 681.423729121685\n",
            "Step: 2300. Loss: 590.1314957737923\n",
            "Step: 2400. Loss: 532.230705499649\n",
            "Step: 2500. Loss: 449.05122858285904\n",
            "Step: 2600. Loss: 413.5098954439163\n",
            "Step: 2700. Loss: 381.91738641262054\n",
            "Step: 2800. Loss: 334.3418441414833\n",
            "Step: 2900. Loss: 306.22076666355133\n",
            "Posterior temperature mean\n",
            "Normal(loc: 17.949214935302734, scale: 0.544374942779541)\n",
            "\n",
            "Posterior Humidity Mean\n",
            "Normal(loc: 79.7042465209961, scale: 0.5321848392486572)\n",
            "\n",
            "Posterior alpha\n",
            "Normal(loc: 36.657188415527344, scale: 1.1258834600448608)\n",
            "\n",
            "Posterior beta\n",
            "Normal(loc: 0.9938427209854126, scale: 0.11436548084020615)\n",
            "\n",
            "Posterior Gamma\n",
            "Normal(loc: -0.08991945534944534, scale: 0.027068661525845528)\n"
          ]
        }
      ],
      "source": [
        "#Run inference\n",
        "svi(model, obs, num_steps=3000, lr=0.001)\n",
        "\n",
        "#Print results    \n",
        "print(\"Posterior temperature mean\")\n",
        "print(dist.Normal(pyro.param(\"AutoNormal.locs.mean_temp\").item(), pyro.param(\"AutoNormal.scales.mean_temp\").item()))\n",
        "print(\"\")\n",
        "print(\"Posterior Humidity Mean\")\n",
        "print(dist.Normal(pyro.param(\"AutoNormal.locs.mean_humidity\").item(), pyro.param(\"AutoNormal.scales.mean_humidity\").item()))\n",
        "print(\"\")\n",
        "print(\"Posterior alpha\")\n",
        "print(dist.Normal(pyro.param(\"AutoNormal.locs.alpha\").item(), pyro.param(\"AutoNormal.scales.alpha\").item()))\n",
        "print(\"\")\n",
        "print(\"Posterior beta\")\n",
        "print(dist.Normal(pyro.param(\"AutoNormal.locs.beta\").item(), pyro.param(\"AutoNormal.scales.beta\").item()))\n",
        "print(\"\")\n",
        "print(\"Posterior Gamma\")\n",
        "print(dist.Normal(pyro.param(\"AutoNormal.locs.gamma\").item(), pyro.param(\"AutoNormal.scales.gamma\").item()))\n"
      ]
    },
    {
      "cell_type": "markdown",
      "metadata": {
        "id": "NCld6GJGL-05"
      },
      "source": [
        "<img src=\"https://github.com/PGM-Lab/probai-2021-pyro/blob/main/Day1/Figures/blue.png?raw=1\" alt=\"Drawing\" width=2000 height=20>\n",
        "\n",
        "# 5.  **Temporal Models**\n",
        "\n",
        "If we believe there is a temporal dependency between the variables, we can also encode this in the model. \n",
        "\n",
        "* E.g. the current **real temperature must be similar to the real temperature in the previous time step**.\n",
        "\n",
        "* This temporal dependency can **be modeled** using a **for-loop** in Pyro\n",
        "\n",
        "Consider the **graphical representation**.\n",
        "\n",
        "\n",
        "<img src=\"https://github.com/PGM-Lab/probai-2021-pyro/raw/main/Day1/Figures/tempmodel-temporal-III.png\" alt=\"Drawing\" style=\"width: 350px;\" >\n",
        "\n"
      ]
    },
    {
      "cell_type": "code",
      "execution_count": null,
      "metadata": {
        "id": "dSzU0cWeL-05"
      },
      "outputs": [],
      "source": [
        "#The observatons   \n",
        "obs = {'sensor': torch.tensor([18., 18.7, 19.2, 17.8, 20.3, 22.4, 20.3, 21.2, 19.5, 20.1])}\n",
        "\n",
        "def model(obs):\n",
        "    mean_temp = pyro.sample('mean_temp', dist.Normal(15.0, 2.0))\n",
        "    for i in range(obs['sensor'].shape[0]):\n",
        "        if i==0:\n",
        "            temp = pyro.sample(f'temp_{i}', dist.Normal(mean_temp, 2.0))\n",
        "        else:\n",
        "            temp = pyro.sample(f'temp_{i}', dist.Normal(prev_temp, 2.0))\n",
        "        sensor = pyro.sample(f'sensor_{i}', dist.Normal(temp, 1.0), obs=obs['sensor'][i])\n",
        "        prev_temp = temp\n"
      ]
    },
    {
      "cell_type": "markdown",
      "metadata": {
        "id": "EAnXvUqpJCm1"
      },
      "source": [
        "<img src=\"https://github.com/PGM-Lab/probai-2021-pyro/blob/main/Day1/Figures/blue.png?raw=1\" alt=\"Drawing\" width=2000 height=20>\n",
        "\n",
        "Again, we rely on the **(variational) inference engine** to get the results."
      ]
    },
    {
      "cell_type": "code",
      "execution_count": null,
      "metadata": {
        "cellView": "form",
        "id": "7XaW4rKXL-05"
      },
      "outputs": [],
      "source": [
        "#@title\n",
        "#Define the guide\n",
        "def guide(obs):\n",
        "    mean = pyro.param(\"mean\", torch.mean(obs['sensor']))\n",
        "    scale = pyro.param(\"scale\", torch.tensor(1.), constraint=constraints.positive)\n",
        "    mean_temp = pyro.sample('mean_temp', dist.Normal(mean, scale))\n",
        "    for i in range(obs['sensor'].shape[0]):\n",
        "        mean_i = pyro.param(f'mean_{i}', obs['sensor'][i])\n",
        "        scale_i = pyro.param(f'scale_{i}', torch.tensor(1.), constraint=constraints.positive)\n",
        "        temp = pyro.sample(f'temp_{i}', dist.Normal(mean_i, scale_i))"
      ]
    },
    {
      "cell_type": "code",
      "execution_count": null,
      "metadata": {
        "colab": {
          "base_uri": "https://localhost:8080/"
        },
        "id": "MWWVKOZnWccI",
        "outputId": "5aac919a-0dcd-46b7-966e-b5e714a7adb4"
      },
      "outputs": [
        {
          "name": "stdout",
          "output_type": "stream",
          "text": [
            "Step: 0. Loss: 20.270625352859497\n",
            "Step: 100. Loss: 21.953279852867126\n",
            "Step: 200. Loss: 20.95933872461319\n",
            "Step: 300. Loss: 19.39970576763153\n",
            "Step: 400. Loss: 20.4621000289917\n",
            "Finished\n"
          ]
        }
      ],
      "source": [
        "import time\n",
        "        \n",
        "#Run inference\n",
        "svi(model, obs, guide)\n",
        "\n",
        "smooth_temp=[]\n",
        "for i in range(obs['sensor'].shape[0]):\n",
        "    smooth_temp.append(pyro.param(f'mean_{i}').item())\n",
        "\n",
        "print('Finished')"
      ]
    },
    {
      "cell_type": "markdown",
      "metadata": {
        "id": "OJHqOj3VL-06"
      },
      "source": [
        "We can now plot the **observered measurements** of the temperature **against** the inferred **real temperature**.\n",
        "\n",
        "* By querying the **local hidden** we can **smooth** the temperature.\n",
        "\n",
        "* The **recovered temperature** is much less noisy than the measured one. "
      ]
    },
    {
      "cell_type": "code",
      "execution_count": null,
      "metadata": {
        "colab": {
          "base_uri": "https://localhost:8080/",
          "height": 283
        },
        "id": "cesOfH6UL-06",
        "outputId": "aea86e10-ca03-4da9-ecd6-2ad4aa641c9d"
      },
      "outputs": [
        {
          "data": {
            "text/plain": [
              "<matplotlib.legend.Legend at 0x7f7da8dcec10>"
            ]
          },
          "execution_count": 46,
          "metadata": {},
          "output_type": "execute_result"
        },
        {
          "data": {
            "image/png": "[encoded data removed]",
            "text/plain": [
              "<Figure size 432x288 with 1 Axes>"
            ]
          },
          "metadata": {
            "needs_background": "light"
          },
          "output_type": "display_data"
        }
      ],
      "source": [
        "import matplotlib.pyplot as plt\n",
        "plt.plot([18., 18.7, 19.2, 17.8, 20.3, 22.4, 20.3, 21.2, 19.5, 20.1], label='Sensor Temp')\n",
        "plt.plot(smooth_temp, label='Smooth Temp')\n",
        "plt.legend()"
      ]
    },
    {
      "cell_type": "markdown",
      "metadata": {
        "id": "yRDQWC-vL-06"
      },
      "source": [
        "<img src=\"https://github.com/PGM-Lab/probai-2021-pyro/blob/main/Day1/Figures/blue.png?raw=1\" alt=\"Drawing\" width=2000 height=20>\n",
        "\n",
        "### <span style=\"color:red\">Exercise 3:  Temporal Extension of the Iceacream shop model </span> \n",
        "\n",
        "This exercise **extends** Excersise 2.\n",
        "* Assume temperature depends of the **temperature in the previous day**.\n",
        "* Assume humidity depends of the **humidity in the previous day**.\n",
        "* Assume sales depends on the **current temperature and humidity**.\n",
        "* Use the **graphical representation below for reference**.\n",
        "\n",
        "N.b. The plate representation has to be impemented in Pyro using a **``for-loop``**.\n",
        "<img src=\"https://github.com/PGM-Lab/probai-2021-pyro/raw/main/Day1/Figures/icecream-model-temporal.png\" alt=\"Drawing\" width=500 >\n",
        "\n",
        "\n"
      ]
    },
    {
      "cell_type": "code",
      "execution_count": null,
      "metadata": {
        "id": "GevI9bcjL-07"
      },
      "outputs": [],
      "source": [
        "#The observatons   \n",
        "obs = {'sensor': torch.tensor([18., 18.7, 19.2, 17.8, 20.3, 22.4, 20.3, 21.2, 19.5, 20.1]),\n",
        "       'sales': torch.tensor([46., 47., 49., 44., 50., 54., 51., 52., 49., 53.]),\n",
        "       'sensor_humidity': torch.tensor([82.8, 87.6, 69.1, 74.2, 80.3, 94.2, 91.2, 92.2, 99.1, 93.2])}\n",
        "\n",
        "\n",
        "\n",
        "def model(obs):\n",
        "    mean_temp = pyro.sample('mean_temp', dist.Normal(15.0, 2.0))\n",
        "    ## Introduce a random variable \"mean_humidity\"\n",
        "    mean_humidity = pyro.sample('mean_humidity', dist.Normal(8.0, 2.0))\n",
        "\n",
        "\n",
        "    alpha = pyro.sample('alpha', dist.Normal(0.0, 100.0))\n",
        "    beta = pyro.sample('beta', dist.Normal(0.0, 100.0))\n",
        "    ## Introduce a coefficient for the humidity \"gamma\"\n",
        "    gamma = pyro.sample('gamma', dist.Normal(0.0, 100.0))\n",
        "\n",
        "    for i in range(obs['sensor'].shape[0]):\n",
        "        if i==0:\n",
        "            temp = pyro.sample(f'temp_{i}', dist.Normal(mean_temp, 2.0))\n",
        "            #Introduce the 'humidity' variable at time 0.\n",
        "\n",
        "        else:\n",
        "            temp = pyro.sample(f'temp_{i}', dist.Normal(prev_temp, 2.0))\n",
        "            #Introduce the f'humidity_{i}' variable defining the transition\n",
        "\n",
        "\n",
        "        sensor = pyro.sample(f'sensor_{i}', dist.Normal(temp, 1.0), obs=obs['sensor'][i])\n",
        "\n",
        "        #Introduce the f'sensor_humidity_{i}' variable. \n",
        "        \n",
        "        #Add the linear dependency for the rate with respect to temp and humidity (keep torch.max to avoid numerical stability issues)\n",
        "        rate = torch.max(torch.tensor(0.01),alpha + beta*temp ????)\n",
        "        sales = pyro.sample(f'sales_{i}', dist.Poisson(rate), obs=obs['sales'][i])\n",
        "\n",
        "        prev_temp = temp\n",
        "        #Keep humidity for the next time step. \n",
        "        prev_humidity = humidity"
      ]
    },
    {
      "cell_type": "markdown",
      "metadata": {
        "id": "BOo487l4L3L1"
      },
      "source": [
        "<img src=\"https://github.com/PGM-Lab/probai-2021-pyro/blob/main/Day1/Figures/blue.png?raw=1\" alt=\"Drawing\" width=2000 height=20>\n",
        "\n",
        "Again, we rely on the **(variational) inference engine** to get the results."
      ]
    },
    {
      "cell_type": "code",
      "execution_count": null,
      "metadata": {
        "cellView": "form",
        "id": "izRFQ0T3L-07"
      },
      "outputs": [],
      "source": [
        "#@title\n",
        "#Define the guide\n",
        "def guide(obs):\n",
        "    mean = pyro.param(\"mean\", torch.mean(obs['sensor']))\n",
        "    scale = pyro.param(\"scale\", torch.tensor(1.), constraint=constraints.greater_than(0.01))\n",
        "    mean_temp = pyro.sample('mean_temp', dist.Normal(mean, scale))\n",
        "\n",
        "    meanH = pyro.param(\"meanH\", torch.mean(obs['sensor_humidity']), constraint=constraints.positive)\n",
        "    scaleH = pyro.param(\"scaleH\", torch.tensor(1.), constraint=constraints.greater_than(0.01))\n",
        "    humidity_mean = pyro.sample('mean_humidity', dist.Normal(meanH, scaleH))\n",
        "\n",
        "\n",
        "    alpha_mean = pyro.param(\"alpha_mean\", torch.mean(obs['sensor']))\n",
        "    alpha_scale = pyro.param(\"alpha_scale\", torch.tensor(1.), constraint=constraints.greater_than(0.01))\n",
        "    alpha = pyro.sample('alpha', dist.Normal(alpha_mean, alpha_scale))\n",
        "\n",
        "    beta_mean = pyro.param(\"beta_mean\", torch.tensor(0.0))\n",
        "    beta_scale = pyro.param(\"beta_scale\", torch.tensor(1.), constraint=constraints.greater_than(0.01))\n",
        "    beta = pyro.sample('beta', dist.Normal(beta_mean, beta_scale))\n",
        "\n",
        "    gamma_mean = pyro.param(\"gamma_mean\", torch.tensor(0.0))\n",
        "    gamma_scale = pyro.param(\"gamma_scale\", torch.tensor(1.), constraint=constraints.greater_than(0.01))\n",
        "    gamma = pyro.sample('gamma', dist.Normal(gamma_mean, gamma_scale))\n",
        "\n",
        "    for i in range(obs['sensor'].shape[0]):\n",
        "        mean_i = pyro.param(f'mean_{i}', obs['sensor'][i])\n",
        "        scale_i = pyro.param(f'scale_{i}', torch.tensor(1.), constraint=constraints.greater_than(0.01))\n",
        "        temp = pyro.sample(f'temp_{i}', dist.Normal(mean_i, scale_i))\n",
        "        meanH_i = pyro.param(f'meanH_{i}', obs['sensor_humidity'][i])\n",
        "        scaleH_i = pyro.param(f'scaleH_{i}', torch.tensor(1.), constraint=constraints.greater_than(0.01))\n",
        "        humidity_i = pyro.sample(f'humidity_{i}', dist.Normal(meanH_i, scaleH_i))"
      ]
    },
    {
      "cell_type": "code",
      "execution_count": null,
      "metadata": {
        "colab": {
          "base_uri": "https://localhost:8080/"
        },
        "id": "tMWwy2UNL-07",
        "outputId": "1160a31c-43e7-4209-fd12-c0a4b9b63e7e"
      },
      "outputs": [
        {
          "name": "stdout",
          "output_type": "stream",
          "text": [
            "Step: 0. Loss: 975.2505025863647\n",
            "Step: 100. Loss: 501.32635974884033\n",
            "Step: 200. Loss: 492.1584275960922\n",
            "Step: 300. Loss: 508.6204282641411\n",
            "Step: 400. Loss: 477.8078188896179\n",
            "Step: 500. Loss: 465.78820753097534\n",
            "Step: 600. Loss: 431.6601634025574\n",
            "Step: 700. Loss: 430.0697173476219\n",
            "Step: 800. Loss: 410.5656051039696\n",
            "Step: 900. Loss: 431.8429548740387\n",
            "Finished\n"
          ]
        }
      ],
      "source": [
        "import time\n",
        "        \n",
        "#Run inference\n",
        "svi(model, obs, guide=guide, num_steps = 1000, lr=0.001)\n",
        "\n",
        "smooth_temp=[]\n",
        "smooth_humidity=[]\n",
        "\n",
        "for i in range(obs['sensor'].shape[0]):\n",
        "    smooth_temp.append(pyro.param(f'mean_{i}').item())\n",
        "    smooth_humidity.append(pyro.param(f'meanH_{i}').item())\n",
        "\n",
        "print('Finished')"
      ]
    },
    {
      "cell_type": "markdown",
      "metadata": {
        "id": "LosM2wXBMAFX"
      },
      "source": [
        "<img src=\"https://github.com/PGM-Lab/probai-2021-pyro/blob/main/Day1/Figures/blue.png?raw=1\" alt=\"Drawing\" width=2000 height=20>\n",
        "\n",
        "* We can plot the observered measurements of the temperature against the **inferred real temperature** by our model. \n",
        "\n",
        "* The **recovered temperature** is much less noisy than the real one.\n"
      ]
    },
    {
      "cell_type": "code",
      "execution_count": null,
      "metadata": {
        "colab": {
          "base_uri": "https://localhost:8080/",
          "height": 283
        },
        "id": "7kr1dbx-L-07",
        "outputId": "996eb68d-35b5-4b19-b55a-0d7abf7fa550"
      },
      "outputs": [
        {
          "data": {
            "text/plain": [
              "<matplotlib.legend.Legend at 0x7f7d88d1dc70>"
            ]
          },
          "execution_count": 50,
          "metadata": {},
          "output_type": "execute_result"
        },
        {
          "data": {
            "image/png": "[encoded data removed]",
            "text/plain": [
              "<Figure size 432x288 with 1 Axes>"
            ]
          },
          "metadata": {
            "needs_background": "light"
          },
          "output_type": "display_data"
        }
      ],
      "source": [
        "plt.plot([18., 18.7, 19.2, 17.8, 20.3, 22.4, 20.3, 21.2, 19.5, 20.1], label='Sensor Temp')\n",
        "plt.plot(smooth_temp, label='Smooth Temp')\n",
        "plt.legend()"
      ]
    },
    {
      "cell_type": "markdown",
      "metadata": {
        "id": "QStTTd9nN56M"
      },
      "source": [
        "---\n",
        "* We can plot the observered measurements of the humidity against the **inferred real humidity** by our model. \n",
        "\n",
        "* The **recovered humidity** is much less noisy than the real one.\n",
        "\n",
        "---\n"
      ]
    },
    {
      "cell_type": "code",
      "execution_count": null,
      "metadata": {
        "colab": {
          "base_uri": "https://localhost:8080/",
          "height": 283
        },
        "id": "WD7n3v9oL-08",
        "outputId": "a107260d-1750-4764-bd89-54316eb564ba"
      },
      "outputs": [
        {
          "data": {
            "text/plain": [
              "<matplotlib.legend.Legend at 0x7f7d88d481f0>"
            ]
          },
          "execution_count": 51,
          "metadata": {},
          "output_type": "execute_result"
        },
        {
          "data": {
            "image/png": "[encoded data removed]",
            "text/plain": [
              "<Figure size 432x288 with 1 Axes>"
            ]
          },
          "metadata": {
            "needs_background": "light"
          },
          "output_type": "display_data"
        }
      ],
      "source": [
        "humidity = torch.tensor([82.8, 87.6, 69.1, 74.2, 80.3, 94.2, 91.2, 92.2, 99.1, 93.2])\n",
        "plt.plot(humidity.detach().numpy(), label='Sensor Humidity')\n",
        "plt.plot(smooth_humidity, label='Smooth Humidity')\n",
        "plt.legend()"
      ]
    },
    {
      "cell_type": "markdown",
      "metadata": {
        "id": "858lPsjJOTJd"
      },
      "source": [
        "<img src=\"https://github.com/PGM-Lab/probai-2021-pyro/blob/main/Day1/Figures/blue.png?raw=1\" alt=\"Drawing\" width=2000 height=20>\n"
      ]
    }
  ],
  "metadata": {
    "colab": {
      "name": "students_PPLs_Intro.ipynb",
      "provenance": [],
      "toc_visible": true,
      "include_colab_link": true
    },
    "kernelspec": {
      "display_name": "Python 3",
      "language": "python",
      "name": "python3"
    },
    "language_info": {
      "codemirror_mode": {
        "name": "ipython",
        "version": 3
      },
      "file_extension": ".py",
      "mimetype": "text/x-python",
      "name": "python",
      "nbconvert_exporter": "python",
      "pygments_lexer": "ipython3",
      "version": "3.9.0"
    }
  },
  "nbformat": 4,
  "nbformat_minor": 0
}