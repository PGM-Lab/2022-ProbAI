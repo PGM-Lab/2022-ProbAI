{
  "nbformat": 4,
  "nbformat_minor": 0,
  "metadata": {
    "colab": {
      "name": "students_PPLs_Intro.ipynb",
      "provenance": [],
      "toc_visible": true,
      "include_colab_link": true
    },
    "kernelspec": {
      "display_name": "Python 3",
      "language": "python",
      "name": "python3"
    },
    "language_info": {
      "codemirror_mode": {
        "name": "ipython",
        "version": 3
      },
      "file_extension": ".py",
      "mimetype": "text/x-python",
      "name": "python",
      "nbconvert_exporter": "python",
      "pygments_lexer": "ipython3",
      "version": "3.6.6"
    }
  },
  "cells": [
    {
      "cell_type": "markdown",
      "metadata": {
        "id": "view-in-github",
        "colab_type": "text"
      },
      "source": [
        "<a href=\"https://colab.research.google.com/github/PGM-Lab/2022-ProbAI/blob/main/Day1/notebooks/students_PPLs_Intro.ipynb\" target=\"_parent\"><img src=\"https://colab.research.google.com/assets/colab-badge.svg\" alt=\"Open In Colab\"/></a>"
      ]
    },
    {
      "cell_type": "markdown",
      "metadata": {
        "id": "a75mGrGgL-0g"
      },
      "source": [
        "<img src=\"https://github.com/PGM-Lab/probai-2021-pyro/blob/main/Day1/Figures/blue.png?raw=1\" alt=\"Drawing\" width=2000 height=20>\n",
        "\n",
        "\n",
        "# Setup\n",
        "Let's begin by installing and importing the modules we'll need."
      ]
    },
    {
      "cell_type": "code",
      "metadata": {
        "id": "7Owp2eKrL-0j"
      },
      "source": [
        "!pip install -q --upgrade pyro-ppl torch\n",
        "import pyro\n",
        "import torch\n",
        "import pyro.distributions as dist"
      ],
      "execution_count": 1,
      "outputs": []
    },
    {
      "cell_type": "markdown",
      "metadata": {
        "id": "I-EvHtlvL-0k"
      },
      "source": [
        "<img src=\"https://github.com/PGM-Lab/probai-2021-pyro/blob/main/Day1/Figures/blue.png?raw=1\" alt=\"Drawing\" width=2000 height=20>\n",
        "\n",
        "\n",
        "# 1. **Pyro’s distributions** (http://docs.pyro.ai/en/stable/distributions.html) :\n",
        "\n",
        "\n",
        "---\n",
        "* Pyro provides a wide range of distributions: **Normal, Beta, Cauchy, Dirichlet, Gumbel, Poisson, Pareto, etc.**\n",
        "\n",
        "---\n"
      ]
    },
    {
      "cell_type": "code",
      "metadata": {
        "colab": {
          "base_uri": "https://localhost:8080/"
        },
        "id": "_w52OifSL-0l",
        "outputId": "2836860b-c308-45ac-e7e7-554ffd73ed97"
      },
      "source": [
        "normal = dist.Normal(0,1)\n",
        "normal"
      ],
      "execution_count": 2,
      "outputs": [
        {
          "output_type": "execute_result",
          "data": {
            "text/plain": [
              "Normal(loc: 0.0, scale: 1.0)"
            ]
          },
          "metadata": {},
          "execution_count": 2
        }
      ]
    },
    {
      "cell_type": "markdown",
      "metadata": {
        "id": "yOSdcF4_L-0m"
      },
      "source": [
        "\n",
        "<img src=\"https://github.com/PGM-Lab/probai-2021-pyro/blob/main/Day1/Figures/blue.png?raw=1\" alt=\"Drawing\" width=2000 height=20>\n",
        "\n",
        "---\n",
        "\n",
        "* Samples from the distributions are [Pytorch’s Tensor objects](https://pytorch.org/cppdocs/notes/tensor_creation.html) (i.e. multidimensional arrays).\n",
        "\n",
        "---\n"
      ]
    },
    {
      "cell_type": "code",
      "metadata": {
        "colab": {
          "base_uri": "https://localhost:8080/"
        },
        "id": "wloQxYMXL-0m",
        "outputId": "03ac90c7-6edd-4306-82e3-cb87df7682b1"
      },
      "source": [
        "sample = normal.sample()\n",
        "sample"
      ],
      "execution_count": 3,
      "outputs": [
        {
          "output_type": "execute_result",
          "data": {
            "text/plain": [
              "tensor(-0.4057)"
            ]
          },
          "metadata": {},
          "execution_count": 3
        }
      ]
    },
    {
      "cell_type": "code",
      "metadata": {
        "colab": {
          "base_uri": "https://localhost:8080/"
        },
        "id": "2h2iOp-qL-0o",
        "outputId": "6a396319-1bbe-4204-b077-f589f53174f4"
      },
      "source": [
        "sample = normal.sample(sample_shape=[3,4,5])\n",
        "sample"
      ],
      "execution_count": 4,
      "outputs": [
        {
          "output_type": "execute_result",
          "data": {
            "text/plain": [
              "tensor([[[-2.7430e+00, -2.8333e-01,  1.7822e+00, -1.3468e-01,  6.6829e-01],\n",
              "         [-1.8112e-01,  1.2835e+00,  1.5695e+00,  1.2319e-01, -4.5034e-01],\n",
              "         [-8.0099e-01,  4.1823e-01,  5.0267e-01,  1.1348e+00,  8.2170e-01],\n",
              "         [ 8.8801e-01,  1.0331e+00,  5.7867e-01,  1.0174e+00, -1.1488e+00]],\n",
              "\n",
              "        [[-1.4539e+00, -7.7187e-01,  8.2720e-01, -2.5531e-01, -2.3051e-01],\n",
              "         [-1.2784e+00,  7.2599e-01, -1.5419e+00, -5.5561e-01,  3.7191e-01],\n",
              "         [-2.2095e-01,  8.2797e-01,  1.8905e-01, -1.6761e+00,  1.4177e+00],\n",
              "         [-1.6022e-02, -5.1633e-02,  2.5694e-02, -4.1929e-01, -2.7344e+00]],\n",
              "\n",
              "        [[ 3.3878e-01,  4.7088e-01, -3.1636e-01,  1.4765e+00,  1.5861e+00],\n",
              "         [ 4.5472e-04,  1.3104e+00,  5.0533e-01, -1.2697e+00,  1.2853e+00],\n",
              "         [ 1.9902e+00,  1.3694e+00,  2.1142e+00, -8.9121e-01,  1.5916e+00],\n",
              "         [ 5.1527e-01,  1.2357e+00, -5.8724e-01,  1.8683e-01,  6.1700e-01]]])"
            ]
          },
          "metadata": {},
          "execution_count": 4
        }
      ]
    },
    {
      "cell_type": "markdown",
      "metadata": {
        "id": "r-0pNd9tL-0o"
      },
      "source": [
        "<img src=\"https://github.com/PGM-Lab/probai-2021-pyro/blob/main/Day1/Figures/blue.png?raw=1\" alt=\"Drawing\" width=2000 height=20>\n",
        "\n",
        "---\n",
        "* We can query the **dimensionlity** of a tensor with the ``shape`` property\n",
        "\n",
        "---"
      ]
    },
    {
      "cell_type": "code",
      "metadata": {
        "colab": {
          "base_uri": "https://localhost:8080/"
        },
        "id": "Dk2ebGoYL-0p",
        "outputId": "850fd671-191c-4e7e-ade9-78758eab6e8e"
      },
      "source": [
        "sample = normal.sample(sample_shape=[3,4,5])\n",
        "sample.shape"
      ],
      "execution_count": 5,
      "outputs": [
        {
          "output_type": "execute_result",
          "data": {
            "text/plain": [
              "torch.Size([3, 4, 5])"
            ]
          },
          "metadata": {},
          "execution_count": 5
        }
      ]
    },
    {
      "cell_type": "markdown",
      "metadata": {
        "id": "DsVjombqL-0p"
      },
      "source": [
        "\n",
        "<img src=\"https://github.com/PGM-Lab/probai-2021-pyro/blob/main/Day1/Figures/blue.png?raw=1\" alt=\"Drawing\" width=2000 height=20>\n",
        "\n",
        "\n",
        "---\n",
        "* Operations, like **log-likelihood**, are defined over tensors.\n",
        "\n",
        "---\n",
        "\n"
      ]
    },
    {
      "cell_type": "code",
      "metadata": {
        "colab": {
          "base_uri": "https://localhost:8080/"
        },
        "id": "06G293JdL-0p",
        "outputId": "27d67b21-3851-4d79-d2bf-96a943132579"
      },
      "source": [
        "normal.log_prob(sample)"
      ],
      "execution_count": 6,
      "outputs": [
        {
          "output_type": "execute_result",
          "data": {
            "text/plain": [
              "tensor([[[-1.3667, -1.3897, -1.0885, -1.0985, -2.0690],\n",
              "         [-2.4529, -1.1956, -1.4817, -2.3871, -1.4550],\n",
              "         [-1.3152, -0.9193, -0.9394, -1.2786, -1.4106],\n",
              "         [-0.9699, -3.1184, -1.5500, -1.1618, -1.4632]],\n",
              "\n",
              "        [[-0.9616, -0.9350, -1.2425, -0.9214, -1.4474],\n",
              "         [-1.2628, -1.2820, -0.9209, -0.9603, -3.1103],\n",
              "         [-1.0228, -1.2832, -1.3787, -2.5144, -1.4974],\n",
              "         [-0.9549, -1.8656, -1.3778, -1.0114, -0.9799]],\n",
              "\n",
              "        [[-2.0444, -1.8288, -2.8374, -3.8192, -1.1543],\n",
              "         [-1.4317, -1.6669, -1.6399, -0.9278, -1.9476],\n",
              "         [-0.9190, -2.5086, -1.5253, -0.9493, -0.9515],\n",
              "         [-1.2196, -0.9886, -1.3000, -0.9759, -0.9289]]])"
            ]
          },
          "metadata": {},
          "execution_count": 6
        }
      ]
    },
    {
      "cell_type": "code",
      "metadata": {
        "colab": {
          "base_uri": "https://localhost:8080/"
        },
        "id": "R3v2rpRAL-0q",
        "outputId": "62e92048-2d6e-49c4-f53f-2f63b72faca9"
      },
      "source": [
        "torch.sum(normal.log_prob(sample))"
      ],
      "execution_count": 7,
      "outputs": [
        {
          "output_type": "execute_result",
          "data": {
            "text/plain": [
              "tensor(-88.6058)"
            ]
          },
          "metadata": {},
          "execution_count": 7
        }
      ]
    },
    {
      "cell_type": "markdown",
      "metadata": {
        "id": "zErtSTzYL-0q"
      },
      "source": [
        "<img src=\"https://github.com/PGM-Lab/probai-2021-pyro/blob/main/Day1/Figures/blue.png?raw=1\" alt=\"Drawing\" width=2000 height=20>\n",
        "\n",
        "---\n",
        "\n",
        "* **Multiple distributions** can be embedded in single object.\n",
        "\n",
        "* Below we define **three Normal distributions with different means but the same scale** in a single object.\n",
        "\n",
        "---"
      ]
    },
    {
      "cell_type": "code",
      "metadata": {
        "colab": {
          "base_uri": "https://localhost:8080/"
        },
        "id": "VEcgGuTqL-0q",
        "outputId": "2bc7c3e8-57f2-43d6-f6f7-92c0f9ded7ce"
      },
      "source": [
        "normal = dist.Normal(torch.tensor([1.,2.,3.]),1.)\n",
        "normal"
      ],
      "execution_count": 8,
      "outputs": [
        {
          "output_type": "execute_result",
          "data": {
            "text/plain": [
              "Normal(loc: torch.Size([3]), scale: torch.Size([3]))"
            ]
          },
          "metadata": {},
          "execution_count": 8
        }
      ]
    },
    {
      "cell_type": "code",
      "metadata": {
        "colab": {
          "base_uri": "https://localhost:8080/"
        },
        "id": "1cRRDgTbL-0r",
        "outputId": "68d810e9-ac26-47d1-8bdc-78ea3ecc5713"
      },
      "source": [
        "normal.sample()"
      ],
      "execution_count": 9,
      "outputs": [
        {
          "output_type": "execute_result",
          "data": {
            "text/plain": [
              "tensor([2.0082, 0.0789, 3.3864])"
            ]
          },
          "metadata": {},
          "execution_count": 9
        }
      ]
    },
    {
      "cell_type": "code",
      "metadata": {
        "colab": {
          "base_uri": "https://localhost:8080/"
        },
        "id": "hji5mTnhL-0r",
        "outputId": "a47a895d-30c2-4ee8-c387-30dfb3a33af4"
      },
      "source": [
        "normal.log_prob(normal.sample())"
      ],
      "execution_count": 10,
      "outputs": [
        {
          "output_type": "execute_result",
          "data": {
            "text/plain": [
              "tensor([-1.0779, -1.0003, -0.9488])"
            ]
          },
          "metadata": {},
          "execution_count": 10
        }
      ]
    },
    {
      "cell_type": "markdown",
      "metadata": {
        "id": "drChKHsWJ--U"
      },
      "source": [
        "<img src=\"https://github.com/PGM-Lab/probai-2021-pyro/blob/main/Day1/Figures/blue.png?raw=1\" alt=\"Drawing\" width=2000 height=20>"
      ]
    },
    {
      "cell_type": "markdown",
      "metadata": {
        "id": "T7drVBrtzNgC"
      },
      "source": [
        "### **<span style=\"color:red\">Exercise: Open the notebook and play around</span>**\n",
        "\n",
        "* Test that everything works.\n",
        "* Play a bit with the code in Section 1 of the notebook.\n",
        "\n",
        "<img src=\"https://github.com/PGM-Lab/probai-2021-pyro/blob/main/Day1/Figures/blue.png?raw=1\" alt=\"Drawing\" width=2000 height=20>"
      ]
    },
    {
      "cell_type": "markdown",
      "metadata": {
        "id": "WV-iBl4xL-0r"
      },
      "source": [
        "# 2. **Pyro’s models** (http://pyro.ai/examples/intro_part_i.html) :\n",
        "\n",
        "---\n",
        "* In Pyro, a probabilistic model is defined as a **stochastic function** (i.e. every time it is run, it returns a new sample).\n",
        "\n",
        "* Each random variable is associated with a **primitive stochastic function** using the construct ``pyro.sample(...)``.\n",
        "---\n",
        "\n",
        "\n",
        "### 2.1 A Temperature Model\n",
        "\n",
        "\n",
        "\n",
        "As initial running example, we consider the problem of **modelling the temperature**. We first start with a simple model where temperture is modeled using a random Normal variable."
      ]
    },
    {
      "cell_type": "code",
      "metadata": {
        "colab": {
          "base_uri": "https://localhost:8080/"
        },
        "id": "kcU2EmBYL-0s",
        "outputId": "11b33c6e-4068-4f82-81aa-22a37a49ee43"
      },
      "source": [
        "def model():\n",
        "    temp = pyro.sample('temp', dist.Normal(15.0, 2.0))\n",
        "    return temp\n",
        "\n",
        "print(model())\n",
        "print(model())"
      ],
      "execution_count": 11,
      "outputs": [
        {
          "output_type": "stream",
          "name": "stdout",
          "text": [
            "tensor(16.2693)\n",
            "tensor(13.1663)\n"
          ]
        }
      ]
    },
    {
      "cell_type": "markdown",
      "metadata": {
        "id": "N0pVeOVpL-0s"
      },
      "source": [
        "See how the model is a stochastic function which **returns a different value everytime it is invoked**. \n",
        "\n",
        "<img src=\"https://github.com/PGM-Lab/probai-2021-pyro/blob/main/Day1/Figures/blue.png?raw=1\" alt=\"Drawing\" width=2000 height=20>\n"
      ]
    },
    {
      "cell_type": "markdown",
      "metadata": {
        "id": "Z0biYXEVL-0s"
      },
      "source": [
        "### 2.2 A Temperature-Sensor Model"
      ]
    },
    {
      "cell_type": "markdown",
      "metadata": {
        "id": "Jp6wefVaLCnx"
      },
      "source": [
        "---\n",
        "* In Pyro, a stochastic method is defined as a **composition of primitive stochastic functions**.\n",
        "* The temperature Model: we consider the presence of a **temperature sensor**. \n",
        "  * The temperature sensor gives **noisy observations** about the real temperature.\n",
        "  * The **error** of the sensor's measurements **is known**.\n",
        "  * A graphical representation of this model:\n",
        "\n",
        "<center>\n",
        "<img src=\"https://github.com/PGM-Lab/probai-2021-pyro/blob/main/Day1/Figures/PGM-Tem-Sensor.png?raw=1\" alt=\"Drawing\" width=\"150\">\n",
        "</center>\n",
        "---\n"
      ]
    },
    {
      "cell_type": "code",
      "metadata": {
        "colab": {
          "base_uri": "https://localhost:8080/"
        },
        "id": "VpxheEx-L-0t",
        "outputId": "8772b867-84de-4f6d-f9f7-97dfc9fdb138"
      },
      "source": [
        "def model():\n",
        "    temp = pyro.sample('temp', dist.Normal(15.0, 2.0))\n",
        "    sensor = pyro.sample('sensor', dist.Normal(temp, 1.0))\n",
        "    return (temp, sensor)\n",
        "\n",
        "out1 = model()\n",
        "out1"
      ],
      "execution_count": 12,
      "outputs": [
        {
          "output_type": "execute_result",
          "data": {
            "text/plain": [
              "(tensor(15.0124), tensor(14.8486))"
            ]
          },
          "metadata": {},
          "execution_count": 12
        }
      ]
    },
    {
      "cell_type": "markdown",
      "metadata": {
        "id": "XSXTeNtqL-0t"
      },
      "source": [
        "---\n",
        "* The above method defines a joint probability distribution:\n",
        "$$p(sensor, temp) = p(sensor|temp)p(temp)$$\n",
        "\n",
        "\n",
        "\n",
        "\n",
        "* In this case, we have a simple dependency between the variables. But, as we are in a PPL, dependencies can be expressed in terms of complex deterministic functions (more examples later).\n",
        "\n",
        "---\n",
        "\n",
        "<img src=\"https://github.com/PGM-Lab/probai-2021-pyro/blob/main/Day1/Figures/blue.png?raw=1\" alt=\"Drawing\" width=2000 height=20>\n"
      ]
    },
    {
      "cell_type": "code",
      "source": [
        "#Visualize the model\n",
        "pyro.render_model(model)"
      ],
      "metadata": {
        "id": "v3eYPBkwivp9",
        "outputId": "8c078cb0-a2e6-42c7-b773-426ae30adac6",
        "colab": {
          "base_uri": "https://localhost:8080/",
          "height": 176
        }
      },
      "execution_count": 13,
      "outputs": [
        {
          "output_type": "execute_result",
          "data": {
            "text/plain": [
              "<graphviz.dot.Digraph at 0x7feb8a36aa90>"
            ],
            "image/svg+xml": "<?xml version=\"1.0\" encoding=\"UTF-8\" standalone=\"no\"?>\n<!DOCTYPE svg PUBLIC \"-//W3C//DTD SVG 1.1//EN\"\n \"http://www.w3.org/Graphics/SVG/1.1/DTD/svg11.dtd\">\n<!-- Generated by graphviz version 2.40.1 (20161225.0304)\n -->\n<!-- Title: %3 Pages: 1 -->\n<svg width=\"77pt\" height=\"116pt\"\n viewBox=\"0.00 0.00 76.89 116.00\" xmlns=\"http://www.w3.org/2000/svg\" xmlns:xlink=\"http://www.w3.org/1999/xlink\">\n<g id=\"graph0\" class=\"graph\" transform=\"scale(1 1) rotate(0) translate(4 112)\">\n<title>%3</title>\n<polygon fill=\"#ffffff\" stroke=\"transparent\" points=\"-4,4 -4,-112 72.8939,-112 72.8939,4 -4,4\"/>\n<!-- temp -->\n<g id=\"node1\" class=\"node\">\n<title>temp</title>\n<ellipse fill=\"#ffffff\" stroke=\"#000000\" cx=\"34.4469\" cy=\"-90\" rx=\"29.4969\" ry=\"18\"/>\n<text text-anchor=\"middle\" x=\"34.4469\" y=\"-86.3\" font-family=\"Times,serif\" font-size=\"14.00\" fill=\"#000000\">temp</text>\n</g>\n<!-- sensor -->\n<g id=\"node2\" class=\"node\">\n<title>sensor</title>\n<ellipse fill=\"#ffffff\" stroke=\"#000000\" cx=\"34.4469\" cy=\"-18\" rx=\"34.394\" ry=\"18\"/>\n<text text-anchor=\"middle\" x=\"34.4469\" y=\"-14.3\" font-family=\"Times,serif\" font-size=\"14.00\" fill=\"#000000\">sensor</text>\n</g>\n<!-- temp&#45;&gt;sensor -->\n<g id=\"edge1\" class=\"edge\">\n<title>temp&#45;&gt;sensor</title>\n<path fill=\"none\" stroke=\"#000000\" d=\"M34.4469,-71.8314C34.4469,-64.131 34.4469,-54.9743 34.4469,-46.4166\"/>\n<polygon fill=\"#000000\" stroke=\"#000000\" points=\"37.947,-46.4132 34.4469,-36.4133 30.947,-46.4133 37.947,-46.4132\"/>\n</g>\n</g>\n</svg>\n"
          },
          "metadata": {},
          "execution_count": 13
        }
      ]
    },
    {
      "cell_type": "markdown",
      "source": [
        "---\n",
        "\n",
        "<img src=\"https://github.com/PGM-Lab/probai-2021-pyro/blob/main/Day1/Figures/blue.png?raw=1\" alt=\"Drawing\" width=2000 height=20>\n"
      ],
      "metadata": {
        "id": "L5f6BGpkizCh"
      }
    },
    {
      "cell_type": "markdown",
      "metadata": {
        "id": "CCayVyTsL-0t"
      },
      "source": [
        "# 3. **Pyro’s inference** (http://pyro.ai/examples/intro_part_ii.html) :"
      ]
    },
    {
      "cell_type": "markdown",
      "metadata": {
        "id": "QyC3v0cyL-0u"
      },
      "source": [
        "### Auxiliary inference functions (more details on Day 2)\n",
        "\n",
        "To make inference on Pyro, we will use a variational inference method, which performs gradient-based optimization to solve the inference problem. More details will be given on Day 2. "
      ]
    },
    {
      "cell_type": "code",
      "metadata": {
        "id": "arZOTC7gL-0u"
      },
      "source": [
        "from torch.distributions import constraints\n",
        "from pyro.optim import SGD\n",
        "from pyro.infer import Trace_ELBO\n",
        "import matplotlib.pyplot as plt\n",
        "from pyro.contrib.autoguide import AutoNormal\n",
        "\n",
        "\n",
        "def svi(model, obs, guide=None, num_steps = 500, plot = False, verbose=False, lr=0.01):\n",
        "    \n",
        "    torch.manual_seed(999)\n",
        "\n",
        "    pyro.clear_param_store()\n",
        "    \n",
        "    if guide is None:\n",
        "        guide = AutoNormal(model)\n",
        "    \n",
        "    svi = pyro.infer.SVI(model=model,\n",
        "                         guide=guide,\n",
        "                         optim=SGD({\"lr\": lr, \"momentum\":0.1}),\n",
        "                         loss=Trace_ELBO())\n",
        "\n",
        "    losses, a,b  = [], [], []\n",
        "    \n",
        "    for t in range(num_steps):\n",
        "        losses.append(svi.step(obs))\n",
        "        if t%100==0:\n",
        "            print('Step: '+str(t)+'. Loss: ' +str(losses[-1]))\n",
        "            \n",
        "\n",
        "    if (plot):\n",
        "        plt.plot(losses)\n",
        "        plt.title(\"ELBO\")\n",
        "        plt.xlabel(\"step\")\n",
        "        plt.ylabel(\"loss\");\n",
        "        plt.show()\n",
        "        \n",
        "    if verbose:\n",
        "        print(\"Inference results:\")\n",
        "        for name, value in pyro.get_param_store().items():\n",
        "            print(name, pyro.param(name))"
      ],
      "execution_count": 14,
      "outputs": []
    },
    {
      "cell_type": "markdown",
      "metadata": {
        "id": "ovLJGQtcPlBt"
      },
      "source": [
        "---\n",
        "* To make inference in Pyro over a given model we need to define a *guide*, this *guide* has the same signature than its counterpart model. \n",
        "\n",
        "* The guide must provide samples for those variables of the model which are not observed using again the ``pyro.sample`` construct. \n",
        "\n",
        "* Guides are also parametrized using Pyro's parameters (``pyro.param``), so the variational inference algorithm will optimize these parameters. \n",
        "\n",
        "* All of that will be explained in detail on Day 2.\n",
        "\n",
        "---"
      ]
    },
    {
      "cell_type": "markdown",
      "metadata": {
        "id": "mkkHJOFBL-0u"
      },
      "source": [
        "<img src=\"https://github.com/PGM-Lab/probai-2021-pyro/blob/main/Day1/Figures/blue.png?raw=1\" alt=\"Drawing\" width=2000 height=20>\n",
        "\n",
        "### 3.1  Conditioning on a single observation\n",
        "\n",
        "Now, we continue with the last model defined in section 2.2, and assume we have a sensor reading and we want to compute the posterior distribution over the real temperature. \n",
        "<center>\n",
        "<img src=\"https://github.com/PGM-Lab/probai-2021-pyro/blob/main/Day1/Figures/PGM-Tem-Sensor.png?raw=1\" alt=\"Drawing\" width=\"150\">\n",
        "</center>\n",
        "\n",
        "---\n",
        "* This can be achived by introducing **observations in the random variable** with the keyword ``obs=``.\n",
        "\n",
        "---"
      ]
    },
    {
      "cell_type": "code",
      "metadata": {
        "id": "TSzNRm7wL-0v",
        "outputId": "254aa50e-20ac-4d20-8ef4-c2c9c3fe8d79",
        "colab": {
          "base_uri": "https://localhost:8080/",
          "height": 176
        }
      },
      "source": [
        "#The observatons   \n",
        "obs = {'sensor': torch.tensor(18.0)}\n",
        "\n",
        "def model(obs):\n",
        "    temp = pyro.sample('temp', dist.Normal(15.0, 2.0))\n",
        "    sensor = pyro.sample('sensor', dist.Normal(temp, 0.1), obs=obs['sensor'])\n",
        "\n",
        "#Visualize the model\n",
        "pyro.render_model(model, model_args=(obs, ))"
      ],
      "execution_count": 15,
      "outputs": [
        {
          "output_type": "execute_result",
          "data": {
            "text/plain": [
              "<graphviz.dot.Digraph at 0x7feacdfd7190>"
            ],
            "image/svg+xml": "<?xml version=\"1.0\" encoding=\"UTF-8\" standalone=\"no\"?>\n<!DOCTYPE svg PUBLIC \"-//W3C//DTD SVG 1.1//EN\"\n \"http://www.w3.org/Graphics/SVG/1.1/DTD/svg11.dtd\">\n<!-- Generated by graphviz version 2.40.1 (20161225.0304)\n -->\n<!-- Title: %3 Pages: 1 -->\n<svg width=\"77pt\" height=\"116pt\"\n viewBox=\"0.00 0.00 76.89 116.00\" xmlns=\"http://www.w3.org/2000/svg\" xmlns:xlink=\"http://www.w3.org/1999/xlink\">\n<g id=\"graph0\" class=\"graph\" transform=\"scale(1 1) rotate(0) translate(4 112)\">\n<title>%3</title>\n<polygon fill=\"#ffffff\" stroke=\"transparent\" points=\"-4,4 -4,-112 72.8939,-112 72.8939,4 -4,4\"/>\n<!-- temp -->\n<g id=\"node1\" class=\"node\">\n<title>temp</title>\n<ellipse fill=\"#ffffff\" stroke=\"#000000\" cx=\"34.4469\" cy=\"-90\" rx=\"29.4969\" ry=\"18\"/>\n<text text-anchor=\"middle\" x=\"34.4469\" y=\"-86.3\" font-family=\"Times,serif\" font-size=\"14.00\" fill=\"#000000\">temp</text>\n</g>\n<!-- sensor -->\n<g id=\"node2\" class=\"node\">\n<title>sensor</title>\n<ellipse fill=\"#c0c0c0\" stroke=\"#000000\" cx=\"34.4469\" cy=\"-18\" rx=\"34.394\" ry=\"18\"/>\n<text text-anchor=\"middle\" x=\"34.4469\" y=\"-14.3\" font-family=\"Times,serif\" font-size=\"14.00\" fill=\"#000000\">sensor</text>\n</g>\n<!-- temp&#45;&gt;sensor -->\n<g id=\"edge1\" class=\"edge\">\n<title>temp&#45;&gt;sensor</title>\n<path fill=\"none\" stroke=\"#000000\" d=\"M34.4469,-71.8314C34.4469,-64.131 34.4469,-54.9743 34.4469,-46.4166\"/>\n<polygon fill=\"#000000\" stroke=\"#000000\" points=\"37.947,-46.4132 34.4469,-36.4133 30.947,-46.4133 37.947,-46.4132\"/>\n</g>\n</g>\n</svg>\n"
          },
          "metadata": {},
          "execution_count": 15
        }
      ]
    },
    {
      "cell_type": "markdown",
      "metadata": {
        "id": "nH3PgF4wL-0w"
      },
      "source": [
        "<img src=\"https://github.com/PGM-Lab/probai-2021-pyro/blob/main/Day1/Figures/blue.png?raw=1\" alt=\"Drawing\" width=2000 height=20>\n",
        "\n",
        "\n",
        "---\n",
        "* Inference is made using the previously defined auxiliary functions, ``svi`` and ``guide``. \n",
        "\n",
        "* We can query the **posterior probability distribution**: \n",
        "\n",
        "\n",
        "$$p(temp | sensor=18)=\\frac{p(sensor=18|temp)p(temp)}{\\int p(sensor=18|temp)p(temp) dtemp}$$\n",
        "\n",
        "---"
      ]
    },
    {
      "cell_type": "code",
      "metadata": {
        "colab": {
          "base_uri": "https://localhost:8080/",
          "height": 438
        },
        "id": "VObMyZQ_L-0w",
        "outputId": "0aa35a0b-7e7b-4051-9f5f-627f9f5a24fd"
      },
      "source": [
        "#Run inference\n",
        "svi(model,obs, plot=True)\n",
        "\n",
        "#Print results\n",
        "print(\"P(Temperature|Sensor=18.0) = \")\n",
        "print(dist.Normal(pyro.param(\"AutoNormal.locs.temp\").item(), pyro.param(\"AutoNormal.locs.temp\").item()))\n",
        "print(\"\")"
      ],
      "execution_count": 16,
      "outputs": [
        {
          "output_type": "stream",
          "name": "stdout",
          "text": [
            "Step: 0. Loss: 16147.421896100044\n",
            "Step: 100. Loss: 5.638109087944031\n",
            "Step: 200. Loss: 2.748673915863037\n",
            "Step: 300. Loss: 2.5427181720733643\n",
            "Step: 400. Loss: 2.9723092317581177\n"
          ]
        },
        {
          "output_type": "display_data",
          "data": {
            "text/plain": [
              "<Figure size 432x288 with 1 Axes>"
            ],
            "image/png": "[encoded data removed]"
          },
          "metadata": {
            "needs_background": "light"
          }
        },
        {
          "output_type": "stream",
          "name": "stdout",
          "text": [
            "P(Temperature|Sensor=18.0) = \n",
            "Normal(loc: 18.043657302856445, scale: 18.043657302856445)\n",
            "\n"
          ]
        }
      ]
    },
    {
      "cell_type": "markdown",
      "metadata": {
        "id": "ZglqMEmSL-0w"
      },
      "source": [
        "---\n",
        "* Inference is an **optimization procedure**. \n",
        "\n",
        "* The **ELBO function is minimized** during the variational inference process.\n",
        "\n",
        "---\n",
        "\n",
        "<img src=\"https://github.com/PGM-Lab/probai-2021-pyro/blob/main/Day1/Figures/blue.png?raw=1\" alt=\"Drawing\" width=2000 height=20>\n"
      ]
    },
    {
      "cell_type": "markdown",
      "metadata": {
        "id": "WAbW6UoTL-0x"
      },
      "source": [
        "### 3.2  Learning from a bunch of observations\n",
        "\n",
        "---\n",
        "* Let us assume we have a **set of observations** about the temperature at different time steps. \n",
        "\n",
        "* In this case, and following a probabilistic modelling approach, we define a **set of random variables**.\n",
        "\n",
        "* One random variable for each **observation**, using a standard ``for-loop``.\n",
        "\n",
        "---"
      ]
    },
    {
      "cell_type": "code",
      "metadata": {
        "id": "w2bPy-D4L-0x",
        "outputId": "d4d30f17-9649-4dc3-b4ee-ec3c865a5964",
        "colab": {
          "base_uri": "https://localhost:8080/",
          "height": 196
        }
      },
      "source": [
        "#The observatons   \n",
        "obs = {'sensor': torch.tensor([18., 18.7, 19.2, 17.8, 20.3, 22.4, 20.3, 21.2, 19.5, 20.1])}\n",
        "\n",
        "def model(obs):\n",
        "    for i in range(obs['sensor'].shape[0]):\n",
        "        temp = pyro.sample(f'temp_{i}', dist.Normal(15.0, 2.0))\n",
        "        sensor = pyro.sample(f'sensor_{i}', dist.Normal(temp, 1.0), obs=obs['sensor'][i])\n",
        "\n",
        "#Visualize the model\n",
        "pyro.render_model(model, model_args=(obs, ))"
      ],
      "execution_count": 17,
      "outputs": [
        {
          "output_type": "execute_result",
          "data": {
            "text/plain": [
              "<graphviz.dot.Digraph at 0x7feacdfe3790>"
            ],
            "image/svg+xml": "<?xml version=\"1.0\" encoding=\"UTF-8\" standalone=\"no\"?>\n<!DOCTYPE svg PUBLIC \"-//W3C//DTD SVG 1.1//EN\"\n \"http://www.w3.org/Graphics/SVG/1.1/DTD/svg11.dtd\">\n<!-- Generated by graphviz version 2.40.1 (20161225.0304)\n -->\n<!-- Title: %3 Pages: 1 -->\n<svg width=\"1050pt\" height=\"116pt\"\n viewBox=\"0.00 0.00 1050.39 116.00\" xmlns=\"http://www.w3.org/2000/svg\" xmlns:xlink=\"http://www.w3.org/1999/xlink\">\n<g id=\"graph0\" class=\"graph\" transform=\"scale(1 1) rotate(0) translate(4 112)\">\n<title>%3</title>\n<polygon fill=\"#ffffff\" stroke=\"transparent\" points=\"-4,4 -4,-112 1046.3922,-112 1046.3922,4 -4,4\"/>\n<!-- temp_0 -->\n<g id=\"node1\" class=\"node\">\n<title>temp_0</title>\n<ellipse fill=\"#ffffff\" stroke=\"#000000\" cx=\"44.1961\" cy=\"-90\" rx=\"38.9931\" ry=\"18\"/>\n<text text-anchor=\"middle\" x=\"44.1961\" y=\"-86.3\" font-family=\"Times,serif\" font-size=\"14.00\" fill=\"#000000\">temp_0</text>\n</g>\n<!-- sensor_0 -->\n<g id=\"node2\" class=\"node\">\n<title>sensor_0</title>\n<ellipse fill=\"#c0c0c0\" stroke=\"#000000\" cx=\"44.1961\" cy=\"-18\" rx=\"44.393\" ry=\"18\"/>\n<text text-anchor=\"middle\" x=\"44.1961\" y=\"-14.3\" font-family=\"Times,serif\" font-size=\"14.00\" fill=\"#000000\">sensor_0</text>\n</g>\n<!-- temp_0&#45;&gt;sensor_0 -->\n<g id=\"edge1\" class=\"edge\">\n<title>temp_0&#45;&gt;sensor_0</title>\n<path fill=\"none\" stroke=\"#000000\" d=\"M44.1961,-71.8314C44.1961,-64.131 44.1961,-54.9743 44.1961,-46.4166\"/>\n<polygon fill=\"#000000\" stroke=\"#000000\" points=\"47.6962,-46.4132 44.1961,-36.4133 40.6962,-46.4133 47.6962,-46.4132\"/>\n</g>\n<!-- temp_1 -->\n<g id=\"node3\" class=\"node\">\n<title>temp_1</title>\n<ellipse fill=\"#ffffff\" stroke=\"#000000\" cx=\"150.1961\" cy=\"-90\" rx=\"38.9931\" ry=\"18\"/>\n<text text-anchor=\"middle\" x=\"150.1961\" y=\"-86.3\" font-family=\"Times,serif\" font-size=\"14.00\" fill=\"#000000\">temp_1</text>\n</g>\n<!-- sensor_1 -->\n<g id=\"node4\" class=\"node\">\n<title>sensor_1</title>\n<ellipse fill=\"#c0c0c0\" stroke=\"#000000\" cx=\"150.1961\" cy=\"-18\" rx=\"44.393\" ry=\"18\"/>\n<text text-anchor=\"middle\" x=\"150.1961\" y=\"-14.3\" font-family=\"Times,serif\" font-size=\"14.00\" fill=\"#000000\">sensor_1</text>\n</g>\n<!-- temp_1&#45;&gt;sensor_1 -->\n<g id=\"edge2\" class=\"edge\">\n<title>temp_1&#45;&gt;sensor_1</title>\n<path fill=\"none\" stroke=\"#000000\" d=\"M150.1961,-71.8314C150.1961,-64.131 150.1961,-54.9743 150.1961,-46.4166\"/>\n<polygon fill=\"#000000\" stroke=\"#000000\" points=\"153.6962,-46.4132 150.1961,-36.4133 146.6962,-46.4133 153.6962,-46.4132\"/>\n</g>\n<!-- temp_2 -->\n<g id=\"node5\" class=\"node\">\n<title>temp_2</title>\n<ellipse fill=\"#ffffff\" stroke=\"#000000\" cx=\"256.1961\" cy=\"-90\" rx=\"38.9931\" ry=\"18\"/>\n<text text-anchor=\"middle\" x=\"256.1961\" y=\"-86.3\" font-family=\"Times,serif\" font-size=\"14.00\" fill=\"#000000\">temp_2</text>\n</g>\n<!-- sensor_2 -->\n<g id=\"node6\" class=\"node\">\n<title>sensor_2</title>\n<ellipse fill=\"#c0c0c0\" stroke=\"#000000\" cx=\"256.1961\" cy=\"-18\" rx=\"44.393\" ry=\"18\"/>\n<text text-anchor=\"middle\" x=\"256.1961\" y=\"-14.3\" font-family=\"Times,serif\" font-size=\"14.00\" fill=\"#000000\">sensor_2</text>\n</g>\n<!-- temp_2&#45;&gt;sensor_2 -->\n<g id=\"edge3\" class=\"edge\">\n<title>temp_2&#45;&gt;sensor_2</title>\n<path fill=\"none\" stroke=\"#000000\" d=\"M256.1961,-71.8314C256.1961,-64.131 256.1961,-54.9743 256.1961,-46.4166\"/>\n<polygon fill=\"#000000\" stroke=\"#000000\" points=\"259.6962,-46.4132 256.1961,-36.4133 252.6962,-46.4133 259.6962,-46.4132\"/>\n</g>\n<!-- temp_3 -->\n<g id=\"node7\" class=\"node\">\n<title>temp_3</title>\n<ellipse fill=\"#ffffff\" stroke=\"#000000\" cx=\"362.1961\" cy=\"-90\" rx=\"38.9931\" ry=\"18\"/>\n<text text-anchor=\"middle\" x=\"362.1961\" y=\"-86.3\" font-family=\"Times,serif\" font-size=\"14.00\" fill=\"#000000\">temp_3</text>\n</g>\n<!-- sensor_3 -->\n<g id=\"node8\" class=\"node\">\n<title>sensor_3</title>\n<ellipse fill=\"#c0c0c0\" stroke=\"#000000\" cx=\"362.1961\" cy=\"-18\" rx=\"44.393\" ry=\"18\"/>\n<text text-anchor=\"middle\" x=\"362.1961\" y=\"-14.3\" font-family=\"Times,serif\" font-size=\"14.00\" fill=\"#000000\">sensor_3</text>\n</g>\n<!-- temp_3&#45;&gt;sensor_3 -->\n<g id=\"edge4\" class=\"edge\">\n<title>temp_3&#45;&gt;sensor_3</title>\n<path fill=\"none\" stroke=\"#000000\" d=\"M362.1961,-71.8314C362.1961,-64.131 362.1961,-54.9743 362.1961,-46.4166\"/>\n<polygon fill=\"#000000\" stroke=\"#000000\" points=\"365.6962,-46.4132 362.1961,-36.4133 358.6962,-46.4133 365.6962,-46.4132\"/>\n</g>\n<!-- temp_4 -->\n<g id=\"node9\" class=\"node\">\n<title>temp_4</title>\n<ellipse fill=\"#ffffff\" stroke=\"#000000\" cx=\"468.1961\" cy=\"-90\" rx=\"38.9931\" ry=\"18\"/>\n<text text-anchor=\"middle\" x=\"468.1961\" y=\"-86.3\" font-family=\"Times,serif\" font-size=\"14.00\" fill=\"#000000\">temp_4</text>\n</g>\n<!-- sensor_4 -->\n<g id=\"node10\" class=\"node\">\n<title>sensor_4</title>\n<ellipse fill=\"#c0c0c0\" stroke=\"#000000\" cx=\"468.1961\" cy=\"-18\" rx=\"44.393\" ry=\"18\"/>\n<text text-anchor=\"middle\" x=\"468.1961\" y=\"-14.3\" font-family=\"Times,serif\" font-size=\"14.00\" fill=\"#000000\">sensor_4</text>\n</g>\n<!-- temp_4&#45;&gt;sensor_4 -->\n<g id=\"edge5\" class=\"edge\">\n<title>temp_4&#45;&gt;sensor_4</title>\n<path fill=\"none\" stroke=\"#000000\" d=\"M468.1961,-71.8314C468.1961,-64.131 468.1961,-54.9743 468.1961,-46.4166\"/>\n<polygon fill=\"#000000\" stroke=\"#000000\" points=\"471.6962,-46.4132 468.1961,-36.4133 464.6962,-46.4133 471.6962,-46.4132\"/>\n</g>\n<!-- temp_5 -->\n<g id=\"node11\" class=\"node\">\n<title>temp_5</title>\n<ellipse fill=\"#ffffff\" stroke=\"#000000\" cx=\"574.1961\" cy=\"-90\" rx=\"38.9931\" ry=\"18\"/>\n<text text-anchor=\"middle\" x=\"574.1961\" y=\"-86.3\" font-family=\"Times,serif\" font-size=\"14.00\" fill=\"#000000\">temp_5</text>\n</g>\n<!-- sensor_5 -->\n<g id=\"node12\" class=\"node\">\n<title>sensor_5</title>\n<ellipse fill=\"#c0c0c0\" stroke=\"#000000\" cx=\"574.1961\" cy=\"-18\" rx=\"44.393\" ry=\"18\"/>\n<text text-anchor=\"middle\" x=\"574.1961\" y=\"-14.3\" font-family=\"Times,serif\" font-size=\"14.00\" fill=\"#000000\">sensor_5</text>\n</g>\n<!-- temp_5&#45;&gt;sensor_5 -->\n<g id=\"edge6\" class=\"edge\">\n<title>temp_5&#45;&gt;sensor_5</title>\n<path fill=\"none\" stroke=\"#000000\" d=\"M574.1961,-71.8314C574.1961,-64.131 574.1961,-54.9743 574.1961,-46.4166\"/>\n<polygon fill=\"#000000\" stroke=\"#000000\" points=\"577.6962,-46.4132 574.1961,-36.4133 570.6962,-46.4133 577.6962,-46.4132\"/>\n</g>\n<!-- temp_6 -->\n<g id=\"node13\" class=\"node\">\n<title>temp_6</title>\n<ellipse fill=\"#ffffff\" stroke=\"#000000\" cx=\"680.1961\" cy=\"-90\" rx=\"38.9931\" ry=\"18\"/>\n<text text-anchor=\"middle\" x=\"680.1961\" y=\"-86.3\" font-family=\"Times,serif\" font-size=\"14.00\" fill=\"#000000\">temp_6</text>\n</g>\n<!-- sensor_6 -->\n<g id=\"node14\" class=\"node\">\n<title>sensor_6</title>\n<ellipse fill=\"#c0c0c0\" stroke=\"#000000\" cx=\"680.1961\" cy=\"-18\" rx=\"44.393\" ry=\"18\"/>\n<text text-anchor=\"middle\" x=\"680.1961\" y=\"-14.3\" font-family=\"Times,serif\" font-size=\"14.00\" fill=\"#000000\">sensor_6</text>\n</g>\n<!-- temp_6&#45;&gt;sensor_6 -->\n<g id=\"edge7\" class=\"edge\">\n<title>temp_6&#45;&gt;sensor_6</title>\n<path fill=\"none\" stroke=\"#000000\" d=\"M680.1961,-71.8314C680.1961,-64.131 680.1961,-54.9743 680.1961,-46.4166\"/>\n<polygon fill=\"#000000\" stroke=\"#000000\" points=\"683.6962,-46.4132 680.1961,-36.4133 676.6962,-46.4133 683.6962,-46.4132\"/>\n</g>\n<!-- temp_7 -->\n<g id=\"node15\" class=\"node\">\n<title>temp_7</title>\n<ellipse fill=\"#ffffff\" stroke=\"#000000\" cx=\"786.1961\" cy=\"-90\" rx=\"38.9931\" ry=\"18\"/>\n<text text-anchor=\"middle\" x=\"786.1961\" y=\"-86.3\" font-family=\"Times,serif\" font-size=\"14.00\" fill=\"#000000\">temp_7</text>\n</g>\n<!-- sensor_7 -->\n<g id=\"node16\" class=\"node\">\n<title>sensor_7</title>\n<ellipse fill=\"#c0c0c0\" stroke=\"#000000\" cx=\"786.1961\" cy=\"-18\" rx=\"44.393\" ry=\"18\"/>\n<text text-anchor=\"middle\" x=\"786.1961\" y=\"-14.3\" font-family=\"Times,serif\" font-size=\"14.00\" fill=\"#000000\">sensor_7</text>\n</g>\n<!-- temp_7&#45;&gt;sensor_7 -->\n<g id=\"edge8\" class=\"edge\">\n<title>temp_7&#45;&gt;sensor_7</title>\n<path fill=\"none\" stroke=\"#000000\" d=\"M786.1961,-71.8314C786.1961,-64.131 786.1961,-54.9743 786.1961,-46.4166\"/>\n<polygon fill=\"#000000\" stroke=\"#000000\" points=\"789.6962,-46.4132 786.1961,-36.4133 782.6962,-46.4133 789.6962,-46.4132\"/>\n</g>\n<!-- temp_8 -->\n<g id=\"node17\" class=\"node\">\n<title>temp_8</title>\n<ellipse fill=\"#ffffff\" stroke=\"#000000\" cx=\"892.1961\" cy=\"-90\" rx=\"38.9931\" ry=\"18\"/>\n<text text-anchor=\"middle\" x=\"892.1961\" y=\"-86.3\" font-family=\"Times,serif\" font-size=\"14.00\" fill=\"#000000\">temp_8</text>\n</g>\n<!-- sensor_8 -->\n<g id=\"node18\" class=\"node\">\n<title>sensor_8</title>\n<ellipse fill=\"#c0c0c0\" stroke=\"#000000\" cx=\"892.1961\" cy=\"-18\" rx=\"44.393\" ry=\"18\"/>\n<text text-anchor=\"middle\" x=\"892.1961\" y=\"-14.3\" font-family=\"Times,serif\" font-size=\"14.00\" fill=\"#000000\">sensor_8</text>\n</g>\n<!-- temp_8&#45;&gt;sensor_8 -->\n<g id=\"edge9\" class=\"edge\">\n<title>temp_8&#45;&gt;sensor_8</title>\n<path fill=\"none\" stroke=\"#000000\" d=\"M892.1961,-71.8314C892.1961,-64.131 892.1961,-54.9743 892.1961,-46.4166\"/>\n<polygon fill=\"#000000\" stroke=\"#000000\" points=\"895.6962,-46.4132 892.1961,-36.4133 888.6962,-46.4133 895.6962,-46.4132\"/>\n</g>\n<!-- temp_9 -->\n<g id=\"node19\" class=\"node\">\n<title>temp_9</title>\n<ellipse fill=\"#ffffff\" stroke=\"#000000\" cx=\"998.1961\" cy=\"-90\" rx=\"38.9931\" ry=\"18\"/>\n<text text-anchor=\"middle\" x=\"998.1961\" y=\"-86.3\" font-family=\"Times,serif\" font-size=\"14.00\" fill=\"#000000\">temp_9</text>\n</g>\n<!-- sensor_9 -->\n<g id=\"node20\" class=\"node\">\n<title>sensor_9</title>\n<ellipse fill=\"#c0c0c0\" stroke=\"#000000\" cx=\"998.1961\" cy=\"-18\" rx=\"44.393\" ry=\"18\"/>\n<text text-anchor=\"middle\" x=\"998.1961\" y=\"-14.3\" font-family=\"Times,serif\" font-size=\"14.00\" fill=\"#000000\">sensor_9</text>\n</g>\n<!-- temp_9&#45;&gt;sensor_9 -->\n<g id=\"edge10\" class=\"edge\">\n<title>temp_9&#45;&gt;sensor_9</title>\n<path fill=\"none\" stroke=\"#000000\" d=\"M998.1961,-71.8314C998.1961,-64.131 998.1961,-54.9743 998.1961,-46.4166\"/>\n<polygon fill=\"#000000\" stroke=\"#000000\" points=\"1001.6962,-46.4132 998.1961,-36.4133 994.6962,-46.4133 1001.6962,-46.4132\"/>\n</g>\n</g>\n</svg>\n"
          },
          "metadata": {},
          "execution_count": 17
        }
      ]
    },
    {
      "cell_type": "code",
      "source": [
        "#Run inference\n",
        "svi(model, obs, verbose=True)"
      ],
      "metadata": {
        "id": "pa9T-qOMkyGw",
        "outputId": "0ec03b59-4abd-46d4-89a7-de103ed4508f",
        "colab": {
          "base_uri": "https://localhost:8080/"
        }
      },
      "execution_count": 18,
      "outputs": [
        {
          "output_type": "stream",
          "name": "stdout",
          "text": [
            "Step: 0. Loss: 2270.0551319122314\n",
            "Step: 100. Loss: 191.25132358074188\n",
            "Step: 200. Loss: 55.761174857616425\n",
            "Step: 300. Loss: 42.96208891272545\n",
            "Step: 400. Loss: 40.83998817205429\n",
            "Inference results:\n",
            "AutoNormal.locs.temp_0 Parameter containing:\n",
            "tensor(17.4279, requires_grad=True)\n",
            "AutoNormal.scales.temp_0 tensor(0.8460, grad_fn=<SoftplusBackward0>)\n",
            "AutoNormal.locs.temp_1 Parameter containing:\n",
            "tensor(17.9418, requires_grad=True)\n",
            "AutoNormal.scales.temp_1 tensor(0.8459, grad_fn=<SoftplusBackward0>)\n",
            "AutoNormal.locs.temp_2 Parameter containing:\n",
            "tensor(18.2756, requires_grad=True)\n",
            "AutoNormal.scales.temp_2 tensor(0.8490, grad_fn=<SoftplusBackward0>)\n",
            "AutoNormal.locs.temp_3 Parameter containing:\n",
            "tensor(17.2302, requires_grad=True)\n",
            "AutoNormal.scales.temp_3 tensor(0.9022, grad_fn=<SoftplusBackward0>)\n",
            "AutoNormal.locs.temp_4 Parameter containing:\n",
            "tensor(19.3044, requires_grad=True)\n",
            "AutoNormal.scales.temp_4 tensor(0.7995, grad_fn=<SoftplusBackward0>)\n",
            "AutoNormal.locs.temp_5 Parameter containing:\n",
            "tensor(20.9456, requires_grad=True)\n",
            "AutoNormal.scales.temp_5 tensor(0.9167, grad_fn=<SoftplusBackward0>)\n",
            "AutoNormal.locs.temp_6 Parameter containing:\n",
            "tensor(19.3122, requires_grad=True)\n",
            "AutoNormal.scales.temp_6 tensor(0.8624, grad_fn=<SoftplusBackward0>)\n",
            "AutoNormal.locs.temp_7 Parameter containing:\n",
            "tensor(19.9350, requires_grad=True)\n",
            "AutoNormal.scales.temp_7 tensor(0.8151, grad_fn=<SoftplusBackward0>)\n",
            "AutoNormal.locs.temp_8 Parameter containing:\n",
            "tensor(18.5661, requires_grad=True)\n",
            "AutoNormal.scales.temp_8 tensor(0.8957, grad_fn=<SoftplusBackward0>)\n",
            "AutoNormal.locs.temp_9 Parameter containing:\n",
            "tensor(19.0391, requires_grad=True)\n",
            "AutoNormal.scales.temp_9 tensor(0.8311, grad_fn=<SoftplusBackward0>)\n"
          ]
        }
      ]
    },
    {
      "cell_type": "markdown",
      "metadata": {
        "id": "fjcPTM1PL-0x"
      },
      "source": [
        "\n",
        "<img src=\"https://github.com/PGM-Lab/probai-2021-pyro/blob/main/Day1/Figures/blue.png?raw=1\" alt=\"Drawing\" width=2000 height=20>\n",
        "\n",
        "---\n",
        "\n",
        "* What if we do **not know the mean temperature**. \n",
        "\n",
        "* We can **infer it from the data** by, e.g., using a **maximum likelihood** approach,\n",
        "\n",
        "$$ \\mu_{t} = \\arg\\max_\\mu \\ln p(s_1,\\ldots,s_n|\\mu) = \\arg\\max_\\mu \\prod_i \\int_{t_i} p(s_i|t_i)p(t_i|\\mu) dt_i $$\n",
        "where $s_i$ and $t_i$ denote the sensor reading and the real temperature at time $i$. \n",
        "\n",
        "* The graphical model:\n",
        "<center>\n",
        "<img src=\"https://github.com/PGM-Lab/probai-2021-pyro/blob/main/Day1/Figures/PGM-Tem_sensor4.png?raw=1\" alt=\"Drawing\" width=\"150\">\n",
        "</center>\n",
        "* For now we do not consider the **underlying inference problem** We just define the model and let the **PPL's engine** make the work for us. \n",
        "\n",
        "* We use Pyro's parameters (defined as ``pyro.param``), which are free variables we can optimize. \n",
        "\n",
        "\n",
        "\n",
        "---"
      ]
    },
    {
      "cell_type": "code",
      "metadata": {
        "id": "yXEFGMkzL-0x",
        "outputId": "764cc084-88ba-48b7-f0c4-528c27fc8068",
        "colab": {
          "base_uri": "https://localhost:8080/",
          "height": 196
        }
      },
      "source": [
        "#The observatons   \n",
        "obs = {'sensor': torch.tensor([18., 18.7, 19.2, 17.8, 20.3, 22.4, 20.3, 21.2, 19.5, 20.1])}\n",
        "\n",
        "def model(obs):\n",
        "    mean_temp = pyro.param('mean_temp', torch.tensor(15.0))\n",
        "    for i in range(obs['sensor'].shape[0]):\n",
        "        temp = pyro.sample(f'temp_{i}', dist.Normal(mean_temp, 2.0))\n",
        "        sensor = pyro.sample(f'sensor_{i}', dist.Normal(temp, 1.0), obs=obs['sensor'][i])\n",
        "\n",
        "#Visualize the model\n",
        "pyro.render_model(model, model_args=(obs, ))"
      ],
      "execution_count": 19,
      "outputs": [
        {
          "output_type": "execute_result",
          "data": {
            "text/plain": [
              "<graphviz.dot.Digraph at 0x7feacddf60d0>"
            ],
            "image/svg+xml": "<?xml version=\"1.0\" encoding=\"UTF-8\" standalone=\"no\"?>\n<!DOCTYPE svg PUBLIC \"-//W3C//DTD SVG 1.1//EN\"\n \"http://www.w3.org/Graphics/SVG/1.1/DTD/svg11.dtd\">\n<!-- Generated by graphviz version 2.40.1 (20161225.0304)\n -->\n<!-- Title: %3 Pages: 1 -->\n<svg width=\"1050pt\" height=\"116pt\"\n viewBox=\"0.00 0.00 1050.39 116.00\" xmlns=\"http://www.w3.org/2000/svg\" xmlns:xlink=\"http://www.w3.org/1999/xlink\">\n<g id=\"graph0\" class=\"graph\" transform=\"scale(1 1) rotate(0) translate(4 112)\">\n<title>%3</title>\n<polygon fill=\"#ffffff\" stroke=\"transparent\" points=\"-4,4 -4,-112 1046.3922,-112 1046.3922,4 -4,4\"/>\n<!-- temp_0 -->\n<g id=\"node1\" class=\"node\">\n<title>temp_0</title>\n<ellipse fill=\"#ffffff\" stroke=\"#000000\" cx=\"44.1961\" cy=\"-90\" rx=\"38.9931\" ry=\"18\"/>\n<text text-anchor=\"middle\" x=\"44.1961\" y=\"-86.3\" font-family=\"Times,serif\" font-size=\"14.00\" fill=\"#000000\">temp_0</text>\n</g>\n<!-- sensor_0 -->\n<g id=\"node2\" class=\"node\">\n<title>sensor_0</title>\n<ellipse fill=\"#c0c0c0\" stroke=\"#000000\" cx=\"44.1961\" cy=\"-18\" rx=\"44.393\" ry=\"18\"/>\n<text text-anchor=\"middle\" x=\"44.1961\" y=\"-14.3\" font-family=\"Times,serif\" font-size=\"14.00\" fill=\"#000000\">sensor_0</text>\n</g>\n<!-- temp_0&#45;&gt;sensor_0 -->\n<g id=\"edge1\" class=\"edge\">\n<title>temp_0&#45;&gt;sensor_0</title>\n<path fill=\"none\" stroke=\"#000000\" d=\"M44.1961,-71.8314C44.1961,-64.131 44.1961,-54.9743 44.1961,-46.4166\"/>\n<polygon fill=\"#000000\" stroke=\"#000000\" points=\"47.6962,-46.4132 44.1961,-36.4133 40.6962,-46.4133 47.6962,-46.4132\"/>\n</g>\n<!-- temp_1 -->\n<g id=\"node3\" class=\"node\">\n<title>temp_1</title>\n<ellipse fill=\"#ffffff\" stroke=\"#000000\" cx=\"150.1961\" cy=\"-90\" rx=\"38.9931\" ry=\"18\"/>\n<text text-anchor=\"middle\" x=\"150.1961\" y=\"-86.3\" font-family=\"Times,serif\" font-size=\"14.00\" fill=\"#000000\">temp_1</text>\n</g>\n<!-- sensor_1 -->\n<g id=\"node4\" class=\"node\">\n<title>sensor_1</title>\n<ellipse fill=\"#c0c0c0\" stroke=\"#000000\" cx=\"150.1961\" cy=\"-18\" rx=\"44.393\" ry=\"18\"/>\n<text text-anchor=\"middle\" x=\"150.1961\" y=\"-14.3\" font-family=\"Times,serif\" font-size=\"14.00\" fill=\"#000000\">sensor_1</text>\n</g>\n<!-- temp_1&#45;&gt;sensor_1 -->\n<g id=\"edge2\" class=\"edge\">\n<title>temp_1&#45;&gt;sensor_1</title>\n<path fill=\"none\" stroke=\"#000000\" d=\"M150.1961,-71.8314C150.1961,-64.131 150.1961,-54.9743 150.1961,-46.4166\"/>\n<polygon fill=\"#000000\" stroke=\"#000000\" points=\"153.6962,-46.4132 150.1961,-36.4133 146.6962,-46.4133 153.6962,-46.4132\"/>\n</g>\n<!-- temp_2 -->\n<g id=\"node5\" class=\"node\">\n<title>temp_2</title>\n<ellipse fill=\"#ffffff\" stroke=\"#000000\" cx=\"256.1961\" cy=\"-90\" rx=\"38.9931\" ry=\"18\"/>\n<text text-anchor=\"middle\" x=\"256.1961\" y=\"-86.3\" font-family=\"Times,serif\" font-size=\"14.00\" fill=\"#000000\">temp_2</text>\n</g>\n<!-- sensor_2 -->\n<g id=\"node6\" class=\"node\">\n<title>sensor_2</title>\n<ellipse fill=\"#c0c0c0\" stroke=\"#000000\" cx=\"256.1961\" cy=\"-18\" rx=\"44.393\" ry=\"18\"/>\n<text text-anchor=\"middle\" x=\"256.1961\" y=\"-14.3\" font-family=\"Times,serif\" font-size=\"14.00\" fill=\"#000000\">sensor_2</text>\n</g>\n<!-- temp_2&#45;&gt;sensor_2 -->\n<g id=\"edge3\" class=\"edge\">\n<title>temp_2&#45;&gt;sensor_2</title>\n<path fill=\"none\" stroke=\"#000000\" d=\"M256.1961,-71.8314C256.1961,-64.131 256.1961,-54.9743 256.1961,-46.4166\"/>\n<polygon fill=\"#000000\" stroke=\"#000000\" points=\"259.6962,-46.4132 256.1961,-36.4133 252.6962,-46.4133 259.6962,-46.4132\"/>\n</g>\n<!-- temp_3 -->\n<g id=\"node7\" class=\"node\">\n<title>temp_3</title>\n<ellipse fill=\"#ffffff\" stroke=\"#000000\" cx=\"362.1961\" cy=\"-90\" rx=\"38.9931\" ry=\"18\"/>\n<text text-anchor=\"middle\" x=\"362.1961\" y=\"-86.3\" font-family=\"Times,serif\" font-size=\"14.00\" fill=\"#000000\">temp_3</text>\n</g>\n<!-- sensor_3 -->\n<g id=\"node8\" class=\"node\">\n<title>sensor_3</title>\n<ellipse fill=\"#c0c0c0\" stroke=\"#000000\" cx=\"362.1961\" cy=\"-18\" rx=\"44.393\" ry=\"18\"/>\n<text text-anchor=\"middle\" x=\"362.1961\" y=\"-14.3\" font-family=\"Times,serif\" font-size=\"14.00\" fill=\"#000000\">sensor_3</text>\n</g>\n<!-- temp_3&#45;&gt;sensor_3 -->\n<g id=\"edge4\" class=\"edge\">\n<title>temp_3&#45;&gt;sensor_3</title>\n<path fill=\"none\" stroke=\"#000000\" d=\"M362.1961,-71.8314C362.1961,-64.131 362.1961,-54.9743 362.1961,-46.4166\"/>\n<polygon fill=\"#000000\" stroke=\"#000000\" points=\"365.6962,-46.4132 362.1961,-36.4133 358.6962,-46.4133 365.6962,-46.4132\"/>\n</g>\n<!-- temp_4 -->\n<g id=\"node9\" class=\"node\">\n<title>temp_4</title>\n<ellipse fill=\"#ffffff\" stroke=\"#000000\" cx=\"468.1961\" cy=\"-90\" rx=\"38.9931\" ry=\"18\"/>\n<text text-anchor=\"middle\" x=\"468.1961\" y=\"-86.3\" font-family=\"Times,serif\" font-size=\"14.00\" fill=\"#000000\">temp_4</text>\n</g>\n<!-- sensor_4 -->\n<g id=\"node10\" class=\"node\">\n<title>sensor_4</title>\n<ellipse fill=\"#c0c0c0\" stroke=\"#000000\" cx=\"468.1961\" cy=\"-18\" rx=\"44.393\" ry=\"18\"/>\n<text text-anchor=\"middle\" x=\"468.1961\" y=\"-14.3\" font-family=\"Times,serif\" font-size=\"14.00\" fill=\"#000000\">sensor_4</text>\n</g>\n<!-- temp_4&#45;&gt;sensor_4 -->\n<g id=\"edge5\" class=\"edge\">\n<title>temp_4&#45;&gt;sensor_4</title>\n<path fill=\"none\" stroke=\"#000000\" d=\"M468.1961,-71.8314C468.1961,-64.131 468.1961,-54.9743 468.1961,-46.4166\"/>\n<polygon fill=\"#000000\" stroke=\"#000000\" points=\"471.6962,-46.4132 468.1961,-36.4133 464.6962,-46.4133 471.6962,-46.4132\"/>\n</g>\n<!-- temp_5 -->\n<g id=\"node11\" class=\"node\">\n<title>temp_5</title>\n<ellipse fill=\"#ffffff\" stroke=\"#000000\" cx=\"574.1961\" cy=\"-90\" rx=\"38.9931\" ry=\"18\"/>\n<text text-anchor=\"middle\" x=\"574.1961\" y=\"-86.3\" font-family=\"Times,serif\" font-size=\"14.00\" fill=\"#000000\">temp_5</text>\n</g>\n<!-- sensor_5 -->\n<g id=\"node12\" class=\"node\">\n<title>sensor_5</title>\n<ellipse fill=\"#c0c0c0\" stroke=\"#000000\" cx=\"574.1961\" cy=\"-18\" rx=\"44.393\" ry=\"18\"/>\n<text text-anchor=\"middle\" x=\"574.1961\" y=\"-14.3\" font-family=\"Times,serif\" font-size=\"14.00\" fill=\"#000000\">sensor_5</text>\n</g>\n<!-- temp_5&#45;&gt;sensor_5 -->\n<g id=\"edge6\" class=\"edge\">\n<title>temp_5&#45;&gt;sensor_5</title>\n<path fill=\"none\" stroke=\"#000000\" d=\"M574.1961,-71.8314C574.1961,-64.131 574.1961,-54.9743 574.1961,-46.4166\"/>\n<polygon fill=\"#000000\" stroke=\"#000000\" points=\"577.6962,-46.4132 574.1961,-36.4133 570.6962,-46.4133 577.6962,-46.4132\"/>\n</g>\n<!-- temp_6 -->\n<g id=\"node13\" class=\"node\">\n<title>temp_6</title>\n<ellipse fill=\"#ffffff\" stroke=\"#000000\" cx=\"680.1961\" cy=\"-90\" rx=\"38.9931\" ry=\"18\"/>\n<text text-anchor=\"middle\" x=\"680.1961\" y=\"-86.3\" font-family=\"Times,serif\" font-size=\"14.00\" fill=\"#000000\">temp_6</text>\n</g>\n<!-- sensor_6 -->\n<g id=\"node14\" class=\"node\">\n<title>sensor_6</title>\n<ellipse fill=\"#c0c0c0\" stroke=\"#000000\" cx=\"680.1961\" cy=\"-18\" rx=\"44.393\" ry=\"18\"/>\n<text text-anchor=\"middle\" x=\"680.1961\" y=\"-14.3\" font-family=\"Times,serif\" font-size=\"14.00\" fill=\"#000000\">sensor_6</text>\n</g>\n<!-- temp_6&#45;&gt;sensor_6 -->\n<g id=\"edge7\" class=\"edge\">\n<title>temp_6&#45;&gt;sensor_6</title>\n<path fill=\"none\" stroke=\"#000000\" d=\"M680.1961,-71.8314C680.1961,-64.131 680.1961,-54.9743 680.1961,-46.4166\"/>\n<polygon fill=\"#000000\" stroke=\"#000000\" points=\"683.6962,-46.4132 680.1961,-36.4133 676.6962,-46.4133 683.6962,-46.4132\"/>\n</g>\n<!-- temp_7 -->\n<g id=\"node15\" class=\"node\">\n<title>temp_7</title>\n<ellipse fill=\"#ffffff\" stroke=\"#000000\" cx=\"786.1961\" cy=\"-90\" rx=\"38.9931\" ry=\"18\"/>\n<text text-anchor=\"middle\" x=\"786.1961\" y=\"-86.3\" font-family=\"Times,serif\" font-size=\"14.00\" fill=\"#000000\">temp_7</text>\n</g>\n<!-- sensor_7 -->\n<g id=\"node16\" class=\"node\">\n<title>sensor_7</title>\n<ellipse fill=\"#c0c0c0\" stroke=\"#000000\" cx=\"786.1961\" cy=\"-18\" rx=\"44.393\" ry=\"18\"/>\n<text text-anchor=\"middle\" x=\"786.1961\" y=\"-14.3\" font-family=\"Times,serif\" font-size=\"14.00\" fill=\"#000000\">sensor_7</text>\n</g>\n<!-- temp_7&#45;&gt;sensor_7 -->\n<g id=\"edge8\" class=\"edge\">\n<title>temp_7&#45;&gt;sensor_7</title>\n<path fill=\"none\" stroke=\"#000000\" d=\"M786.1961,-71.8314C786.1961,-64.131 786.1961,-54.9743 786.1961,-46.4166\"/>\n<polygon fill=\"#000000\" stroke=\"#000000\" points=\"789.6962,-46.4132 786.1961,-36.4133 782.6962,-46.4133 789.6962,-46.4132\"/>\n</g>\n<!-- temp_8 -->\n<g id=\"node17\" class=\"node\">\n<title>temp_8</title>\n<ellipse fill=\"#ffffff\" stroke=\"#000000\" cx=\"892.1961\" cy=\"-90\" rx=\"38.9931\" ry=\"18\"/>\n<text text-anchor=\"middle\" x=\"892.1961\" y=\"-86.3\" font-family=\"Times,serif\" font-size=\"14.00\" fill=\"#000000\">temp_8</text>\n</g>\n<!-- sensor_8 -->\n<g id=\"node18\" class=\"node\">\n<title>sensor_8</title>\n<ellipse fill=\"#c0c0c0\" stroke=\"#000000\" cx=\"892.1961\" cy=\"-18\" rx=\"44.393\" ry=\"18\"/>\n<text text-anchor=\"middle\" x=\"892.1961\" y=\"-14.3\" font-family=\"Times,serif\" font-size=\"14.00\" fill=\"#000000\">sensor_8</text>\n</g>\n<!-- temp_8&#45;&gt;sensor_8 -->\n<g id=\"edge9\" class=\"edge\">\n<title>temp_8&#45;&gt;sensor_8</title>\n<path fill=\"none\" stroke=\"#000000\" d=\"M892.1961,-71.8314C892.1961,-64.131 892.1961,-54.9743 892.1961,-46.4166\"/>\n<polygon fill=\"#000000\" stroke=\"#000000\" points=\"895.6962,-46.4132 892.1961,-36.4133 888.6962,-46.4133 895.6962,-46.4132\"/>\n</g>\n<!-- temp_9 -->\n<g id=\"node19\" class=\"node\">\n<title>temp_9</title>\n<ellipse fill=\"#ffffff\" stroke=\"#000000\" cx=\"998.1961\" cy=\"-90\" rx=\"38.9931\" ry=\"18\"/>\n<text text-anchor=\"middle\" x=\"998.1961\" y=\"-86.3\" font-family=\"Times,serif\" font-size=\"14.00\" fill=\"#000000\">temp_9</text>\n</g>\n<!-- sensor_9 -->\n<g id=\"node20\" class=\"node\">\n<title>sensor_9</title>\n<ellipse fill=\"#c0c0c0\" stroke=\"#000000\" cx=\"998.1961\" cy=\"-18\" rx=\"44.393\" ry=\"18\"/>\n<text text-anchor=\"middle\" x=\"998.1961\" y=\"-14.3\" font-family=\"Times,serif\" font-size=\"14.00\" fill=\"#000000\">sensor_9</text>\n</g>\n<!-- temp_9&#45;&gt;sensor_9 -->\n<g id=\"edge10\" class=\"edge\">\n<title>temp_9&#45;&gt;sensor_9</title>\n<path fill=\"none\" stroke=\"#000000\" d=\"M998.1961,-71.8314C998.1961,-64.131 998.1961,-54.9743 998.1961,-46.4166\"/>\n<polygon fill=\"#000000\" stroke=\"#000000\" points=\"1001.6962,-46.4132 998.1961,-36.4133 994.6962,-46.4133 1001.6962,-46.4132\"/>\n</g>\n</g>\n</svg>\n"
          },
          "metadata": {},
          "execution_count": 19
        }
      ]
    },
    {
      "cell_type": "code",
      "metadata": {
        "colab": {
          "base_uri": "https://localhost:8080/"
        },
        "id": "GEfOM8zWL-0y",
        "outputId": "440f279b-ab23-415a-fd0b-261f7bfc67ba"
      },
      "source": [
        "#Run inference\n",
        "svi(model, obs)\n",
        "\n",
        "#Print results\n",
        "print(\"Estimated Mean Temperature (MLE):\")\n",
        "mle_mean_temp = pyro.param(\"mean_temp\").item() \n",
        "print(mle_mean_temp)"
      ],
      "execution_count": 20,
      "outputs": [
        {
          "output_type": "stream",
          "name": "stdout",
          "text": [
            "Step: 0. Loss: 2270.0551319122314\n",
            "Step: 100. Loss: 247.7783883213997\n",
            "Step: 200. Loss: 56.34299427270889\n",
            "Step: 300. Loss: 23.71842250227928\n",
            "Step: 400. Loss: 18.077348172664642\n",
            "Estimated Mean Temperature (MLE):\n",
            "19.568622589111328\n"
          ]
        }
      ]
    },
    {
      "cell_type": "markdown",
      "metadata": {
        "id": "tiCwbfJwL-0y"
      },
      "source": [
        "<img src=\"https://github.com/PGM-Lab/probai-2021-pyro/blob/main/Day1/Figures/blue.png?raw=1\" alt=\"Drawing\" width=2000 height=20>\n",
        "\n",
        "---\n",
        "* Instead of performing *maximum likelihood* learning, we can perform **Bayesian learning**.\n",
        "\n",
        "* We treat the unknown quantity as a **random variable**.\n",
        "\n",
        "* This model can be graphically represented as follows:\n",
        "\n",
        "<center>\n",
        "<img src=\"https://github.com/PGM-Lab/probai-2021-pyro/blob/main/Day1/Figures/PGM-Tem-Sensor2.png?raw=1\" alt=\"Drawing\" width=\"150\">\n",
        "</center>\n",
        "---\n",
        "<img src=\"https://github.com/PGM-Lab/probai-2021-pyro/blob/main/Day1/Figures/blue.png?raw=1\" alt=\"Drawing\" width=2000 height=20>\n",
        "\n",
        "---"
      ]
    },
    {
      "cell_type": "code",
      "metadata": {
        "id": "CaTdLm6ML-0y",
        "outputId": "0c210589-1413-4c12-eb17-625d14d6b37d",
        "colab": {
          "base_uri": "https://localhost:8080/",
          "height": 292
        }
      },
      "source": [
        "#The observatons   \n",
        "obs = {'sensor': torch.tensor([18., 18.7, 19.2, 17.8, 20.3, 22.4, 20.3, 21.2, 19.5, 20.1])}\n",
        "\n",
        "def model(obs):\n",
        "    mean_temp = pyro.sample('mean_temp', dist.Normal(15.0, 2.0))\n",
        "    for i in range(obs['sensor'].shape[0]):\n",
        "        temp = pyro.sample(f'temp_{i}', dist.Normal(mean_temp, 2.0))\n",
        "        sensor = pyro.sample(f'sensor_{i}', dist.Normal(temp, 1.0), obs=obs['sensor'][i])\n",
        "\n",
        "#Visualize the model\n",
        "pyro.render_model(model, model_args=(obs, ))"
      ],
      "execution_count": 21,
      "outputs": [
        {
          "output_type": "execute_result",
          "data": {
            "text/plain": [
              "<graphviz.dot.Digraph at 0x7feacde35090>"
            ],
            "image/svg+xml": "<?xml version=\"1.0\" encoding=\"UTF-8\" standalone=\"no\"?>\n<!DOCTYPE svg PUBLIC \"-//W3C//DTD SVG 1.1//EN\"\n \"http://www.w3.org/Graphics/SVG/1.1/DTD/svg11.dtd\">\n<!-- Generated by graphviz version 2.40.1 (20161225.0304)\n -->\n<!-- Title: %3 Pages: 1 -->\n<svg width=\"1050pt\" height=\"188pt\"\n viewBox=\"0.00 0.00 1050.39 188.00\" xmlns=\"http://www.w3.org/2000/svg\" xmlns:xlink=\"http://www.w3.org/1999/xlink\">\n<g id=\"graph0\" class=\"graph\" transform=\"scale(1 1) rotate(0) translate(4 184)\">\n<title>%3</title>\n<polygon fill=\"#ffffff\" stroke=\"transparent\" points=\"-4,4 -4,-184 1046.3922,-184 1046.3922,4 -4,4\"/>\n<!-- mean_temp -->\n<g id=\"node1\" class=\"node\">\n<title>mean_temp</title>\n<ellipse fill=\"#ffffff\" stroke=\"#000000\" cx=\"518.1961\" cy=\"-162\" rx=\"53.8905\" ry=\"18\"/>\n<text text-anchor=\"middle\" x=\"518.1961\" y=\"-158.3\" font-family=\"Times,serif\" font-size=\"14.00\" fill=\"#000000\">mean_temp</text>\n</g>\n<!-- temp_0 -->\n<g id=\"node2\" class=\"node\">\n<title>temp_0</title>\n<ellipse fill=\"#ffffff\" stroke=\"#000000\" cx=\"54.1961\" cy=\"-90\" rx=\"38.9931\" ry=\"18\"/>\n<text text-anchor=\"middle\" x=\"54.1961\" y=\"-86.3\" font-family=\"Times,serif\" font-size=\"14.00\" fill=\"#000000\">temp_0</text>\n</g>\n<!-- mean_temp&#45;&gt;temp_0 -->\n<g id=\"edge1\" class=\"edge\">\n<title>mean_temp&#45;&gt;temp_0</title>\n<path fill=\"none\" stroke=\"#000000\" d=\"M465.048,-158.375C386.1394,-152.2401 233.7055,-137.4905 107.1961,-108 102.8738,-106.9924 98.4068,-105.7715 93.9843,-104.4453\"/>\n<polygon fill=\"#000000\" stroke=\"#000000\" points=\"95.0377,-101.1076 84.4474,-101.4161 92.9186,-107.7792 95.0377,-101.1076\"/>\n</g>\n<!-- temp_1 -->\n<g id=\"node4\" class=\"node\">\n<title>temp_1</title>\n<ellipse fill=\"#ffffff\" stroke=\"#000000\" cx=\"155.1961\" cy=\"-90\" rx=\"38.9931\" ry=\"18\"/>\n<text text-anchor=\"middle\" x=\"155.1961\" y=\"-86.3\" font-family=\"Times,serif\" font-size=\"14.00\" fill=\"#000000\">temp_1</text>\n</g>\n<!-- mean_temp&#45;&gt;temp_1 -->\n<g id=\"edge3\" class=\"edge\">\n<title>mean_temp&#45;&gt;temp_1</title>\n<path fill=\"none\" stroke=\"#000000\" d=\"M468.1383,-155.1113C407.3832,-146.298 302.0348,-129.5593 213.1961,-108 207.817,-106.6946 202.2049,-105.1676 196.6816,-103.5648\"/>\n<polygon fill=\"#000000\" stroke=\"#000000\" points=\"197.489,-100.1529 186.9049,-100.6293 195.476,-106.8573 197.489,-100.1529\"/>\n</g>\n<!-- temp_2 -->\n<g id=\"node6\" class=\"node\">\n<title>temp_2</title>\n<ellipse fill=\"#ffffff\" stroke=\"#000000\" cx=\"261.1961\" cy=\"-90\" rx=\"38.9931\" ry=\"18\"/>\n<text text-anchor=\"middle\" x=\"261.1961\" y=\"-86.3\" font-family=\"Times,serif\" font-size=\"14.00\" fill=\"#000000\">temp_2</text>\n</g>\n<!-- mean_temp&#45;&gt;temp_2 -->\n<g id=\"edge5\" class=\"edge\">\n<title>mean_temp&#45;&gt;temp_2</title>\n<path fill=\"none\" stroke=\"#000000\" d=\"M475.371,-150.8552C434.9863,-140.2329 372.8204,-123.5912 319.1961,-108 313.9443,-106.473 308.4393,-104.8258 302.9994,-103.1697\"/>\n<polygon fill=\"#000000\" stroke=\"#000000\" points=\"303.9337,-99.7954 293.3467,-100.2034 301.8773,-106.4865 303.9337,-99.7954\"/>\n</g>\n<!-- temp_3 -->\n<g id=\"node8\" class=\"node\">\n<title>temp_3</title>\n<ellipse fill=\"#ffffff\" stroke=\"#000000\" cx=\"367.1961\" cy=\"-90\" rx=\"38.9931\" ry=\"18\"/>\n<text text-anchor=\"middle\" x=\"367.1961\" y=\"-86.3\" font-family=\"Times,serif\" font-size=\"14.00\" fill=\"#000000\">temp_3</text>\n</g>\n<!-- mean_temp&#45;&gt;temp_3 -->\n<g id=\"edge7\" class=\"edge\">\n<title>mean_temp&#45;&gt;temp_3</title>\n<path fill=\"none\" stroke=\"#000000\" d=\"M486.9088,-147.0816C462.7036,-135.54 429.1373,-119.5349 403.7057,-107.4086\"/>\n<polygon fill=\"#000000\" stroke=\"#000000\" points=\"404.9263,-104.1131 394.3935,-102.9683 401.9135,-110.4316 404.9263,-104.1131\"/>\n</g>\n<!-- temp_4 -->\n<g id=\"node10\" class=\"node\">\n<title>temp_4</title>\n<ellipse fill=\"#ffffff\" stroke=\"#000000\" cx=\"470.1961\" cy=\"-90\" rx=\"38.9931\" ry=\"18\"/>\n<text text-anchor=\"middle\" x=\"470.1961\" y=\"-86.3\" font-family=\"Times,serif\" font-size=\"14.00\" fill=\"#000000\">temp_4</text>\n</g>\n<!-- mean_temp&#45;&gt;temp_4 -->\n<g id=\"edge9\" class=\"edge\">\n<title>mean_temp&#45;&gt;temp_4</title>\n<path fill=\"none\" stroke=\"#000000\" d=\"M506.3309,-144.2022C500.6505,-135.6817 493.7394,-125.315 487.4884,-115.9385\"/>\n<polygon fill=\"#000000\" stroke=\"#000000\" points=\"490.2184,-113.7236 481.7591,-107.3446 484.394,-117.6066 490.2184,-113.7236\"/>\n</g>\n<!-- temp_5 -->\n<g id=\"node12\" class=\"node\">\n<title>temp_5</title>\n<ellipse fill=\"#ffffff\" stroke=\"#000000\" cx=\"571.1961\" cy=\"-90\" rx=\"38.9931\" ry=\"18\"/>\n<text text-anchor=\"middle\" x=\"571.1961\" y=\"-86.3\" font-family=\"Times,serif\" font-size=\"14.00\" fill=\"#000000\">temp_5</text>\n</g>\n<!-- mean_temp&#45;&gt;temp_5 -->\n<g id=\"edge11\" class=\"edge\">\n<title>mean_temp&#45;&gt;temp_5</title>\n<path fill=\"none\" stroke=\"#000000\" d=\"M531.2972,-144.2022C537.6809,-135.5301 545.4723,-124.9455 552.4702,-115.4389\"/>\n<polygon fill=\"#000000\" stroke=\"#000000\" points=\"555.5011,-117.2255 558.6106,-107.0972 549.8637,-113.0757 555.5011,-117.2255\"/>\n</g>\n<!-- temp_6 -->\n<g id=\"node14\" class=\"node\">\n<title>temp_6</title>\n<ellipse fill=\"#ffffff\" stroke=\"#000000\" cx=\"674.1961\" cy=\"-90\" rx=\"38.9931\" ry=\"18\"/>\n<text text-anchor=\"middle\" x=\"674.1961\" y=\"-86.3\" font-family=\"Times,serif\" font-size=\"14.00\" fill=\"#000000\">temp_6</text>\n</g>\n<!-- mean_temp&#45;&gt;temp_6 -->\n<g id=\"edge13\" class=\"edge\">\n<title>mean_temp&#45;&gt;temp_6</title>\n<path fill=\"none\" stroke=\"#000000\" d=\"M550.1414,-147.256C575.3877,-135.6039 610.6626,-119.3231 637.1462,-107.0999\"/>\n<polygon fill=\"#000000\" stroke=\"#000000\" points=\"638.8579,-110.1648 646.4707,-102.7963 635.9244,-103.8091 638.8579,-110.1648\"/>\n</g>\n<!-- temp_7 -->\n<g id=\"node16\" class=\"node\">\n<title>temp_7</title>\n<ellipse fill=\"#ffffff\" stroke=\"#000000\" cx=\"779.1961\" cy=\"-90\" rx=\"38.9931\" ry=\"18\"/>\n<text text-anchor=\"middle\" x=\"779.1961\" y=\"-86.3\" font-family=\"Times,serif\" font-size=\"14.00\" fill=\"#000000\">temp_7</text>\n</g>\n<!-- mean_temp&#45;&gt;temp_7 -->\n<g id=\"edge15\" class=\"edge\">\n<title>mean_temp&#45;&gt;temp_7</title>\n<path fill=\"none\" stroke=\"#000000\" d=\"M561.7368,-151.1076C603.1514,-140.5977 667.1299,-123.9732 722.1961,-108 727.1156,-106.573 732.257,-105.0271 737.352,-103.4612\"/>\n<polygon fill=\"#000000\" stroke=\"#000000\" points=\"738.5139,-106.7653 747.0219,-100.4513 736.4335,-100.0815 738.5139,-106.7653\"/>\n</g>\n<!-- temp_8 -->\n<g id=\"node18\" class=\"node\">\n<title>temp_8</title>\n<ellipse fill=\"#ffffff\" stroke=\"#000000\" cx=\"884.1961\" cy=\"-90\" rx=\"38.9931\" ry=\"18\"/>\n<text text-anchor=\"middle\" x=\"884.1961\" y=\"-86.3\" font-family=\"Times,serif\" font-size=\"14.00\" fill=\"#000000\">temp_8</text>\n</g>\n<!-- mean_temp&#45;&gt;temp_8 -->\n<g id=\"edge17\" class=\"edge\">\n<title>mean_temp&#45;&gt;temp_8</title>\n<path fill=\"none\" stroke=\"#000000\" d=\"M568.3902,-155.3222C629.8779,-146.6626 736.9928,-130.0211 827.1961,-108 832.2951,-106.7552 837.6042,-105.2996 842.8414,-103.7652\"/>\n<polygon fill=\"#000000\" stroke=\"#000000\" points=\"844.2009,-107.0101 852.7499,-100.7519 842.1642,-100.3129 844.2009,-107.0101\"/>\n</g>\n<!-- temp_9 -->\n<g id=\"node20\" class=\"node\">\n<title>temp_9</title>\n<ellipse fill=\"#ffffff\" stroke=\"#000000\" cx=\"990.1961\" cy=\"-90\" rx=\"38.9931\" ry=\"18\"/>\n<text text-anchor=\"middle\" x=\"990.1961\" y=\"-86.3\" font-family=\"Times,serif\" font-size=\"14.00\" fill=\"#000000\">temp_9</text>\n</g>\n<!-- mean_temp&#45;&gt;temp_9 -->\n<g id=\"edge19\" class=\"edge\">\n<title>mean_temp&#45;&gt;temp_9</title>\n<path fill=\"none\" stroke=\"#000000\" d=\"M570.9753,-158.0287C650.1428,-151.4182 804.0297,-136.0302 932.1961,-108 937.6678,-106.8033 943.3663,-105.3282 948.9618,-103.7416\"/>\n<polygon fill=\"#000000\" stroke=\"#000000\" points=\"950.2632,-107.0062 958.8512,-100.8017 948.2685,-100.2964 950.2632,-107.0062\"/>\n</g>\n<!-- sensor_0 -->\n<g id=\"node3\" class=\"node\">\n<title>sensor_0</title>\n<ellipse fill=\"#c0c0c0\" stroke=\"#000000\" cx=\"44.1961\" cy=\"-18\" rx=\"44.393\" ry=\"18\"/>\n<text text-anchor=\"middle\" x=\"44.1961\" y=\"-14.3\" font-family=\"Times,serif\" font-size=\"14.00\" fill=\"#000000\">sensor_0</text>\n</g>\n<!-- temp_0&#45;&gt;sensor_0 -->\n<g id=\"edge2\" class=\"edge\">\n<title>temp_0&#45;&gt;sensor_0</title>\n<path fill=\"none\" stroke=\"#000000\" d=\"M51.6727,-71.8314C50.6032,-64.131 49.3314,-54.9743 48.1428,-46.4166\"/>\n<polygon fill=\"#000000\" stroke=\"#000000\" points=\"51.596,-45.8367 46.7535,-36.4133 44.6625,-46.7997 51.596,-45.8367\"/>\n</g>\n<!-- sensor_1 -->\n<g id=\"node5\" class=\"node\">\n<title>sensor_1</title>\n<ellipse fill=\"#c0c0c0\" stroke=\"#000000\" cx=\"150.1961\" cy=\"-18\" rx=\"44.393\" ry=\"18\"/>\n<text text-anchor=\"middle\" x=\"150.1961\" y=\"-14.3\" font-family=\"Times,serif\" font-size=\"14.00\" fill=\"#000000\">sensor_1</text>\n</g>\n<!-- temp_1&#45;&gt;sensor_1 -->\n<g id=\"edge4\" class=\"edge\">\n<title>temp_1&#45;&gt;sensor_1</title>\n<path fill=\"none\" stroke=\"#000000\" d=\"M153.9344,-71.8314C153.3996,-64.131 152.7637,-54.9743 152.1695,-46.4166\"/>\n<polygon fill=\"#000000\" stroke=\"#000000\" points=\"155.6592,-46.1467 151.4748,-36.4133 148.6761,-46.6317 155.6592,-46.1467\"/>\n</g>\n<!-- sensor_2 -->\n<g id=\"node7\" class=\"node\">\n<title>sensor_2</title>\n<ellipse fill=\"#c0c0c0\" stroke=\"#000000\" cx=\"256.1961\" cy=\"-18\" rx=\"44.393\" ry=\"18\"/>\n<text text-anchor=\"middle\" x=\"256.1961\" y=\"-14.3\" font-family=\"Times,serif\" font-size=\"14.00\" fill=\"#000000\">sensor_2</text>\n</g>\n<!-- temp_2&#45;&gt;sensor_2 -->\n<g id=\"edge6\" class=\"edge\">\n<title>temp_2&#45;&gt;sensor_2</title>\n<path fill=\"none\" stroke=\"#000000\" d=\"M259.9344,-71.8314C259.3996,-64.131 258.7637,-54.9743 258.1695,-46.4166\"/>\n<polygon fill=\"#000000\" stroke=\"#000000\" points=\"261.6592,-46.1467 257.4748,-36.4133 254.6761,-46.6317 261.6592,-46.1467\"/>\n</g>\n<!-- sensor_3 -->\n<g id=\"node9\" class=\"node\">\n<title>sensor_3</title>\n<ellipse fill=\"#c0c0c0\" stroke=\"#000000\" cx=\"362.1961\" cy=\"-18\" rx=\"44.393\" ry=\"18\"/>\n<text text-anchor=\"middle\" x=\"362.1961\" y=\"-14.3\" font-family=\"Times,serif\" font-size=\"14.00\" fill=\"#000000\">sensor_3</text>\n</g>\n<!-- temp_3&#45;&gt;sensor_3 -->\n<g id=\"edge8\" class=\"edge\">\n<title>temp_3&#45;&gt;sensor_3</title>\n<path fill=\"none\" stroke=\"#000000\" d=\"M365.9344,-71.8314C365.3996,-64.131 364.7637,-54.9743 364.1695,-46.4166\"/>\n<polygon fill=\"#000000\" stroke=\"#000000\" points=\"367.6592,-46.1467 363.4748,-36.4133 360.6761,-46.6317 367.6592,-46.1467\"/>\n</g>\n<!-- sensor_4 -->\n<g id=\"node11\" class=\"node\">\n<title>sensor_4</title>\n<ellipse fill=\"#c0c0c0\" stroke=\"#000000\" cx=\"468.1961\" cy=\"-18\" rx=\"44.393\" ry=\"18\"/>\n<text text-anchor=\"middle\" x=\"468.1961\" y=\"-14.3\" font-family=\"Times,serif\" font-size=\"14.00\" fill=\"#000000\">sensor_4</text>\n</g>\n<!-- temp_4&#45;&gt;sensor_4 -->\n<g id=\"edge10\" class=\"edge\">\n<title>temp_4&#45;&gt;sensor_4</title>\n<path fill=\"none\" stroke=\"#000000\" d=\"M469.6914,-71.8314C469.4775,-64.131 469.2231,-54.9743 468.9854,-46.4166\"/>\n<polygon fill=\"#000000\" stroke=\"#000000\" points=\"472.484,-46.3122 468.7076,-36.4133 465.4867,-46.5066 472.484,-46.3122\"/>\n</g>\n<!-- sensor_5 -->\n<g id=\"node13\" class=\"node\">\n<title>sensor_5</title>\n<ellipse fill=\"#c0c0c0\" stroke=\"#000000\" cx=\"574.1961\" cy=\"-18\" rx=\"44.393\" ry=\"18\"/>\n<text text-anchor=\"middle\" x=\"574.1961\" y=\"-14.3\" font-family=\"Times,serif\" font-size=\"14.00\" fill=\"#000000\">sensor_5</text>\n</g>\n<!-- temp_5&#45;&gt;sensor_5 -->\n<g id=\"edge12\" class=\"edge\">\n<title>temp_5&#45;&gt;sensor_5</title>\n<path fill=\"none\" stroke=\"#000000\" d=\"M571.9531,-71.8314C572.274,-64.131 572.6555,-54.9743 573.0121,-46.4166\"/>\n<polygon fill=\"#000000\" stroke=\"#000000\" points=\"576.5094,-46.5503 573.4289,-36.4133 569.5155,-46.2589 576.5094,-46.5503\"/>\n</g>\n<!-- sensor_6 -->\n<g id=\"node15\" class=\"node\">\n<title>sensor_6</title>\n<ellipse fill=\"#c0c0c0\" stroke=\"#000000\" cx=\"680.1961\" cy=\"-18\" rx=\"44.393\" ry=\"18\"/>\n<text text-anchor=\"middle\" x=\"680.1961\" y=\"-14.3\" font-family=\"Times,serif\" font-size=\"14.00\" fill=\"#000000\">sensor_6</text>\n</g>\n<!-- temp_6&#45;&gt;sensor_6 -->\n<g id=\"edge14\" class=\"edge\">\n<title>temp_6&#45;&gt;sensor_6</title>\n<path fill=\"none\" stroke=\"#000000\" d=\"M675.7101,-71.8314C676.3518,-64.131 677.1149,-54.9743 677.828,-46.4166\"/>\n<polygon fill=\"#000000\" stroke=\"#000000\" points=\"681.319,-46.6694 678.6616,-36.4133 674.3432,-46.088 681.319,-46.6694\"/>\n</g>\n<!-- sensor_7 -->\n<g id=\"node17\" class=\"node\">\n<title>sensor_7</title>\n<ellipse fill=\"#c0c0c0\" stroke=\"#000000\" cx=\"786.1961\" cy=\"-18\" rx=\"44.393\" ry=\"18\"/>\n<text text-anchor=\"middle\" x=\"786.1961\" y=\"-14.3\" font-family=\"Times,serif\" font-size=\"14.00\" fill=\"#000000\">sensor_7</text>\n</g>\n<!-- temp_7&#45;&gt;sensor_7 -->\n<g id=\"edge16\" class=\"edge\">\n<title>temp_7&#45;&gt;sensor_7</title>\n<path fill=\"none\" stroke=\"#000000\" d=\"M780.9625,-71.8314C781.7111,-64.131 782.6014,-54.9743 783.4334,-46.4166\"/>\n<polygon fill=\"#000000\" stroke=\"#000000\" points=\"786.9217,-46.7051 784.4059,-36.4133 779.9546,-46.0276 786.9217,-46.7051\"/>\n</g>\n<!-- sensor_8 -->\n<g id=\"node19\" class=\"node\">\n<title>sensor_8</title>\n<ellipse fill=\"#c0c0c0\" stroke=\"#000000\" cx=\"892.1961\" cy=\"-18\" rx=\"44.393\" ry=\"18\"/>\n<text text-anchor=\"middle\" x=\"892.1961\" y=\"-14.3\" font-family=\"Times,serif\" font-size=\"14.00\" fill=\"#000000\">sensor_8</text>\n</g>\n<!-- temp_8&#45;&gt;sensor_8 -->\n<g id=\"edge18\" class=\"edge\">\n<title>temp_8&#45;&gt;sensor_8</title>\n<path fill=\"none\" stroke=\"#000000\" d=\"M886.2148,-71.8314C887.0704,-64.131 888.0878,-54.9743 889.0387,-46.4166\"/>\n<polygon fill=\"#000000\" stroke=\"#000000\" points=\"892.5243,-46.7386 890.1502,-36.4133 885.5672,-45.9656 892.5243,-46.7386\"/>\n</g>\n<!-- sensor_9 -->\n<g id=\"node21\" class=\"node\">\n<title>sensor_9</title>\n<ellipse fill=\"#c0c0c0\" stroke=\"#000000\" cx=\"998.1961\" cy=\"-18\" rx=\"44.393\" ry=\"18\"/>\n<text text-anchor=\"middle\" x=\"998.1961\" y=\"-14.3\" font-family=\"Times,serif\" font-size=\"14.00\" fill=\"#000000\">sensor_9</text>\n</g>\n<!-- temp_9&#45;&gt;sensor_9 -->\n<g id=\"edge20\" class=\"edge\">\n<title>temp_9&#45;&gt;sensor_9</title>\n<path fill=\"none\" stroke=\"#000000\" d=\"M992.2148,-71.8314C993.0704,-64.131 994.0878,-54.9743 995.0387,-46.4166\"/>\n<polygon fill=\"#000000\" stroke=\"#000000\" points=\"998.5243,-46.7386 996.1502,-36.4133 991.5672,-45.9656 998.5243,-46.7386\"/>\n</g>\n</g>\n</svg>\n"
          },
          "metadata": {},
          "execution_count": 21
        }
      ]
    },
    {
      "cell_type": "markdown",
      "metadata": {
        "id": "jJfVNZFBL-0y"
      },
      "source": [
        "---\n",
        "<img src=\"https://github.com/PGM-Lab/probai-2021-pyro/blob/main/Day1/Figures/blue.png?raw=1\" alt=\"Drawing\" width=2000 height=20>\n",
        "\n",
        "---\n",
        "* We perform inference over this model:\n",
        "\n",
        " $$ p(\\mu_t | s_1,\\ldots, s_n)=\\frac{p(\\mu_t)\\prod_{i=1}^n \\int p(s_i|t_i)p(t_i|\\mu_t)dt_i }{\\int \\prod_{i=1}^n p(s_i|\\mu_t)p(\\mu_t) d\\mu} $$\n",
        "---\n"
      ]
    },
    {
      "cell_type": "code",
      "metadata": {
        "colab": {
          "base_uri": "https://localhost:8080/"
        },
        "id": "W0YiqM36L-0z",
        "outputId": "143e2eff-1c16-49a8-fb02-a1aa21b4331b"
      },
      "source": [
        "import time\n",
        "        \n",
        "#Run inference\n",
        "start = time.time()\n",
        "svi(model, obs)\n",
        "\n",
        "#Print results\n",
        "print(\"P(mean_temp|Sensor=[18., 18.7, 19.2, 17.8, 20.3, 22.4, 20.3, 21.2, 19.5, 20.1]) =\")\n",
        "print(dist.Normal(pyro.param(\"AutoNormal.locs.mean_temp\").item(), pyro.param(\"AutoNormal.scales.mean_temp\").item()))\n",
        "print(\"\")\n",
        "end = time.time()\n",
        "print(f\"{(end - start)} seconds\")"
      ],
      "execution_count": 22,
      "outputs": [
        {
          "output_type": "stream",
          "name": "stdout",
          "text": [
            "Step: 0. Loss: 2015.5953212976456\n",
            "Step: 100. Loss: 286.3637079000473\n",
            "Step: 200. Loss: 57.629184663295746\n",
            "Step: 300. Loss: 25.598895251750946\n",
            "Step: 400. Loss: 23.29996982216835\n",
            "P(mean_temp|Sensor=[18., 18.7, 19.2, 17.8, 20.3, 22.4, 20.3, 21.2, 19.5, 20.1]) =\n",
            "Normal(loc: 19.180583953857422, scale: 0.6147986650466919)\n",
            "\n",
            "6.243284225463867 seconds\n"
          ]
        }
      ]
    },
    {
      "cell_type": "markdown",
      "metadata": {
        "id": "YFKoGLcnL-0z"
      },
      "source": [
        "---\n",
        "* The result of the learning is **not a point estimate**.\n",
        "\n",
        "* We have a **posterior distribution** which captures **uncertainty** about the estimation.\n",
        "\n",
        "---"
      ]
    },
    {
      "cell_type": "code",
      "metadata": {
        "colab": {
          "base_uri": "https://localhost:8080/",
          "height": 265
        },
        "id": "ES_yHXNKL-0z",
        "outputId": "2365ea5d-9c2c-4452-c99f-883a2ee4d07f"
      },
      "source": [
        "import numpy as np\n",
        "import scipy.stats as stats\n",
        "\n",
        "mu = pyro.param(\"AutoNormal.locs.mean_temp\").item()\n",
        "scale = pyro.param(\"AutoNormal.scales.mean_temp\").item()\n",
        "x = np.linspace(mu - 3*scale, mu + 3*scale, 100)\n",
        "plt.plot(x, stats.norm.pdf(x, mu, scale), label='Posterior over $\\mu$')\n",
        "point = mle_mean_temp # Previously calculated above\n",
        "plt.plot([point, point],[0., 1.], label='MLE point estimate of $\\mu$')\n",
        "plt.legend()\n",
        "plt.show()"
      ],
      "execution_count": 23,
      "outputs": [
        {
          "output_type": "display_data",
          "data": {
            "text/plain": [
              "<Figure size 432x288 with 1 Axes>"
            ],
            "image/png": "[encoded data removed]"
          },
          "metadata": {
            "needs_background": "light"
          }
        }
      ]
    },
    {
      "cell_type": "markdown",
      "metadata": {
        "id": "1SXUdMtUL-00"
      },
      "source": [
        "<img src=\"https://github.com/PGM-Lab/probai-2021-pyro/blob/main/Day1/Figures/blue.png?raw=1\" alt=\"Drawing\" width=2000 height=20>\n",
        "\n",
        "\n",
        "### 3.3 The use of ``plate`` construct\n",
        "\n",
        "---\n",
        "\n",
        "* Pyro can exploit **conditional independencies and vectorization** to make inference much faster. \n",
        "\n",
        "* This can be done with the construct **``plate``**. \n",
        "\n",
        "* With this construct, we can indicate that the variables $s_i$ and $t_i$ are **conditionally indepdendent** from another variables $s_j$ and $t_j$ given $\\mu_t$. \n",
        "\n",
        "<center>\n",
        "<img src=\"https://github.com/PGM-Lab/probai-2021-pyro/blob/main/Day1/Figures/PGM-Tem-Sensor2.png?raw=1\" alt=\"Drawing\" width=\"150\">\n",
        "</center>\n",
        "---\n",
        "\n"
      ]
    },
    {
      "cell_type": "code",
      "metadata": {
        "id": "4LlQKqp4L-00",
        "outputId": "d5b01827-9f85-449a-c14f-f927ed0e42e8",
        "colab": {
          "base_uri": "https://localhost:8080/",
          "height": 324
        }
      },
      "source": [
        "#The observatons   \n",
        "obs = {'sensor': torch.tensor([18., 18.7, 19.2, 17.8, 20.3, 22.4, 20.3, 21.2, 19.5, 20.1])}\n",
        "\n",
        "def model(obs):\n",
        "    mean_temp = pyro.sample('mean_temp', dist.Normal(15.0, 2.0))\n",
        "    with pyro.plate('N='+str(obs['sensor'].shape[0]), obs['sensor'].shape[0]):\n",
        "        temp = pyro.sample('temp', dist.Normal(mean_temp, 2.0))\n",
        "        sensor = pyro.sample('sensor', dist.Normal(temp, 1.0), obs=obs['sensor'])\n",
        "\n",
        "#Visualize the model\n",
        "pyro.render_model(model, model_args=(obs, ))"
      ],
      "execution_count": 24,
      "outputs": [
        {
          "output_type": "execute_result",
          "data": {
            "text/plain": [
              "<graphviz.dot.Digraph at 0x7feb8e897e90>"
            ],
            "image/svg+xml": "<?xml version=\"1.0\" encoding=\"UTF-8\" standalone=\"no\"?>\n<!DOCTYPE svg PUBLIC \"-//W3C//DTD SVG 1.1//EN\"\n \"http://www.w3.org/Graphics/SVG/1.1/DTD/svg11.dtd\">\n<!-- Generated by graphviz version 2.40.1 (20161225.0304)\n -->\n<!-- Title: %3 Pages: 1 -->\n<svg width=\"116pt\" height=\"227pt\"\n viewBox=\"0.00 0.00 115.89 227.00\" xmlns=\"http://www.w3.org/2000/svg\" xmlns:xlink=\"http://www.w3.org/1999/xlink\">\n<g id=\"graph0\" class=\"graph\" transform=\"scale(1 1) rotate(0) translate(4 223)\">\n<title>%3</title>\n<polygon fill=\"#ffffff\" stroke=\"transparent\" points=\"-4,4 -4,-223 111.8904,-223 111.8904,4 -4,4\"/>\n<g id=\"clust1\" class=\"cluster\">\n<title>cluster_N=10</title>\n<polygon fill=\"none\" stroke=\"#000000\" points=\"11.9452,-8 11.9452,-155 95.9452,-155 95.9452,-8 11.9452,-8\"/>\n<text text-anchor=\"middle\" x=\"70.9452\" y=\"-15.8\" font-family=\"Times,serif\" font-size=\"14.00\" fill=\"#000000\">N=10</text>\n</g>\n<!-- mean_temp -->\n<g id=\"node1\" class=\"node\">\n<title>mean_temp</title>\n<ellipse fill=\"#ffffff\" stroke=\"#000000\" cx=\"53.9452\" cy=\"-201\" rx=\"53.8905\" ry=\"18\"/>\n<text text-anchor=\"middle\" x=\"53.9452\" y=\"-197.3\" font-family=\"Times,serif\" font-size=\"14.00\" fill=\"#000000\">mean_temp</text>\n</g>\n<!-- temp -->\n<g id=\"node2\" class=\"node\">\n<title>temp</title>\n<ellipse fill=\"#ffffff\" stroke=\"#000000\" cx=\"53.9452\" cy=\"-129\" rx=\"29.4969\" ry=\"18\"/>\n<text text-anchor=\"middle\" x=\"53.9452\" y=\"-125.3\" font-family=\"Times,serif\" font-size=\"14.00\" fill=\"#000000\">temp</text>\n</g>\n<!-- mean_temp&#45;&gt;temp -->\n<g id=\"edge1\" class=\"edge\">\n<title>mean_temp&#45;&gt;temp</title>\n<path fill=\"none\" stroke=\"#000000\" d=\"M53.9452,-182.8314C53.9452,-175.131 53.9452,-165.9743 53.9452,-157.4166\"/>\n<polygon fill=\"#000000\" stroke=\"#000000\" points=\"57.4453,-157.4132 53.9452,-147.4133 50.4453,-157.4133 57.4453,-157.4132\"/>\n</g>\n<!-- sensor -->\n<g id=\"node3\" class=\"node\">\n<title>sensor</title>\n<ellipse fill=\"#c0c0c0\" stroke=\"#000000\" cx=\"53.9452\" cy=\"-57\" rx=\"34.394\" ry=\"18\"/>\n<text text-anchor=\"middle\" x=\"53.9452\" y=\"-53.3\" font-family=\"Times,serif\" font-size=\"14.00\" fill=\"#000000\">sensor</text>\n</g>\n<!-- temp&#45;&gt;sensor -->\n<g id=\"edge2\" class=\"edge\">\n<title>temp&#45;&gt;sensor</title>\n<path fill=\"none\" stroke=\"#000000\" d=\"M53.9452,-110.8314C53.9452,-103.131 53.9452,-93.9743 53.9452,-85.4166\"/>\n<polygon fill=\"#000000\" stroke=\"#000000\" points=\"57.4453,-85.4132 53.9452,-75.4133 50.4453,-85.4133 57.4453,-85.4132\"/>\n</g>\n</g>\n</svg>\n"
          },
          "metadata": {},
          "execution_count": 24
        }
      ]
    },
    {
      "cell_type": "markdown",
      "metadata": {
        "id": "yAh8vLjLL-00"
      },
      "source": [
        "---\n",
        "* The ``plate`` construct reflects the standard notational use in graphical models denoting the **repetition of some parts of of the graph**. \n",
        "* We can here make a distinction between **local** and **global** random variables: \n",
        "\n",
        ">* **Local random variables** caputure **specific information** about the $i$-th data sample (i.e. the real temperature at this moment in time).\n",
        "\n",
        ">* **Global random variables** capture **common information** about all the data samples (i.e. the average temperature of all data samples). \n",
        "\n",
        "---\n",
        "\n",
        "<img src=\"https://github.com/PGM-Lab/probai-2021-pyro/blob/main/Day1/Figures/blue.png?raw=1\" alt=\"Drawing\" width=2000 height=20>\n",
        "\n",
        "\n",
        "Observe how inference in this model is much **faster**. "
      ]
    },
    {
      "cell_type": "code",
      "metadata": {
        "colab": {
          "base_uri": "https://localhost:8080/"
        },
        "id": "ASYtP3j0L-01",
        "outputId": "49081827-25d6-4cd5-a4f7-6ecbb6bb02c3"
      },
      "source": [
        "#Run inference\n",
        "start = time.time()\n",
        "svi(model, obs)\n",
        "\n",
        "#Print results\n",
        "print(\"P(mean_temp|Sensor=[18., 18.7, 19.2, 17.8, 20.3, 22.4, 20.3, 21.2, 19.5, 20.1]) =\")\n",
        "print(dist.Normal(pyro.param(\"AutoNormal.locs.mean_temp\").item(), pyro.param(\"AutoNormal.scales.mean_temp\").item()))\n",
        "print(\"\")\n",
        "end = time.time()\n",
        "print(f\"{(end - start)} seconds\")"
      ],
      "execution_count": 25,
      "outputs": [
        {
          "output_type": "stream",
          "name": "stdout",
          "text": [
            "Step: 0. Loss: 2015.5951830148697\n",
            "Step: 100. Loss: 286.36370027065277\n",
            "Step: 200. Loss: 57.62918245792389\n",
            "Step: 300. Loss: 25.59889566898346\n",
            "Step: 400. Loss: 23.29996994137764\n",
            "P(mean_temp|Sensor=[18., 18.7, 19.2, 17.8, 20.3, 22.4, 20.3, 21.2, 19.5, 20.1]) =\n",
            "Normal(loc: 19.180583953857422, scale: 0.6147986650466919)\n",
            "\n",
            "1.6504151821136475 seconds\n"
          ]
        }
      ]
    },
    {
      "cell_type": "markdown",
      "metadata": {
        "id": "dUDwSWFsL-01"
      },
      "source": [
        "\n",
        "<img src=\"https://github.com/PGM-Lab/probai-2021-pyro/blob/main/Day1/Figures/blue.png?raw=1\" alt=\"Drawing\" width=2000 height=20>\n",
        "\n",
        "\n",
        "### **<span style=\"color:red\">Exercise 1: </span>The role of *prior distributions* in learning**\n",
        "\n",
        "In this case we just want to illustrate how the output of learning depends of the particular prior we introduce in the model. Play with different options and extract conclusions:\n",
        "\n",
        "1. What happens if we change the mean of the prior?\n",
        "2. What happens if we change the scale of the prior?\n",
        "3. What happens to the posterior if the number of data samples deacreases and increases?"
      ]
    },
    {
      "cell_type": "code",
      "metadata": {
        "id": "5OWLg5tvL-01",
        "colab": {
          "base_uri": "https://localhost:8080/",
          "height": 390
        },
        "outputId": "a07cdede-c8f6-481a-b132-7a3933bd9857"
      },
      "source": [
        "#The observatons   \n",
        "sample_size = 10\n",
        "obs = {'sensor': torch.tensor(np.random.normal(18,2,sample_size))}\n",
        "\n",
        "def model(obs):\n",
        "    mean_temp = pyro.sample('mean_temp', dist.Normal(15.0, 2.0))\n",
        "    with pyro.plate('N='+str(obs['sensor'].shape[0]), obs['sensor'].shape[0]):\n",
        "        temp = pyro.sample('temp', dist.Normal(mean_temp, 2.0))\n",
        "        sensor = pyro.sample('sensor', dist.Normal(temp, 1.0), obs=obs['sensor'])\n",
        "\n",
        "#Run inference\n",
        "svi(model, obs)\n",
        "\n",
        "#Print results\n",
        "print(\"P(Temperature|Sensor=18.0) = \")\n",
        "print(dist.Normal(pyro.param(\"AutoNormal.locs.mean_temp\").item(), pyro.param(\"AutoNormal.scales.mean_temp\").item()))\n",
        "\n",
        "x = np.linspace(16, 20, 100)\n",
        "plt.plot(x, stats.norm.pdf(x, pyro.param(\"AutoNormal.locs.mean_temp\").item(), pyro.param(\"AutoNormal.scales.mean_temp\").item()), label='Posterior')\n",
        "point = 18\n",
        "plt.plot([point, point],[0., 1.], label='Point Estimate')\n",
        "plt.xlim(16,20)\n",
        "plt.legend()\n",
        "plt.show()\n"
      ],
      "execution_count": 26,
      "outputs": [
        {
          "output_type": "stream",
          "name": "stdout",
          "text": [
            "Step: 0. Loss: 1635.0998195809339\n",
            "Step: 100. Loss: 238.56357549729069\n",
            "Step: 200. Loss: 52.27087408866841\n",
            "Step: 300. Loss: 25.73127499170581\n",
            "Step: 400. Loss: 23.95333792223034\n",
            "P(Temperature|Sensor=18.0) = \n",
            "Normal(loc: 17.31647491455078, scale: 0.6157619953155518)\n"
          ]
        },
        {
          "output_type": "display_data",
          "data": {
            "text/plain": [
              "<Figure size 432x288 with 1 Axes>"
            ],
            "image/png": "[encoded data removed]"
          },
          "metadata": {
            "needs_background": "light"
          }
        }
      ]
    },
    {
      "cell_type": "markdown",
      "metadata": {
        "id": "uf7kVC-hL-03"
      },
      "source": [
        "<img src=\"https://github.com/PGM-Lab/probai-2021-pyro/blob/main/Day1/Figures/blue.png?raw=1\" alt=\"Drawing\" width=2000 height=20>\n",
        "\n",
        "\n",
        "# **4.  Icecream Shop**\n",
        "\n",
        "\n",
        "* We have an ice-cream shop and we **record the ice-cream sales and the average temperature of the day** (using a temperature sensor).\n",
        "\n",
        "* We know **temperature affects the sales** of ice-creams.\n",
        "\n",
        "* We want to **precisely model** how temperature affects ice-cream sales.\n",
        "\n",
        "<center>\n",
        "<img src=\"https://github.com/PGM-Lab/probai-2021-pyro/raw/main/Day1/Figures/Ice-cream_shop_-_Florida.jpg\" alt=\"Drawing\" width=300 >\n",
        "</center>\n",
        "\n"
      ]
    },
    {
      "cell_type": "markdown",
      "metadata": {
        "id": "uv2fWAHxDRxO"
      },
      "source": [
        "<img src=\"https://github.com/PGM-Lab/probai-2021-pyro/blob/main/Day1/Figures/blue.png?raw=1\" alt=\"Drawing\" width=2000 height=20>\n",
        "\n",
        "\n",
        "---\n",
        "* We have **observations** from temperature and sales.\n",
        "\n",
        "* Sales are modeled with a **Poisson** distribution:\n",
        "\n",
        ">- The rate of the Poisson **linearly depends of the real temperature**.\n",
        "---\n",
        "\n",
        "Next figure provides a graphical and a probabilistic description of the model:\n",
        "<center>\n",
        "<img src=\"https://github.com/PGM-Lab/probai-2021-pyro/blob/main/Day1/Figures/Ice-Cream-Shop-Model.png?raw=1\" alt=\"Drawing\" width=700>\n",
        "</center>\n",
        "\n"
      ]
    },
    {
      "cell_type": "code",
      "metadata": {
        "id": "HR8bu27OL-03",
        "colab": {
          "base_uri": "https://localhost:8080/",
          "height": 324
        },
        "outputId": "385c058a-9611-45fd-d887-723c9e79ea86"
      },
      "source": [
        "#The observatons   \n",
        "obs = {'sensor': torch.tensor([18., 18.7, 19.2, 17.8, 20.3, 22.4, 20.3, 21.2, 19.5, 20.1]),\n",
        "       'sales': torch.tensor([46., 47., 49., 44., 50., 54., 51., 52., 49., 53.])}\n",
        "\n",
        "def model(obs):\n",
        "    mean_temp = pyro.sample('mean_temp', dist.Normal(15.0, 2.0))\n",
        "    alpha = pyro.sample('alpha', dist.Normal(0.0, 100.0))\n",
        "    beta = pyro.sample('beta', dist.Normal(0.0, 100.0))\n",
        "\n",
        "    with pyro.plate('N='+str(obs['sensor'].shape[0]), obs['sensor'].shape[0]):\n",
        "        temp = pyro.sample('temp', dist.Normal(mean_temp, 2.0))\n",
        "        sensor = pyro.sample('sensor', dist.Normal(temp, 1.0), obs=obs['sensor'])\n",
        "        rate = torch.max(torch.tensor(0.001), alpha + beta*temp)\n",
        "        sales = pyro.sample('sales', dist.Poisson(rate), obs=obs['sales'])\n",
        "\n",
        "#Visualize the model\n",
        "pyro.render_model(model, model_args=(obs, ))"
      ],
      "execution_count": 27,
      "outputs": [
        {
          "output_type": "execute_result",
          "data": {
            "text/plain": [
              "<graphviz.dot.Digraph at 0x7feacd96d7d0>"
            ],
            "image/svg+xml": "<?xml version=\"1.0\" encoding=\"UTF-8\" standalone=\"no\"?>\n<!DOCTYPE svg PUBLIC \"-//W3C//DTD SVG 1.1//EN\"\n \"http://www.w3.org/Graphics/SVG/1.1/DTD/svg11.dtd\">\n<!-- Generated by graphviz version 2.40.1 (20161225.0304)\n -->\n<!-- Title: %3 Pages: 1 -->\n<svg width=\"316pt\" height=\"227pt\"\n viewBox=\"0.00 0.00 316.00 227.00\" xmlns=\"http://www.w3.org/2000/svg\" xmlns:xlink=\"http://www.w3.org/1999/xlink\">\n<g id=\"graph0\" class=\"graph\" transform=\"scale(1 1) rotate(0) translate(4 223)\">\n<title>%3</title>\n<polygon fill=\"#ffffff\" stroke=\"transparent\" points=\"-4,4 -4,-223 312,-223 312,4 -4,4\"/>\n<g id=\"clust1\" class=\"cluster\">\n<title>cluster_N=10</title>\n<polygon fill=\"none\" stroke=\"#000000\" points=\"8,-8 8,-155 166,-155 166,-8 8,-8\"/>\n<text text-anchor=\"middle\" x=\"141\" y=\"-15.8\" font-family=\"Times,serif\" font-size=\"14.00\" fill=\"#000000\">N=10</text>\n</g>\n<!-- mean_temp -->\n<g id=\"node1\" class=\"node\">\n<title>mean_temp</title>\n<ellipse fill=\"#ffffff\" stroke=\"#000000\" cx=\"88\" cy=\"-201\" rx=\"53.8905\" ry=\"18\"/>\n<text text-anchor=\"middle\" x=\"88\" y=\"-197.3\" font-family=\"Times,serif\" font-size=\"14.00\" fill=\"#000000\">mean_temp</text>\n</g>\n<!-- temp -->\n<g id=\"node4\" class=\"node\">\n<title>temp</title>\n<ellipse fill=\"#ffffff\" stroke=\"#000000\" cx=\"88\" cy=\"-129\" rx=\"29.4969\" ry=\"18\"/>\n<text text-anchor=\"middle\" x=\"88\" y=\"-125.3\" font-family=\"Times,serif\" font-size=\"14.00\" fill=\"#000000\">temp</text>\n</g>\n<!-- mean_temp&#45;&gt;temp -->\n<g id=\"edge1\" class=\"edge\">\n<title>mean_temp&#45;&gt;temp</title>\n<path fill=\"none\" stroke=\"#000000\" d=\"M88,-182.8314C88,-175.131 88,-165.9743 88,-157.4166\"/>\n<polygon fill=\"#000000\" stroke=\"#000000\" points=\"91.5001,-157.4132 88,-147.4133 84.5001,-157.4133 91.5001,-157.4132\"/>\n</g>\n<!-- alpha -->\n<g id=\"node2\" class=\"node\">\n<title>alpha</title>\n<ellipse fill=\"#ffffff\" stroke=\"#000000\" cx=\"205\" cy=\"-129\" rx=\"30.5947\" ry=\"18\"/>\n<text text-anchor=\"middle\" x=\"205\" y=\"-125.3\" font-family=\"Times,serif\" font-size=\"14.00\" fill=\"#000000\">alpha</text>\n</g>\n<!-- sales -->\n<g id=\"node6\" class=\"node\">\n<title>sales</title>\n<ellipse fill=\"#c0c0c0\" stroke=\"#000000\" cx=\"130\" cy=\"-57\" rx=\"27.8951\" ry=\"18\"/>\n<text text-anchor=\"middle\" x=\"130\" y=\"-53.3\" font-family=\"Times,serif\" font-size=\"14.00\" fill=\"#000000\">sales</text>\n</g>\n<!-- alpha&#45;&gt;sales -->\n<g id=\"edge4\" class=\"edge\">\n<title>alpha&#45;&gt;sales</title>\n<path fill=\"none\" stroke=\"#000000\" d=\"M188.7261,-113.3771C178.2652,-103.3346 164.5184,-90.1377 152.9551,-79.0369\"/>\n<polygon fill=\"#000000\" stroke=\"#000000\" points=\"155.3659,-76.4995 145.7282,-72.099 150.5182,-81.5493 155.3659,-76.4995\"/>\n</g>\n<!-- beta -->\n<g id=\"node3\" class=\"node\">\n<title>beta</title>\n<ellipse fill=\"#ffffff\" stroke=\"#000000\" cx=\"281\" cy=\"-129\" rx=\"27\" ry=\"18\"/>\n<text text-anchor=\"middle\" x=\"281\" y=\"-125.3\" font-family=\"Times,serif\" font-size=\"14.00\" fill=\"#000000\">beta</text>\n</g>\n<!-- beta&#45;&gt;sales -->\n<g id=\"edge3\" class=\"edge\">\n<title>beta&#45;&gt;sales</title>\n<path fill=\"none\" stroke=\"#000000\" d=\"M259.3407,-118.0623C254.6242,-115.7108 249.6531,-113.2553 245,-111 217.2124,-97.5316 185.4242,-82.6444 162.3215,-71.9182\"/>\n<polygon fill=\"#000000\" stroke=\"#000000\" points=\"163.5338,-68.6224 152.9891,-67.5922 160.5899,-74.9733 163.5338,-68.6224\"/>\n</g>\n<!-- sensor -->\n<g id=\"node5\" class=\"node\">\n<title>sensor</title>\n<ellipse fill=\"#c0c0c0\" stroke=\"#000000\" cx=\"50\" cy=\"-57\" rx=\"34.394\" ry=\"18\"/>\n<text text-anchor=\"middle\" x=\"50\" y=\"-53.3\" font-family=\"Times,serif\" font-size=\"14.00\" fill=\"#000000\">sensor</text>\n</g>\n<!-- temp&#45;&gt;sensor -->\n<g id=\"edge2\" class=\"edge\">\n<title>temp&#45;&gt;sensor</title>\n<path fill=\"none\" stroke=\"#000000\" d=\"M78.8013,-111.5708C74.3533,-103.1431 68.9185,-92.8455 63.9732,-83.4755\"/>\n<polygon fill=\"#000000\" stroke=\"#000000\" points=\"67.0087,-81.7284 59.2457,-74.5182 60.818,-84.9958 67.0087,-81.7284\"/>\n</g>\n<!-- temp&#45;&gt;sales -->\n<g id=\"edge5\" class=\"edge\">\n<title>temp&#45;&gt;sales</title>\n<path fill=\"none\" stroke=\"#000000\" d=\"M97.9534,-111.937C103.0271,-103.2393 109.3034,-92.4799 114.953,-82.7948\"/>\n<polygon fill=\"#000000\" stroke=\"#000000\" points=\"118.1025,-84.3419 120.118,-73.9405 112.056,-80.8148 118.1025,-84.3419\"/>\n</g>\n</g>\n</svg>\n"
          },
          "metadata": {},
          "execution_count": 27
        }
      ]
    },
    {
      "cell_type": "markdown",
      "metadata": {
        "id": "gT34C5CpDmPZ"
      },
      "source": [
        "<img src=\"https://github.com/PGM-Lab/probai-2021-pyro/blob/main/Day1/Figures/blue.png?raw=1\" alt=\"Drawing\" width=2000 height=20>\n"
      ]
    },
    {
      "cell_type": "markdown",
      "metadata": {
        "id": "6jqw09FND19b"
      },
      "source": [
        "---\n",
        "* We run the **(variational) inference engine** and get the results.\n",
        "\n",
        "* With PPLs, we only care about modeling, **not about the low-level details** of the machine-learning solver.\n",
        "\n",
        "---"
      ]
    },
    {
      "cell_type": "code",
      "metadata": {
        "id": "gmaOTBYAL-03",
        "colab": {
          "base_uri": "https://localhost:8080/"
        },
        "outputId": "f907f514-c125-4f2e-9c7e-9490668f8527"
      },
      "source": [
        "#Run inference\n",
        "svi(model, obs, num_steps = 3000, lr = 0.001)\n",
        "\n",
        "#Print results    \n",
        "print(\"Posterior temperature mean\")\n",
        "print(dist.Normal(pyro.param(\"AutoNormal.locs.mean_temp\").item(), pyro.param(\"AutoNormal.scales.mean_temp\").item()))\n",
        "print(\"\")\n",
        "print(\"Posterior alpha\")\n",
        "print(dist.Normal(pyro.param(\"AutoNormal.locs.alpha\").item(), pyro.param(\"AutoNormal.scales.alpha\").item()))\n",
        "print(\"\")\n",
        "print(\"Posterior beta\")\n",
        "print(dist.Normal(pyro.param(\"AutoNormal.locs.beta\").item(), pyro.param(\"AutoNormal.scales.beta\").item()))\n"
      ],
      "execution_count": 28,
      "outputs": [
        {
          "output_type": "stream",
          "name": "stdout",
          "text": [
            "Step: 0. Loss: 6918.239556312561\n",
            "Step: 100. Loss: 1706.8237750530243\n",
            "Step: 200. Loss: 1406.9381275177002\n",
            "Step: 300. Loss: 1167.6916592121124\n",
            "Step: 400. Loss: 969.2326389551163\n",
            "Step: 500. Loss: 804.8421595096588\n",
            "Step: 600. Loss: 669.4959982037544\n",
            "Step: 700. Loss: 560.748676598072\n",
            "Step: 800. Loss: 474.4860295057297\n",
            "Step: 900. Loss: 392.10573947429657\n",
            "Step: 1000. Loss: 340.6572550535202\n",
            "Step: 1100. Loss: 280.30739521980286\n",
            "Step: 1200. Loss: 257.10428792238235\n",
            "Step: 1300. Loss: 207.26774513721466\n",
            "Step: 1400. Loss: 189.91825646162033\n",
            "Step: 1500. Loss: 164.52892982959747\n",
            "Step: 1600. Loss: 154.52784144878387\n",
            "Step: 1700. Loss: 126.2596897482872\n",
            "Step: 1800. Loss: 117.71682924032211\n",
            "Step: 1900. Loss: 112.76166027784348\n",
            "Step: 2000. Loss: 100.08541929721832\n",
            "Step: 2100. Loss: 98.10373902320862\n",
            "Step: 2200. Loss: 92.16434901952744\n",
            "Step: 2300. Loss: 80.70336270332336\n",
            "Step: 2400. Loss: 79.52297556400299\n",
            "Step: 2500. Loss: 71.62711155414581\n",
            "Step: 2600. Loss: 76.57995223999023\n",
            "Step: 2700. Loss: 68.35304063558578\n",
            "Step: 2800. Loss: 70.64064681529999\n",
            "Step: 2900. Loss: 64.48289877176285\n",
            "Posterior temperature mean\n",
            "Normal(loc: 17.972440719604492, scale: 0.5351166725158691)\n",
            "\n",
            "Posterior alpha\n",
            "Normal(loc: 39.841854095458984, scale: 1.1383755207061768)\n",
            "\n",
            "Posterior beta\n",
            "Normal(loc: 0.5334267616271973, scale: 0.12256141752004623)\n"
          ]
        }
      ]
    },
    {
      "cell_type": "markdown",
      "metadata": {
        "id": "4ulfx96AL-04"
      },
      "source": [
        "<img src=\"https://github.com/PGM-Lab/probai-2021-pyro/blob/main/Day1/Figures/blue.png?raw=1\" alt=\"Drawing\" width=2000 height=20>\n",
        "\n",
        "\n",
        "### <span style=\"color:red\">Exercise 2: Introduce Humidity in the Icecream shop model </span> \n",
        "---\n",
        "* Assume we also have a bunch of **humidity sensor measurements**.\n",
        "* Assume the **sales are also linearly influenced by the humidity**.\n",
        "* **Extend the above model** in order to integrate all of that.\n",
        "---\n",
        "\n",
        "Next figure provides a graphical and a probabilistic description of the model:\n",
        "<center>\n",
        "<img src=\"https://github.com/PGM-Lab/probai-2021-pyro/blob/main/Day1/Figures/Ice-Cream-Shop-Model-Humidity.png?raw=1\" alt=\"Drawing\" width=700>\n",
        "</center>\n",
        "\n",
        "\n"
      ]
    },
    {
      "cell_type": "code",
      "metadata": {
        "id": "8UxOUxuTL-04",
        "colab": {
          "base_uri": "https://localhost:8080/",
          "height": 324
        },
        "outputId": "0d5c986d-09bd-474e-b5a2-25c429530ddd"
      },
      "source": [
        "#The observatons   \n",
        "obs = {'sensor': torch.tensor([18., 18.7, 19.2, 17.8, 20.3, 22.4, 20.3, 21.2, 19.5, 20.1]),\n",
        "       'sales': torch.tensor([46., 47., 49., 44., 50., 54., 51., 52., 49., 53.]),\n",
        "       'sensor_humidity': torch.tensor([82.8, 87.6, 69.1, 74.2, 80.3, 94.2, 91.2, 92.2, 99.1, 93.2])}\n",
        "\n",
        "\n",
        "def model(obs):\n",
        "    mean_temp = pyro.sample('mean_temp', dist.Normal(15.0, 2.0))\n",
        "    ## Introduce a random variable \"mean_humidity\"\n",
        "\n",
        "    alpha = pyro.sample('alpha', dist.Normal(0.0, 100.0))\n",
        "    beta = pyro.sample('beta', dist.Normal(0.0, 100.0))\n",
        "    \n",
        "    ## Introduce a coefficient for the humidity \"gamma\"\n",
        "\n",
        "    with pyro.plate('N='+str(obs['sensor'].shape[0]), obs['sensor'].shape[0]):\n",
        "        temp = pyro.sample('temp', dist.Normal(mean_temp, 2.0))\n",
        "        sensor = pyro.sample('sensor', dist.Normal(temp, 1.0), obs=obs['sensor'])\n",
        "        #Add the 'humidity' variable and the 'sensor_humidity' variable\n",
        "\n",
        "        #Add the linear dependency for the rate with respect to temp and humidity (keep torch.max to avoid numerical stability issues)\n",
        "        rate = torch.max(torch.tensor(0.001), alpha + beta*temp + ????)\n",
        "        sales = pyro.sample('sales', dist.Poisson(rate), obs=obs['sales'])\n",
        "\n",
        "#Visualize the model\n",
        "pyro.render_model(model, model_args=(obs, ))"
      ],
      "execution_count": 29,
      "outputs": [
        {
          "output_type": "execute_result",
          "data": {
            "text/plain": [
              "<graphviz.dot.Digraph at 0x7feac003d210>"
            ],
            "image/svg+xml": "<?xml version=\"1.0\" encoding=\"UTF-8\" standalone=\"no\"?>\n<!DOCTYPE svg PUBLIC \"-//W3C//DTD SVG 1.1//EN\"\n \"http://www.w3.org/Graphics/SVG/1.1/DTD/svg11.dtd\">\n<!-- Generated by graphviz version 2.40.1 (20161225.0304)\n -->\n<!-- Title: %3 Pages: 1 -->\n<svg width=\"575pt\" height=\"227pt\"\n viewBox=\"0.00 0.00 574.55 227.00\" xmlns=\"http://www.w3.org/2000/svg\" xmlns:xlink=\"http://www.w3.org/1999/xlink\">\n<g id=\"graph0\" class=\"graph\" transform=\"scale(1 1) rotate(0) translate(4 223)\">\n<title>%3</title>\n<polygon fill=\"#ffffff\" stroke=\"transparent\" points=\"-4,4 -4,-223 570.5473,-223 570.5473,4 -4,4\"/>\n<g id=\"clust1\" class=\"cluster\">\n<title>cluster_N=10</title>\n<polygon fill=\"none\" stroke=\"#000000\" points=\"8,-8 8,-155 331,-155 331,-8 8,-8\"/>\n<text text-anchor=\"middle\" x=\"306\" y=\"-15.8\" font-family=\"Times,serif\" font-size=\"14.00\" fill=\"#000000\">N=10</text>\n</g>\n<!-- mean_temp -->\n<g id=\"node1\" class=\"node\">\n<title>mean_temp</title>\n<ellipse fill=\"#ffffff\" stroke=\"#000000\" cx=\"71\" cy=\"-201\" rx=\"53.8905\" ry=\"18\"/>\n<text text-anchor=\"middle\" x=\"71\" y=\"-197.3\" font-family=\"Times,serif\" font-size=\"14.00\" fill=\"#000000\">mean_temp</text>\n</g>\n<!-- temp -->\n<g id=\"node6\" class=\"node\">\n<title>temp</title>\n<ellipse fill=\"#ffffff\" stroke=\"#000000\" cx=\"71\" cy=\"-129\" rx=\"29.4969\" ry=\"18\"/>\n<text text-anchor=\"middle\" x=\"71\" y=\"-125.3\" font-family=\"Times,serif\" font-size=\"14.00\" fill=\"#000000\">temp</text>\n</g>\n<!-- mean_temp&#45;&gt;temp -->\n<g id=\"edge1\" class=\"edge\">\n<title>mean_temp&#45;&gt;temp</title>\n<path fill=\"none\" stroke=\"#000000\" d=\"M71,-182.8314C71,-175.131 71,-165.9743 71,-157.4166\"/>\n<polygon fill=\"#000000\" stroke=\"#000000\" points=\"74.5001,-157.4132 71,-147.4133 67.5001,-157.4133 74.5001,-157.4132\"/>\n</g>\n<!-- mean_humidity -->\n<g id=\"node2\" class=\"node\">\n<title>mean_humidity</title>\n<ellipse fill=\"#ffffff\" stroke=\"#000000\" cx=\"254\" cy=\"-201\" rx=\"69.5877\" ry=\"18\"/>\n<text text-anchor=\"middle\" x=\"254\" y=\"-197.3\" font-family=\"Times,serif\" font-size=\"14.00\" fill=\"#000000\">mean_humidity</text>\n</g>\n<!-- humidity -->\n<g id=\"node8\" class=\"node\">\n<title>humidity</title>\n<ellipse fill=\"#ffffff\" stroke=\"#000000\" cx=\"254\" cy=\"-129\" rx=\"44.6926\" ry=\"18\"/>\n<text text-anchor=\"middle\" x=\"254\" y=\"-125.3\" font-family=\"Times,serif\" font-size=\"14.00\" fill=\"#000000\">humidity</text>\n</g>\n<!-- mean_humidity&#45;&gt;humidity -->\n<g id=\"edge3\" class=\"edge\">\n<title>mean_humidity&#45;&gt;humidity</title>\n<path fill=\"none\" stroke=\"#000000\" d=\"M254,-182.8314C254,-175.131 254,-165.9743 254,-157.4166\"/>\n<polygon fill=\"#000000\" stroke=\"#000000\" points=\"257.5001,-157.4132 254,-147.4133 250.5001,-157.4133 257.5001,-157.4132\"/>\n</g>\n<!-- alpha -->\n<g id=\"node3\" class=\"node\">\n<title>alpha</title>\n<ellipse fill=\"#ffffff\" stroke=\"#000000\" cx=\"536\" cy=\"-129\" rx=\"30.5947\" ry=\"18\"/>\n<text text-anchor=\"middle\" x=\"536\" y=\"-125.3\" font-family=\"Times,serif\" font-size=\"14.00\" fill=\"#000000\">alpha</text>\n</g>\n<!-- sales -->\n<g id=\"node10\" class=\"node\">\n<title>sales</title>\n<ellipse fill=\"#c0c0c0\" stroke=\"#000000\" cx=\"295\" cy=\"-57\" rx=\"27.8951\" ry=\"18\"/>\n<text text-anchor=\"middle\" x=\"295\" y=\"-53.3\" font-family=\"Times,serif\" font-size=\"14.00\" fill=\"#000000\">sales</text>\n</g>\n<!-- alpha&#45;&gt;sales -->\n<g id=\"edge7\" class=\"edge\">\n<title>alpha&#45;&gt;sales</title>\n<path fill=\"none\" stroke=\"#000000\" d=\"M512.1425,-117.5135C506.8891,-115.1962 501.3076,-112.8934 496,-111 439.8033,-90.953 372.4759,-74.3006 331.7578,-65.0043\"/>\n<polygon fill=\"#000000\" stroke=\"#000000\" points=\"332.2795,-61.534 321.7542,-62.7464 330.7382,-68.3623 332.2795,-61.534\"/>\n</g>\n<!-- beta -->\n<g id=\"node4\" class=\"node\">\n<title>beta</title>\n<ellipse fill=\"#ffffff\" stroke=\"#000000\" cx=\"366\" cy=\"-129\" rx=\"27\" ry=\"18\"/>\n<text text-anchor=\"middle\" x=\"366\" y=\"-125.3\" font-family=\"Times,serif\" font-size=\"14.00\" fill=\"#000000\">beta</text>\n</g>\n<!-- beta&#45;&gt;sales -->\n<g id=\"edge6\" class=\"edge\">\n<title>beta&#45;&gt;sales</title>\n<path fill=\"none\" stroke=\"#000000\" d=\"M350.9427,-113.7307C341.153,-103.803 328.2169,-90.6847 317.2503,-79.5637\"/>\n<polygon fill=\"#000000\" stroke=\"#000000\" points=\"319.5492,-76.9102 310.0356,-72.2473 314.5649,-81.8252 319.5492,-76.9102\"/>\n</g>\n<!-- gamma -->\n<g id=\"node5\" class=\"node\">\n<title>gamma</title>\n<ellipse fill=\"#ffffff\" stroke=\"#000000\" cx=\"449\" cy=\"-129\" rx=\"38.1938\" ry=\"18\"/>\n<text text-anchor=\"middle\" x=\"449\" y=\"-125.3\" font-family=\"Times,serif\" font-size=\"14.00\" fill=\"#000000\">gamma</text>\n</g>\n<!-- gamma&#45;&gt;sales -->\n<g id=\"edge5\" class=\"edge\">\n<title>gamma&#45;&gt;sales</title>\n<path fill=\"none\" stroke=\"#000000\" d=\"M421.8224,-116.2936C395.4059,-103.943 355.2788,-85.1823 327.2573,-72.0814\"/>\n<polygon fill=\"#000000\" stroke=\"#000000\" points=\"328.4342,-68.768 317.893,-67.7032 325.4694,-75.1091 328.4342,-68.768\"/>\n</g>\n<!-- sensor -->\n<g id=\"node7\" class=\"node\">\n<title>sensor</title>\n<ellipse fill=\"#c0c0c0\" stroke=\"#000000\" cx=\"50\" cy=\"-57\" rx=\"34.394\" ry=\"18\"/>\n<text text-anchor=\"middle\" x=\"50\" y=\"-53.3\" font-family=\"Times,serif\" font-size=\"14.00\" fill=\"#000000\">sensor</text>\n</g>\n<!-- temp&#45;&gt;sensor -->\n<g id=\"edge2\" class=\"edge\">\n<title>temp&#45;&gt;sensor</title>\n<path fill=\"none\" stroke=\"#000000\" d=\"M65.809,-111.2022C63.4616,-103.1541 60.6338,-93.4588 58.0228,-84.5067\"/>\n<polygon fill=\"#000000\" stroke=\"#000000\" points=\"61.3641,-83.4625 55.2041,-74.8425 54.6441,-85.4226 61.3641,-83.4625\"/>\n</g>\n<!-- temp&#45;&gt;sales -->\n<g id=\"edge9\" class=\"edge\">\n<title>temp&#45;&gt;sales</title>\n<path fill=\"none\" stroke=\"#000000\" d=\"M98.4221,-122.651C135.3008,-113.7597 202.6436,-96.2767 258,-75 259.8503,-74.2888 261.7343,-73.5203 263.6228,-72.7153\"/>\n<polygon fill=\"#000000\" stroke=\"#000000\" points=\"265.3042,-75.796 272.9692,-68.4818 262.416,-69.4196 265.3042,-75.796\"/>\n</g>\n<!-- sensor_humidity -->\n<g id=\"node9\" class=\"node\">\n<title>sensor_humidity</title>\n<ellipse fill=\"#c0c0c0\" stroke=\"#000000\" cx=\"176\" cy=\"-57\" rx=\"73.387\" ry=\"18\"/>\n<text text-anchor=\"middle\" x=\"176\" y=\"-53.3\" font-family=\"Times,serif\" font-size=\"14.00\" fill=\"#000000\">sensor_humidity</text>\n</g>\n<!-- humidity&#45;&gt;sensor_humidity -->\n<g id=\"edge4\" class=\"edge\">\n<title>humidity&#45;&gt;sensor_humidity</title>\n<path fill=\"none\" stroke=\"#000000\" d=\"M235.9092,-112.3008C226.059,-103.2083 213.6822,-91.7836 202.7392,-81.6823\"/>\n<polygon fill=\"#000000\" stroke=\"#000000\" points=\"204.803,-78.8242 195.0809,-74.6132 200.055,-83.9678 204.803,-78.8242\"/>\n</g>\n<!-- humidity&#45;&gt;sales -->\n<g id=\"edge8\" class=\"edge\">\n<title>humidity&#45;&gt;sales</title>\n<path fill=\"none\" stroke=\"#000000\" d=\"M264.1348,-111.2022C268.9724,-102.7071 274.8549,-92.3767 280.1818,-83.0223\"/>\n<polygon fill=\"#000000\" stroke=\"#000000\" points=\"283.3571,-84.519 285.2641,-74.0972 277.2742,-81.0551 283.3571,-84.519\"/>\n</g>\n</g>\n</svg>\n"
          },
          "metadata": {},
          "execution_count": 29
        }
      ]
    },
    {
      "cell_type": "markdown",
      "metadata": {
        "id": "wC7ceQTkHrrg"
      },
      "source": [
        "<img src=\"https://github.com/PGM-Lab/probai-2021-pyro/blob/main/Day1/Figures/blue.png?raw=1\" alt=\"Drawing\" width=2000 height=20>\n",
        "\n",
        "---\n",
        "* We run the **(variational) inference engine** and get the results.\n",
        "\n",
        "* With PPLs, we only care about modeling, **not about the low-level details** of the machine-learning solver.\n",
        "\n",
        "---"
      ]
    },
    {
      "cell_type": "code",
      "source": [
        "#Run inference\n",
        "svi(model, obs, num_steps=3000, lr=0.001)\n",
        "\n",
        "#Print results    \n",
        "print(\"Posterior temperature mean\")\n",
        "print(dist.Normal(pyro.param(\"AutoNormal.locs.mean_temp\").item(), pyro.param(\"AutoNormal.scales.mean_temp\").item()))\n",
        "print(\"\")\n",
        "print(\"Posterior Humidity Mean\")\n",
        "print(dist.Normal(pyro.param(\"AutoNormal.locs.mean_humidity\").item(), pyro.param(\"AutoNormal.scales.mean_humidity\").item()))\n",
        "print(\"\")\n",
        "print(\"Posterior alpha\")\n",
        "print(dist.Normal(pyro.param(\"AutoNormal.locs.alpha\").item(), pyro.param(\"AutoNormal.scales.alpha\").item()))\n",
        "print(\"\")\n",
        "print(\"Posterior beta\")\n",
        "print(dist.Normal(pyro.param(\"AutoNormal.locs.beta\").item(), pyro.param(\"AutoNormal.scales.beta\").item()))\n",
        "print(\"\")\n",
        "print(\"Posterior Gamma\")\n",
        "print(dist.Normal(pyro.param(\"AutoNormal.locs.gamma\").item(), pyro.param(\"AutoNormal.scales.gamma\").item()))\n"
      ],
      "metadata": {
        "colab": {
          "base_uri": "https://localhost:8080/"
        },
        "id": "Du3hyC0j16tM",
        "outputId": "ea55b2a7-3ac6-426f-cf23-7d28901fabcc"
      },
      "execution_count": 30,
      "outputs": [
        {
          "output_type": "stream",
          "name": "stdout",
          "text": [
            "Step: 0. Loss: 43415.62390649319\n",
            "Step: 100. Loss: 32385.00171458721\n",
            "Step: 200. Loss: 26350.05345070362\n",
            "Step: 300. Loss: 21488.4861702919\n",
            "Step: 400. Loss: 17607.420937776566\n",
            "Step: 500. Loss: 14453.095369696617\n",
            "Step: 600. Loss: 11926.55991435051\n",
            "Step: 700. Loss: 9850.370500385761\n",
            "Step: 800. Loss: 8091.017839193344\n",
            "Step: 900. Loss: 6682.580929279327\n",
            "Step: 1000. Loss: 5537.713232040405\n",
            "Step: 1100. Loss: 4582.030882298946\n",
            "Step: 1200. Loss: 3812.805592775345\n",
            "Step: 1300. Loss: 3114.99720621109\n",
            "Step: 1400. Loss: 2678.093121111393\n",
            "Step: 1500. Loss: 2197.645421206951\n",
            "Step: 1600. Loss: 1855.6752140522003\n",
            "Step: 1700. Loss: 1547.314620256424\n",
            "Step: 1800. Loss: 1284.7616971731186\n",
            "Step: 1900. Loss: 1079.2135288119316\n",
            "Step: 2000. Loss: 926.1471571326256\n",
            "Step: 2100. Loss: 821.3310233354568\n",
            "Step: 2200. Loss: 681.4237759709358\n",
            "Step: 2300. Loss: 590.1314925253391\n",
            "Step: 2400. Loss: 532.2307305335999\n",
            "Step: 2500. Loss: 449.05110985040665\n",
            "Step: 2600. Loss: 413.5098383426666\n",
            "Step: 2700. Loss: 381.91738879680634\n",
            "Step: 2800. Loss: 334.34186547994614\n",
            "Step: 2900. Loss: 306.2207071185112\n",
            "Posterior temperature mean\n",
            "Normal(loc: 17.949214935302734, scale: 0.5443748831748962)\n",
            "\n",
            "Posterior Humidity Mean\n",
            "Normal(loc: 79.7042465209961, scale: 0.5321848392486572)\n",
            "\n",
            "Posterior alpha\n",
            "Normal(loc: 36.65719223022461, scale: 1.1258833408355713)\n",
            "\n",
            "Posterior beta\n",
            "Normal(loc: 0.9938434362411499, scale: 0.11436548084020615)\n",
            "\n",
            "Posterior Gamma\n",
            "Normal(loc: -0.08991964906454086, scale: 0.02706865407526493)\n"
          ]
        }
      ]
    },
    {
      "cell_type": "markdown",
      "metadata": {
        "id": "NCld6GJGL-05"
      },
      "source": [
        "<img src=\"https://github.com/PGM-Lab/probai-2021-pyro/blob/main/Day1/Figures/blue.png?raw=1\" alt=\"Drawing\" width=2000 height=20>\n",
        "\n",
        "# 5.  **Temporal Models**\n",
        "\n",
        "If we think there is a temporal dependency between the variables, we can easily encode that with PPLs. \n",
        "\n",
        "---\n",
        "* Let us assume that there is a **temporal dependency** between the variables.\n",
        "\n",
        "* E.g. the current **real temperature must be similar to the real temperature in the previous time step**.\n",
        "\n",
        "* This temporal dependency can **be modeled** using a **for-loop** in Pyro\n",
        "\n",
        "* Consider the **graphical representation**.\n",
        "---\n",
        "\n",
        "\n",
        "<img src=\"https://github.com/PGM-Lab/probai-2021-pyro/raw/main/Day1/Figures/tempmodel-temporal-III.png\" alt=\"Drawing\" style=\"width: 350px;\" >\n",
        "\n"
      ]
    },
    {
      "cell_type": "code",
      "metadata": {
        "id": "dSzU0cWeL-05"
      },
      "source": [
        "#The observatons   \n",
        "obs = {'sensor': torch.tensor([18., 18.7, 19.2, 17.8, 20.3, 22.4, 20.3, 21.2, 19.5, 20.1])}\n",
        "\n",
        "def model(obs):\n",
        "    mean_temp = pyro.sample('mean_temp', dist.Normal(15.0, 2.0))\n",
        "    for i in range(obs['sensor'].shape[0]):\n",
        "        if i==0:\n",
        "            temp = pyro.sample(f'temp_{i}', dist.Normal(mean_temp, 2.0))\n",
        "        else:\n",
        "            temp = pyro.sample(f'temp_{i}', dist.Normal(prev_temp, 2.0))\n",
        "        sensor = pyro.sample(f'sensor_{i}', dist.Normal(temp, 1.0), obs=obs['sensor'][i])\n",
        "        prev_temp = temp\n"
      ],
      "execution_count": 31,
      "outputs": []
    },
    {
      "cell_type": "markdown",
      "metadata": {
        "id": "EAnXvUqpJCm1"
      },
      "source": [
        "<img src=\"https://github.com/PGM-Lab/probai-2021-pyro/blob/main/Day1/Figures/blue.png?raw=1\" alt=\"Drawing\" width=2000 height=20>\n",
        "\n",
        "---\n",
        "* We run the **(variational) inference engine** and get the results.\n",
        "\n",
        "* With PPLs, we only care about modeling, **not about the low-level details** of the machine-learning solver.\n",
        "\n",
        "---"
      ]
    },
    {
      "cell_type": "code",
      "metadata": {
        "cellView": "form",
        "id": "7XaW4rKXL-05"
      },
      "source": [
        "#@title\n",
        "#Define the guide\n",
        "def guide(obs):\n",
        "    mean = pyro.param(\"mean\", torch.mean(obs['sensor']))\n",
        "    scale = pyro.param(\"scale\", torch.tensor(1.), constraint=constraints.positive)\n",
        "    mean_temp = pyro.sample('mean_temp', dist.Normal(mean, scale))\n",
        "    for i in range(obs['sensor'].shape[0]):\n",
        "        mean_i = pyro.param(f'mean_{i}', obs['sensor'][i])\n",
        "        scale_i = pyro.param(f'scale_{i}', torch.tensor(1.), constraint=constraints.positive)\n",
        "        temp = pyro.sample(f'temp_{i}', dist.Normal(mean_i, scale_i))"
      ],
      "execution_count": 32,
      "outputs": []
    },
    {
      "cell_type": "code",
      "source": [
        "import time\n",
        "        \n",
        "#Run inference\n",
        "svi(model, obs, guide)\n",
        "\n",
        "smooth_temp=[]\n",
        "for i in range(obs['sensor'].shape[0]):\n",
        "    smooth_temp.append(pyro.param(f'mean_{i}').item())\n",
        "\n",
        "print('Finished')"
      ],
      "metadata": {
        "colab": {
          "base_uri": "https://localhost:8080/"
        },
        "id": "MWWVKOZnWccI",
        "outputId": "5aac919a-0dcd-46b7-966e-b5e714a7adb4"
      },
      "execution_count": 33,
      "outputs": [
        {
          "output_type": "stream",
          "name": "stdout",
          "text": [
            "Step: 0. Loss: 20.270625352859497\n",
            "Step: 100. Loss: 21.953279733657837\n",
            "Step: 200. Loss: 20.95933836698532\n",
            "Step: 300. Loss: 19.39970552921295\n",
            "Step: 400. Loss: 20.462097346782684\n",
            "Finished\n"
          ]
        }
      ]
    },
    {
      "cell_type": "markdown",
      "metadata": {
        "id": "OJHqOj3VL-06"
      },
      "source": [
        "---\n",
        "* Plot the **observered measurements** of the temperature **against** the inferred **real temperature**.\n",
        "\n",
        "* By querying the **local hidden** we can **smooth** the temperature.\n",
        "\n",
        "* The **recovered temperature** is much less noisy than the measured one. \n",
        "---\n"
      ]
    },
    {
      "cell_type": "code",
      "metadata": {
        "id": "cesOfH6UL-06",
        "colab": {
          "base_uri": "https://localhost:8080/",
          "height": 283
        },
        "outputId": "aea86e10-ca03-4da9-ecd6-2ad4aa641c9d"
      },
      "source": [
        "import matplotlib.pyplot as plt\n",
        "plt.plot([18., 18.7, 19.2, 17.8, 20.3, 22.4, 20.3, 21.2, 19.5, 20.1], label='Sensor Temp')\n",
        "plt.plot(smooth_temp, label='Smooth Temp')\n",
        "plt.legend()"
      ],
      "execution_count": 34,
      "outputs": [
        {
          "output_type": "execute_result",
          "data": {
            "text/plain": [
              "<matplotlib.legend.Legend at 0x7feacde26510>"
            ]
          },
          "metadata": {},
          "execution_count": 34
        },
        {
          "output_type": "display_data",
          "data": {
            "text/plain": [
              "<Figure size 432x288 with 1 Axes>"
            ],
            "image/png": "[encoded data removed]"
          },
          "metadata": {
            "needs_background": "light"
          }
        }
      ]
    },
    {
      "cell_type": "markdown",
      "metadata": {
        "id": "yRDQWC-vL-06"
      },
      "source": [
        "<img src=\"https://github.com/PGM-Lab/probai-2021-pyro/blob/main/Day1/Figures/blue.png?raw=1\" alt=\"Drawing\" width=2000 height=20>\n",
        "\n",
        "### <span style=\"color:red\">Exercise 3:  Temporal Extension of the Iceacream shop model </span> \n",
        "\n",
        "--- \n",
        "* **Extends** Excersise 2.\n",
        "* Assume temperature depends of the **temperature in the previous day**.\n",
        "* Assume humidity depends of the **humidity in the previous day**.\n",
        "* Assume sales depends on the **current temperature and humidity**.\n",
        "* Use the following **graphical representation for reference**.\n",
        "* Consider here that the plate representation has to be coded in Pyro using a **``for-loop``**.\n",
        "\n",
        "---\n",
        "\n",
        "<img src=\"https://github.com/PGM-Lab/probai-2021-pyro/raw/main/Day1/Figures/icecream-model-temporal.png\" alt=\"Drawing\" width=500 >\n",
        "\n",
        "\n"
      ]
    },
    {
      "cell_type": "code",
      "metadata": {
        "id": "GevI9bcjL-07"
      },
      "source": [
        "#The observatons   \n",
        "obs = {'sensor': torch.tensor([18., 18.7, 19.2, 17.8, 20.3, 22.4, 20.3, 21.2, 19.5, 20.1]),\n",
        "       'sales': torch.tensor([46., 47., 49., 44., 50., 54., 51., 52., 49., 53.]),\n",
        "       'sensor_humidity': torch.tensor([82.8, 87.6, 69.1, 74.2, 80.3, 94.2, 91.2, 92.2, 99.1, 93.2])}\n",
        "\n",
        "\n",
        "\n",
        "def model(obs):\n",
        "    mean_temp = pyro.sample('mean_temp', dist.Normal(15.0, 2.0))\n",
        "    ## Introduce a random variable \"mean_humidity\"\n",
        "    mean_humidity = pyro.sample('mean_humidity', dist.Normal(8.0, 2.0))\n",
        "\n",
        "\n",
        "    alpha = pyro.sample('alpha', dist.Normal(0.0, 100.0))\n",
        "    beta = pyro.sample('beta', dist.Normal(0.0, 100.0))\n",
        "    ## Introduce a coefficient for the humidity \"gamma\"\n",
        "    gamma = pyro.sample('gamma', dist.Normal(0.0, 100.0))\n",
        "\n",
        "    for i in range(obs['sensor'].shape[0]):\n",
        "        if i==0:\n",
        "            temp = pyro.sample(f'temp_{i}', dist.Normal(mean_temp, 2.0))\n",
        "            #Introduce the 'humidity' variable at time 0.\n",
        "\n",
        "        else:\n",
        "            temp = pyro.sample(f'temp_{i}', dist.Normal(prev_temp, 2.0))\n",
        "            #Introduce the f'humidity_{i}' variable defining the transition\n",
        "\n",
        "\n",
        "        sensor = pyro.sample(f'sensor_{i}', dist.Normal(temp, 1.0), obs=obs['sensor'][i])\n",
        "\n",
        "        #Introduce the f'sensor_humidity_{i}' variable. \n",
        "        \n",
        "        #Add the linear dependency for the rate with respect to temp and humidity (keep torch.max to avoid numerical stability issues)\n",
        "        rate = torch.max(torch.tensor(0.01),alpha + beta*temp ????)\n",
        "        sales = pyro.sample(f'sales_{i}', dist.Poisson(rate), obs=obs['sales'][i])\n",
        "\n",
        "        prev_temp = temp\n",
        "        #Keep humidity for the next time step. \n",
        "        prev_humidity = humidity\n"
      ],
      "execution_count": 35,
      "outputs": []
    },
    {
      "cell_type": "markdown",
      "metadata": {
        "id": "BOo487l4L3L1"
      },
      "source": [
        "<img src=\"https://github.com/PGM-Lab/probai-2021-pyro/blob/main/Day1/Figures/blue.png?raw=1\" alt=\"Drawing\" width=2000 height=20>\n",
        "\n",
        "---\n",
        "* We run the **(variational) inference engine** and get the results.\n",
        "\n",
        "* With PPLs, we only care about modeling, **not about the low-level details** of the machine-learning solver.\n",
        "\n",
        "---"
      ]
    },
    {
      "cell_type": "code",
      "metadata": {
        "id": "izRFQ0T3L-07",
        "cellView": "form"
      },
      "source": [
        "#@title\n",
        "#Define the guide\n",
        "def guide(obs):\n",
        "    mean = pyro.param(\"mean\", torch.mean(obs['sensor']))\n",
        "    scale = pyro.param(\"scale\", torch.tensor(1.), constraint=constraints.greater_than(0.01))\n",
        "    mean_temp = pyro.sample('mean_temp', dist.Normal(mean, scale))\n",
        "\n",
        "    meanH = pyro.param(\"meanH\", torch.mean(obs['sensor_humidity']), constraint=constraints.positive)\n",
        "    scaleH = pyro.param(\"scaleH\", torch.tensor(1.), constraint=constraints.greater_than(0.01))\n",
        "    humidity_mean = pyro.sample('mean_humidity', dist.Normal(meanH, scaleH))\n",
        "\n",
        "\n",
        "    alpha_mean = pyro.param(\"alpha_mean\", torch.mean(obs['sensor']))\n",
        "    alpha_scale = pyro.param(\"alpha_scale\", torch.tensor(1.), constraint=constraints.greater_than(0.01))\n",
        "    alpha = pyro.sample('alpha', dist.Normal(alpha_mean, alpha_scale))\n",
        "\n",
        "    beta_mean = pyro.param(\"beta_mean\", torch.tensor(0.0))\n",
        "    beta_scale = pyro.param(\"beta_scale\", torch.tensor(1.), constraint=constraints.greater_than(0.01))\n",
        "    beta = pyro.sample('beta', dist.Normal(beta_mean, beta_scale))\n",
        "\n",
        "    gamma_mean = pyro.param(\"gamma_mean\", torch.tensor(0.0))\n",
        "    gamma_scale = pyro.param(\"gamma_scale\", torch.tensor(1.), constraint=constraints.greater_than(0.01))\n",
        "    gamma = pyro.sample('gamma', dist.Normal(gamma_mean, gamma_scale))\n",
        "\n",
        "    for i in range(obs['sensor'].shape[0]):\n",
        "        mean_i = pyro.param(f'mean_{i}', obs['sensor'][i])\n",
        "        scale_i = pyro.param(f'scale_{i}', torch.tensor(1.), constraint=constraints.greater_than(0.01))\n",
        "        temp = pyro.sample(f'temp_{i}', dist.Normal(mean_i, scale_i))\n",
        "        meanH_i = pyro.param(f'meanH_{i}', obs['sensor_humidity'][i])\n",
        "        scaleH_i = pyro.param(f'scaleH_{i}', torch.tensor(1.), constraint=constraints.greater_than(0.01))\n",
        "        humidity_i = pyro.sample(f'humidity_{i}', dist.Normal(meanH_i, scaleH_i))"
      ],
      "execution_count": 36,
      "outputs": []
    },
    {
      "cell_type": "code",
      "metadata": {
        "id": "tMWwy2UNL-07",
        "colab": {
          "base_uri": "https://localhost:8080/"
        },
        "outputId": "1160a31c-43e7-4209-fd12-c0a4b9b63e7e"
      },
      "source": [
        "import time\n",
        "        \n",
        "#Run inference\n",
        "svi(model, obs, guide=guide, num_steps = 1000, lr=0.001)\n",
        "\n",
        "smooth_temp=[]\n",
        "smooth_humidity=[]\n",
        "\n",
        "for i in range(obs['sensor'].shape[0]):\n",
        "    smooth_temp.append(pyro.param(f'mean_{i}').item())\n",
        "    smooth_humidity.append(pyro.param(f'meanH_{i}').item())\n",
        "\n",
        "\n",
        "\n",
        "\n",
        "print('Finished')"
      ],
      "execution_count": 37,
      "outputs": [
        {
          "output_type": "stream",
          "name": "stdout",
          "text": [
            "Step: 0. Loss: 975.2505025863647\n",
            "Step: 100. Loss: 501.32640743255615\n",
            "Step: 200. Loss: 492.1584714651108\n",
            "Step: 300. Loss: 508.6205230951309\n",
            "Step: 400. Loss: 477.8078851699829\n",
            "Step: 500. Loss: 465.7882944345474\n",
            "Step: 600. Loss: 431.660251557827\n",
            "Step: 700. Loss: 430.0697748661041\n",
            "Step: 800. Loss: 410.5656458735466\n",
            "Step: 900. Loss: 431.8430261015892\n",
            "Finished\n"
          ]
        }
      ]
    },
    {
      "cell_type": "markdown",
      "metadata": {
        "id": "LosM2wXBMAFX"
      },
      "source": [
        "<img src=\"https://github.com/PGM-Lab/probai-2021-pyro/blob/main/Day1/Figures/blue.png?raw=1\" alt=\"Drawing\" width=2000 height=20>\n",
        "\n",
        "---\n",
        "* We can plot the observered measurements of the temperature against the **inferred real temperature** by our model. \n",
        "\n",
        "* The **recovered temperature** is much less noisy than the real one.\n",
        "\n",
        "---\n"
      ]
    },
    {
      "cell_type": "code",
      "metadata": {
        "id": "7kr1dbx-L-07",
        "colab": {
          "base_uri": "https://localhost:8080/",
          "height": 283
        },
        "outputId": "996eb68d-35b5-4b19-b55a-0d7abf7fa550"
      },
      "source": [
        "plt.plot([18., 18.7, 19.2, 17.8, 20.3, 22.4, 20.3, 21.2, 19.5, 20.1], label='Sensor Temp')\n",
        "plt.plot(smooth_temp, label='Smooth Temp')\n",
        "plt.legend()"
      ],
      "execution_count": 38,
      "outputs": [
        {
          "output_type": "execute_result",
          "data": {
            "text/plain": [
              "<matplotlib.legend.Legend at 0x7feabff84e50>"
            ]
          },
          "metadata": {},
          "execution_count": 38
        },
        {
          "output_type": "display_data",
          "data": {
            "text/plain": [
              "<Figure size 432x288 with 1 Axes>"
            ],
            "image/png": "[encoded data removed]"
          },
          "metadata": {
            "needs_background": "light"
          }
        }
      ]
    },
    {
      "cell_type": "markdown",
      "metadata": {
        "id": "QStTTd9nN56M"
      },
      "source": [
        "---\n",
        "* We can plot the observered measurements of the humidity against the **inferred real humidity** by our model. \n",
        "\n",
        "* The **recovered humidity** is much less noisy than the real one.\n",
        "\n",
        "---\n"
      ]
    },
    {
      "cell_type": "code",
      "metadata": {
        "id": "WD7n3v9oL-08",
        "colab": {
          "base_uri": "https://localhost:8080/",
          "height": 283
        },
        "outputId": "a107260d-1750-4764-bd89-54316eb564ba"
      },
      "source": [
        "humidity = torch.tensor([82.8, 87.6, 69.1, 74.2, 80.3, 94.2, 91.2, 92.2, 99.1, 93.2])\n",
        "plt.plot(humidity.detach().numpy(), label='Sensor Humidity')\n",
        "plt.plot(smooth_humidity, label='Smooth Humidity')\n",
        "plt.legend()"
      ],
      "execution_count": 39,
      "outputs": [
        {
          "output_type": "execute_result",
          "data": {
            "text/plain": [
              "<matplotlib.legend.Legend at 0x7feabff1aa10>"
            ]
          },
          "metadata": {},
          "execution_count": 39
        },
        {
          "output_type": "display_data",
          "data": {
            "text/plain": [
              "<Figure size 432x288 with 1 Axes>"
            ],
            "image/png": "[encoded data removed]"
          },
          "metadata": {
            "needs_background": "light"
          }
        }
      ]
    },
    {
      "cell_type": "markdown",
      "metadata": {
        "id": "858lPsjJOTJd"
      },
      "source": [
        "<img src=\"https://github.com/PGM-Lab/probai-2021-pyro/blob/main/Day1/Figures/blue.png?raw=1\" alt=\"Drawing\" width=2000 height=20>\n"
      ]
    }
  ]
}